{
 "cells": [
  {
   "cell_type": "code",
   "execution_count": 1,
   "metadata": {},
   "outputs": [
    {
     "name": "stderr",
     "output_type": "stream",
     "text": [
      "/Users/scottlew/miniconda3/lib/python3.6/site-packages/statsmodels/compat/pandas.py:56: FutureWarning: The pandas.core.datetools module is deprecated and will be removed in a future version. Please use the pandas.tseries module instead.\n",
      "  from pandas.core import datetools\n"
     ]
    }
   ],
   "source": [
    "import pandas as pd\n",
    "import numpy as np\n",
    "import seaborn as sns\n",
    "import matplotlib.pyplot as plt\n",
    "import pickle\n",
    "import datetime\n",
    "import requests\n",
    "import statsmodels.api as sm\n",
    "from sklearn.model_selection import train_test_split\n",
    "from sklearn.linear_model import LinearRegression\n",
    "from sklearn.ensemble import GradientBoostingRegressor\n",
    "from sklearn.ensemble import RandomForestRegressor\n",
    "from sklearn.ensemble import RandomForestClassifier\n",
    "from sklearn.preprocessing import StandardScaler\n",
    "from sklearn.model_selection import cross_val_score\n",
    "from sklearn.metrics import mean_squared_error\n",
    "from itertools import combinations\n",
    "from collections import OrderedDict \n",
    "\n",
    "%matplotlib inline"
   ]
  },
  {
   "cell_type": "markdown",
   "metadata": {},
   "source": [
    "## The goal for this project is to predict a baseball team's wins in a season using  batting and pitching statistics."
   ]
  },
  {
   "cell_type": "markdown",
   "metadata": {},
   "source": [
    "## Data was collected by web scraping using the python program ‘Beautiful Soup’. All pitching and batting statistics were taken from tables available on the website,baseball-reference.com. \n",
    "\n",
    "## For this project, statistics were taken for all MLB seasons from 1876 to 2018.  The batting statistics are made up of 28 features while the pitching statistics contain 35 features. \n"
   ]
  },
  {
   "cell_type": "markdown",
   "metadata": {},
   "source": [
    "## READ IN MLB STATS FOR 1876-2018 SEASONS "
   ]
  },
  {
   "cell_type": "code",
   "execution_count": 2,
   "metadata": {
    "collapsed": true
   },
   "outputs": [],
   "source": [
    "# read data from csv file for 2001-2018 MLB seasons\n",
    "#df = pd.read_csv('MLB_STATS_1900-2018_BP.csv')\n",
    "df = pd.read_csv('MLB_STATS_1876-2018_BP.csv')"
   ]
  },
  {
   "cell_type": "code",
   "execution_count": 3,
   "metadata": {},
   "outputs": [
    {
     "data": {
      "text/html": [
       "<div>\n",
       "<style>\n",
       "    .dataframe thead tr:only-child th {\n",
       "        text-align: right;\n",
       "    }\n",
       "\n",
       "    .dataframe thead th {\n",
       "        text-align: left;\n",
       "    }\n",
       "\n",
       "    .dataframe tbody tr th {\n",
       "        vertical-align: top;\n",
       "    }\n",
       "</style>\n",
       "<table border=\"1\" class=\"dataframe\">\n",
       "  <thead>\n",
       "    <tr style=\"text-align: right;\">\n",
       "      <th></th>\n",
       "      <th>Tm</th>\n",
       "      <th>#Bat</th>\n",
       "      <th>BatAge</th>\n",
       "      <th>R/G</th>\n",
       "      <th>G_x</th>\n",
       "      <th>PA</th>\n",
       "      <th>AB</th>\n",
       "      <th>R_x</th>\n",
       "      <th>H_x</th>\n",
       "      <th>2B</th>\n",
       "      <th>...</th>\n",
       "      <th>SO_y</th>\n",
       "      <th>SO/W</th>\n",
       "      <th>SO9</th>\n",
       "      <th>SV</th>\n",
       "      <th>W</th>\n",
       "      <th>W-L%</th>\n",
       "      <th>WHIP</th>\n",
       "      <th>WP</th>\n",
       "      <th>cSho</th>\n",
       "      <th>tSho</th>\n",
       "    </tr>\n",
       "  </thead>\n",
       "  <tbody>\n",
       "    <tr>\n",
       "      <th>0</th>\n",
       "      <td>ATH</td>\n",
       "      <td>21</td>\n",
       "      <td>26.0</td>\n",
       "      <td>6.30</td>\n",
       "      <td>60</td>\n",
       "      <td>2414</td>\n",
       "      <td>2387</td>\n",
       "      <td>378</td>\n",
       "      <td>646</td>\n",
       "      <td>79</td>\n",
       "      <td>...</td>\n",
       "      <td>22</td>\n",
       "      <td>0.54</td>\n",
       "      <td>0.4</td>\n",
       "      <td>2</td>\n",
       "      <td>14</td>\n",
       "      <td>0.237</td>\n",
       "      <td>1.498</td>\n",
       "      <td>33</td>\n",
       "      <td>1.0</td>\n",
       "      <td>1.0</td>\n",
       "    </tr>\n",
       "    <tr>\n",
       "      <th>1</th>\n",
       "      <td>BSN</td>\n",
       "      <td>17</td>\n",
       "      <td>24.7</td>\n",
       "      <td>6.73</td>\n",
       "      <td>70</td>\n",
       "      <td>2780</td>\n",
       "      <td>2722</td>\n",
       "      <td>471</td>\n",
       "      <td>723</td>\n",
       "      <td>96</td>\n",
       "      <td>...</td>\n",
       "      <td>77</td>\n",
       "      <td>0.74</td>\n",
       "      <td>1.1</td>\n",
       "      <td>7</td>\n",
       "      <td>39</td>\n",
       "      <td>0.557</td>\n",
       "      <td>1.323</td>\n",
       "      <td>46</td>\n",
       "      <td>3.0</td>\n",
       "      <td>3.0</td>\n",
       "    </tr>\n",
       "    <tr>\n",
       "      <th>2</th>\n",
       "      <td>CHC</td>\n",
       "      <td>11</td>\n",
       "      <td>25.9</td>\n",
       "      <td>9.45</td>\n",
       "      <td>66</td>\n",
       "      <td>2818</td>\n",
       "      <td>2748</td>\n",
       "      <td>624</td>\n",
       "      <td>926</td>\n",
       "      <td>131</td>\n",
       "      <td>...</td>\n",
       "      <td>51</td>\n",
       "      <td>1.76</td>\n",
       "      <td>0.8</td>\n",
       "      <td>4</td>\n",
       "      <td>52</td>\n",
       "      <td>0.788</td>\n",
       "      <td>1.075</td>\n",
       "      <td>3</td>\n",
       "      <td>8.0</td>\n",
       "      <td>9.0</td>\n",
       "    </tr>\n",
       "    <tr>\n",
       "      <th>3</th>\n",
       "      <td>CIN</td>\n",
       "      <td>13</td>\n",
       "      <td>24.5</td>\n",
       "      <td>3.66</td>\n",
       "      <td>65</td>\n",
       "      <td>2413</td>\n",
       "      <td>2372</td>\n",
       "      <td>238</td>\n",
       "      <td>555</td>\n",
       "      <td>51</td>\n",
       "      <td>...</td>\n",
       "      <td>60</td>\n",
       "      <td>1.76</td>\n",
       "      <td>0.9</td>\n",
       "      <td>0</td>\n",
       "      <td>9</td>\n",
       "      <td>0.138</td>\n",
       "      <td>1.496</td>\n",
       "      <td>28</td>\n",
       "      <td>0.0</td>\n",
       "      <td>0.0</td>\n",
       "    </tr>\n",
       "    <tr>\n",
       "      <th>4</th>\n",
       "      <td>HAR</td>\n",
       "      <td>12</td>\n",
       "      <td>26.3</td>\n",
       "      <td>6.22</td>\n",
       "      <td>69</td>\n",
       "      <td>2703</td>\n",
       "      <td>2664</td>\n",
       "      <td>429</td>\n",
       "      <td>711</td>\n",
       "      <td>96</td>\n",
       "      <td>...</td>\n",
       "      <td>114</td>\n",
       "      <td>4.22</td>\n",
       "      <td>1.6</td>\n",
       "      <td>0</td>\n",
       "      <td>47</td>\n",
       "      <td>0.691</td>\n",
       "      <td>0.957</td>\n",
       "      <td>15</td>\n",
       "      <td>11.0</td>\n",
       "      <td>11.0</td>\n",
       "    </tr>\n",
       "  </tbody>\n",
       "</table>\n",
       "<p>5 rows × 65 columns</p>\n",
       "</div>"
      ],
      "text/plain": [
       "    Tm  #Bat  BatAge   R/G  G_x    PA    AB  R_x  H_x   2B  ...   SO_y  SO/W  \\\n",
       "0  ATH    21    26.0  6.30   60  2414  2387  378  646   79  ...     22  0.54   \n",
       "1  BSN    17    24.7  6.73   70  2780  2722  471  723   96  ...     77  0.74   \n",
       "2  CHC    11    25.9  9.45   66  2818  2748  624  926  131  ...     51  1.76   \n",
       "3  CIN    13    24.5  3.66   65  2413  2372  238  555   51  ...     60  1.76   \n",
       "4  HAR    12    26.3  6.22   69  2703  2664  429  711   96  ...    114  4.22   \n",
       "\n",
       "   SO9  SV   W   W-L%   WHIP  WP  cSho  tSho  \n",
       "0  0.4   2  14  0.237  1.498  33   1.0   1.0  \n",
       "1  1.1   7  39  0.557  1.323  46   3.0   3.0  \n",
       "2  0.8   4  52  0.788  1.075   3   8.0   9.0  \n",
       "3  0.9   0   9  0.138  1.496  28   0.0   0.0  \n",
       "4  1.6   0  47  0.691  0.957  15  11.0  11.0  \n",
       "\n",
       "[5 rows x 65 columns]"
      ]
     },
     "execution_count": 3,
     "metadata": {},
     "output_type": "execute_result"
    }
   ],
   "source": [
    "df.head()"
   ]
  },
  {
   "cell_type": "code",
   "execution_count": 4,
   "metadata": {},
   "outputs": [
    {
     "data": {
      "text/plain": [
       "(2815, 65)"
      ]
     },
     "execution_count": 4,
     "metadata": {},
     "output_type": "execute_result"
    }
   ],
   "source": [
    "df.shape"
   ]
  },
  {
   "cell_type": "code",
   "execution_count": 5,
   "metadata": {},
   "outputs": [
    {
     "data": {
      "text/html": [
       "<div>\n",
       "<style>\n",
       "    .dataframe thead tr:only-child th {\n",
       "        text-align: right;\n",
       "    }\n",
       "\n",
       "    .dataframe thead th {\n",
       "        text-align: left;\n",
       "    }\n",
       "\n",
       "    .dataframe tbody tr th {\n",
       "        vertical-align: top;\n",
       "    }\n",
       "</style>\n",
       "<table border=\"1\" class=\"dataframe\">\n",
       "  <thead>\n",
       "    <tr style=\"text-align: right;\">\n",
       "      <th></th>\n",
       "      <th>Tm</th>\n",
       "      <th>#Bat</th>\n",
       "      <th>BatAge</th>\n",
       "      <th>R/G</th>\n",
       "      <th>G_x</th>\n",
       "      <th>PA</th>\n",
       "      <th>AB</th>\n",
       "      <th>R_x</th>\n",
       "      <th>H_x</th>\n",
       "      <th>2B</th>\n",
       "      <th>...</th>\n",
       "      <th>SO_y</th>\n",
       "      <th>SO/W</th>\n",
       "      <th>SO9</th>\n",
       "      <th>SV</th>\n",
       "      <th>W</th>\n",
       "      <th>W-L%</th>\n",
       "      <th>WHIP</th>\n",
       "      <th>WP</th>\n",
       "      <th>cSho</th>\n",
       "      <th>tSho</th>\n",
       "    </tr>\n",
       "  </thead>\n",
       "  <tbody>\n",
       "    <tr>\n",
       "      <th>2810</th>\n",
       "      <td>STL</td>\n",
       "      <td>49</td>\n",
       "      <td>28.0</td>\n",
       "      <td>4.69</td>\n",
       "      <td>162</td>\n",
       "      <td>6200</td>\n",
       "      <td>5498</td>\n",
       "      <td>759</td>\n",
       "      <td>1369</td>\n",
       "      <td>248</td>\n",
       "      <td>...</td>\n",
       "      <td>1337</td>\n",
       "      <td>2.25</td>\n",
       "      <td>8.3</td>\n",
       "      <td>43</td>\n",
       "      <td>88</td>\n",
       "      <td>0.543</td>\n",
       "      <td>1.338</td>\n",
       "      <td>63</td>\n",
       "      <td>1.0</td>\n",
       "      <td>8.0</td>\n",
       "    </tr>\n",
       "    <tr>\n",
       "      <th>2811</th>\n",
       "      <td>TBR</td>\n",
       "      <td>54</td>\n",
       "      <td>27.1</td>\n",
       "      <td>4.42</td>\n",
       "      <td>162</td>\n",
       "      <td>6195</td>\n",
       "      <td>5475</td>\n",
       "      <td>716</td>\n",
       "      <td>1415</td>\n",
       "      <td>274</td>\n",
       "      <td>...</td>\n",
       "      <td>1421</td>\n",
       "      <td>2.84</td>\n",
       "      <td>8.8</td>\n",
       "      <td>52</td>\n",
       "      <td>90</td>\n",
       "      <td>0.556</td>\n",
       "      <td>1.199</td>\n",
       "      <td>55</td>\n",
       "      <td>0.0</td>\n",
       "      <td>14.0</td>\n",
       "    </tr>\n",
       "    <tr>\n",
       "      <th>2812</th>\n",
       "      <td>TEX</td>\n",
       "      <td>50</td>\n",
       "      <td>27.4</td>\n",
       "      <td>4.55</td>\n",
       "      <td>162</td>\n",
       "      <td>6163</td>\n",
       "      <td>5453</td>\n",
       "      <td>737</td>\n",
       "      <td>1308</td>\n",
       "      <td>266</td>\n",
       "      <td>...</td>\n",
       "      <td>1121</td>\n",
       "      <td>2.28</td>\n",
       "      <td>7.1</td>\n",
       "      <td>42</td>\n",
       "      <td>67</td>\n",
       "      <td>0.414</td>\n",
       "      <td>1.403</td>\n",
       "      <td>57</td>\n",
       "      <td>0.0</td>\n",
       "      <td>5.0</td>\n",
       "    </tr>\n",
       "    <tr>\n",
       "      <th>2813</th>\n",
       "      <td>TOR</td>\n",
       "      <td>63</td>\n",
       "      <td>28.9</td>\n",
       "      <td>4.38</td>\n",
       "      <td>162</td>\n",
       "      <td>6076</td>\n",
       "      <td>5477</td>\n",
       "      <td>709</td>\n",
       "      <td>1336</td>\n",
       "      <td>320</td>\n",
       "      <td>...</td>\n",
       "      <td>1298</td>\n",
       "      <td>2.36</td>\n",
       "      <td>8.1</td>\n",
       "      <td>39</td>\n",
       "      <td>73</td>\n",
       "      <td>0.451</td>\n",
       "      <td>1.414</td>\n",
       "      <td>71</td>\n",
       "      <td>0.0</td>\n",
       "      <td>3.0</td>\n",
       "    </tr>\n",
       "    <tr>\n",
       "      <th>2814</th>\n",
       "      <td>WSN</td>\n",
       "      <td>53</td>\n",
       "      <td>27.6</td>\n",
       "      <td>4.76</td>\n",
       "      <td>162</td>\n",
       "      <td>6288</td>\n",
       "      <td>5517</td>\n",
       "      <td>771</td>\n",
       "      <td>1402</td>\n",
       "      <td>284</td>\n",
       "      <td>...</td>\n",
       "      <td>1417</td>\n",
       "      <td>2.91</td>\n",
       "      <td>8.8</td>\n",
       "      <td>40</td>\n",
       "      <td>82</td>\n",
       "      <td>0.506</td>\n",
       "      <td>1.250</td>\n",
       "      <td>42</td>\n",
       "      <td>1.0</td>\n",
       "      <td>7.0</td>\n",
       "    </tr>\n",
       "  </tbody>\n",
       "</table>\n",
       "<p>5 rows × 65 columns</p>\n",
       "</div>"
      ],
      "text/plain": [
       "       Tm  #Bat  BatAge   R/G  G_x    PA    AB  R_x   H_x   2B  ...   SO_y  \\\n",
       "2810  STL    49    28.0  4.69  162  6200  5498  759  1369  248  ...   1337   \n",
       "2811  TBR    54    27.1  4.42  162  6195  5475  716  1415  274  ...   1421   \n",
       "2812  TEX    50    27.4  4.55  162  6163  5453  737  1308  266  ...   1121   \n",
       "2813  TOR    63    28.9  4.38  162  6076  5477  709  1336  320  ...   1298   \n",
       "2814  WSN    53    27.6  4.76  162  6288  5517  771  1402  284  ...   1417   \n",
       "\n",
       "      SO/W  SO9  SV   W   W-L%   WHIP  WP  cSho  tSho  \n",
       "2810  2.25  8.3  43  88  0.543  1.338  63   1.0   8.0  \n",
       "2811  2.84  8.8  52  90  0.556  1.199  55   0.0  14.0  \n",
       "2812  2.28  7.1  42  67  0.414  1.403  57   0.0   5.0  \n",
       "2813  2.36  8.1  39  73  0.451  1.414  71   0.0   3.0  \n",
       "2814  2.91  8.8  40  82  0.506  1.250  42   1.0   7.0  \n",
       "\n",
       "[5 rows x 65 columns]"
      ]
     },
     "execution_count": 5,
     "metadata": {},
     "output_type": "execute_result"
    }
   ],
   "source": [
    "df.tail()"
   ]
  },
  {
   "cell_type": "code",
   "execution_count": 6,
   "metadata": {},
   "outputs": [
    {
     "data": {
      "text/plain": [
       "Tm         object\n",
       "#Bat        int64\n",
       "BatAge    float64\n",
       "R/G       float64\n",
       "G_x         int64\n",
       "PA          int64\n",
       "AB          int64\n",
       "R_x         int64\n",
       "H_x         int64\n",
       "2B          int64\n",
       "3B          int64\n",
       "HR_x        int64\n",
       "RBI       float64\n",
       "SB        float64\n",
       "CS        float64\n",
       "BB_x        int64\n",
       "SO_x        int64\n",
       "BA        float64\n",
       "OBP       float64\n",
       "SLG       float64\n",
       "OPS       float64\n",
       "OPS+        int64\n",
       "TB          int64\n",
       "GDP       float64\n",
       "HBP_x     float64\n",
       "SH        float64\n",
       "SF        float64\n",
       "IBB_x     float64\n",
       "LOB_x     float64\n",
       "Year        int64\n",
       "           ...   \n",
       "CG          int64\n",
       "ER          int64\n",
       "ERA       float64\n",
       "ERA+        int64\n",
       "FIP       float64\n",
       "G_y         int64\n",
       "GF          int64\n",
       "GS          int64\n",
       "H_y         int64\n",
       "H9        float64\n",
       "HBP_y     float64\n",
       "HR_y        int64\n",
       "HR9       float64\n",
       "IBB_y     float64\n",
       "IP        float64\n",
       "L           int64\n",
       "LOB_y     float64\n",
       "PAge      float64\n",
       "R_y         int64\n",
       "RA/G      float64\n",
       "SO_y        int64\n",
       "SO/W      float64\n",
       "SO9       float64\n",
       "SV          int64\n",
       "W           int64\n",
       "W-L%      float64\n",
       "WHIP      float64\n",
       "WP          int64\n",
       "cSho      float64\n",
       "tSho      float64\n",
       "Length: 65, dtype: object"
      ]
     },
     "execution_count": 6,
     "metadata": {},
     "output_type": "execute_result"
    }
   ],
   "source": [
    "df.dtypes"
   ]
  },
  {
   "cell_type": "code",
   "execution_count": 7,
   "metadata": {},
   "outputs": [
    {
     "data": {
      "text/plain": [
       "Index(['Tm', '#Bat', 'BatAge', 'R/G', 'G_x', 'PA', 'AB', 'R_x', 'H_x', '2B',\n",
       "       '3B', 'HR_x', 'RBI', 'SB', 'CS', 'BB_x', 'SO_x', 'BA', 'OBP', 'SLG',\n",
       "       'OPS', 'OPS+', 'TB', 'GDP', 'HBP_x', 'SH', 'SF', 'IBB_x', 'LOB_x',\n",
       "       'Year', '#P', 'BB_y', 'BB9', 'BF', 'BK', 'CG', 'ER', 'ERA', 'ERA+',\n",
       "       'FIP', 'G_y', 'GF', 'GS', 'H_y', 'H9', 'HBP_y', 'HR_y', 'HR9', 'IBB_y',\n",
       "       'IP', 'L', 'LOB_y', 'PAge', 'R_y', 'RA/G', 'SO_y', 'SO/W', 'SO9', 'SV',\n",
       "       'W', 'W-L%', 'WHIP', 'WP', 'cSho', 'tSho'],\n",
       "      dtype='object')"
      ]
     },
     "execution_count": 7,
     "metadata": {},
     "output_type": "execute_result"
    }
   ],
   "source": [
    "df.columns"
   ]
  },
  {
   "cell_type": "code",
   "execution_count": 8,
   "metadata": {},
   "outputs": [
    {
     "data": {
      "text/plain": [
       "1884    33\n",
       "2017    30\n",
       "2015    30\n",
       "1998    30\n",
       "2002    30\n",
       "2004    30\n",
       "2006    30\n",
       "2008    30\n",
       "2010    30\n",
       "2012    30\n",
       "2014    30\n",
       "2016    30\n",
       "2018    30\n",
       "2005    30\n",
       "2013    30\n",
       "1999    30\n",
       "2001    30\n",
       "2003    30\n",
       "2007    30\n",
       "2009    30\n",
       "2011    30\n",
       "1993    28\n",
       "1997    28\n",
       "1996    28\n",
       "1994    28\n",
       "1995    28\n",
       "1992    26\n",
       "1990    26\n",
       "1988    26\n",
       "1986    26\n",
       "        ..\n",
       "1941    16\n",
       "1905    16\n",
       "1911    16\n",
       "1901    16\n",
       "1883    16\n",
       "1957    16\n",
       "1955    16\n",
       "1953    16\n",
       "1951    16\n",
       "1947    16\n",
       "1949    16\n",
       "1885    16\n",
       "1887    16\n",
       "1889    16\n",
       "1882    14\n",
       "1892    12\n",
       "1897    12\n",
       "1895    12\n",
       "1893    12\n",
       "1894    12\n",
       "1896    12\n",
       "1898    12\n",
       "1899    12\n",
       "1881     8\n",
       "1900     8\n",
       "1879     8\n",
       "1880     8\n",
       "1876     8\n",
       "1877     6\n",
       "1878     6\n",
       "Name: Year, Length: 142, dtype: int64"
      ]
     },
     "execution_count": 8,
     "metadata": {},
     "output_type": "execute_result"
    }
   ],
   "source": [
    "df.Year.value_counts()"
   ]
  },
  {
   "cell_type": "markdown",
   "metadata": {},
   "source": [
    "## Examine the data for null values."
   ]
  },
  {
   "cell_type": "code",
   "execution_count": 9,
   "metadata": {},
   "outputs": [
    {
     "data": {
      "text/plain": [
       "Tm           0\n",
       "#Bat         0\n",
       "BatAge       0\n",
       "R/G          0\n",
       "G_x          0\n",
       "PA           0\n",
       "AB           0\n",
       "R_x          0\n",
       "H_x          0\n",
       "2B           0\n",
       "3B           0\n",
       "HR_x         0\n",
       "RBI         15\n",
       "SB         123\n",
       "CS         717\n",
       "BB_x         0\n",
       "SO_x         0\n",
       "BA           0\n",
       "OBP          0\n",
       "SLG          0\n",
       "OPS          0\n",
       "OPS+         0\n",
       "TB           0\n",
       "GDP        909\n",
       "HBP_x      110\n",
       "SH         253\n",
       "SF        1197\n",
       "IBB_x      989\n",
       "LOB_x      445\n",
       "Year         0\n",
       "          ... \n",
       "CG           0\n",
       "ER           0\n",
       "ERA          0\n",
       "ERA+         0\n",
       "FIP          0\n",
       "G_y          0\n",
       "GF           0\n",
       "GS           0\n",
       "H_y          0\n",
       "H9           0\n",
       "HBP_y      110\n",
       "HR_y         0\n",
       "HR9          0\n",
       "IBB_y      989\n",
       "IP           0\n",
       "L            0\n",
       "LOB_y      445\n",
       "PAge         0\n",
       "R_y          0\n",
       "RA/G         0\n",
       "SO_y         0\n",
       "SO/W         0\n",
       "SO9          0\n",
       "SV           0\n",
       "W            0\n",
       "W-L%         0\n",
       "WHIP         0\n",
       "WP           0\n",
       "cSho         8\n",
       "tSho         8\n",
       "Length: 65, dtype: int64"
      ]
     },
     "execution_count": 9,
     "metadata": {},
     "output_type": "execute_result"
    }
   ],
   "source": [
    "#df.SV.isna().sum()\n",
    "df.isnull().sum()"
   ]
  },
  {
   "cell_type": "markdown",
   "metadata": {},
   "source": [
    "## Study The Correlation Of Features With Wins."
   ]
  },
  {
   "cell_type": "markdown",
   "metadata": {},
   "source": [
    "##  For a regression analysis to predict wins, it would be ideal to select those features that have a high correlation with wins.\n"
   ]
  },
  {
   "cell_type": "code",
   "execution_count": 10,
   "metadata": {
    "collapsed": true
   },
   "outputs": [],
   "source": [
    "correlation = df.corr()"
   ]
  },
  {
   "cell_type": "code",
   "execution_count": 11,
   "metadata": {},
   "outputs": [
    {
     "data": {
      "text/plain": [
       "#Bat      0.178940\n",
       "BatAge    0.352487\n",
       "R/G       0.224332\n",
       "G_x       0.582830\n",
       "PA        0.629993\n",
       "AB        0.599076\n",
       "R_x       0.626056\n",
       "H_x       0.649828\n",
       "2B        0.509120\n",
       "3B        0.014362\n",
       "HR_x      0.447111\n",
       "RBI       0.648062\n",
       "SB       -0.008447\n",
       "CS       -0.016638\n",
       "BB_x      0.586737\n",
       "SO_x      0.304754\n",
       "BA        0.353061\n",
       "OBP       0.533598\n",
       "SLG       0.521056\n",
       "OPS       0.564913\n",
       "OPS+      0.549647\n",
       "TB        0.649951\n",
       "GDP       0.077197\n",
       "HBP_x     0.127109\n",
       "SH       -0.018893\n",
       "SF        0.354130\n",
       "IBB_x     0.354443\n",
       "LOB_x     0.359822\n",
       "Year      0.352521\n",
       "#P        0.186490\n",
       "            ...   \n",
       "CG       -0.175771\n",
       "ER        0.081558\n",
       "ERA      -0.242158\n",
       "ERA+      0.563912\n",
       "FIP      -0.025223\n",
       "G_y       0.582832\n",
       "GF        0.356504\n",
       "GS        0.582657\n",
       "H_y       0.240439\n",
       "H9       -0.487337\n",
       "HBP_y    -0.092135\n",
       "HR_y      0.256221\n",
       "HR9       0.207969\n",
       "IBB_y    -0.050684\n",
       "IP        0.612138\n",
       "L        -0.332367\n",
       "LOB_y     0.042761\n",
       "PAge      0.390851\n",
       "R_y      -0.162247\n",
       "RA/G     -0.607445\n",
       "SO_y      0.441019\n",
       "SO/W      0.148624\n",
       "SO9       0.334545\n",
       "SV        0.482644\n",
       "W         1.000000\n",
       "W-L%      0.819723\n",
       "WHIP     -0.336374\n",
       "WP       -0.107353\n",
       "cSho      0.272929\n",
       "tSho      0.508369\n",
       "Name: W, Length: 64, dtype: float64"
      ]
     },
     "execution_count": 11,
     "metadata": {},
     "output_type": "execute_result"
    }
   ],
   "source": [
    "W_corr = correlation.W\n",
    "W_corr"
   ]
  },
  {
   "cell_type": "code",
   "execution_count": 12,
   "metadata": {},
   "outputs": [
    {
     "data": {
      "text/plain": [
       "pandas.core.series.Series"
      ]
     },
     "execution_count": 12,
     "metadata": {},
     "output_type": "execute_result"
    }
   ],
   "source": [
    "type(W_corr)"
   ]
  },
  {
   "cell_type": "markdown",
   "metadata": {},
   "source": [
    "## Correlation of features with wins sorted to display positive and negative correlation."
   ]
  },
  {
   "cell_type": "code",
   "execution_count": 13,
   "metadata": {},
   "outputs": [
    {
     "data": {
      "text/plain": [
       "RA/G    -0.607445\n",
       "H9      -0.487337\n",
       "WHIP    -0.336374\n",
       "L       -0.332367\n",
       "ERA     -0.242158\n",
       "CG      -0.175771\n",
       "R_y     -0.162247\n",
       "WP      -0.107353\n",
       "HBP_y   -0.092135\n",
       "IBB_y   -0.050684\n",
       "FIP     -0.025223\n",
       "SH      -0.018893\n",
       "CS      -0.016638\n",
       "SB      -0.008447\n",
       "3B       0.014362\n",
       "BB9      0.037164\n",
       "LOB_y    0.042761\n",
       "GDP      0.077197\n",
       "ER       0.081558\n",
       "BK       0.119359\n",
       "HBP_x    0.127109\n",
       "SO/W     0.148624\n",
       "#Bat     0.178940\n",
       "#P       0.186490\n",
       "HR9      0.207969\n",
       "R/G      0.224332\n",
       "BB_y     0.237272\n",
       "H_y      0.240439\n",
       "HR_y     0.256221\n",
       "cSho     0.272929\n",
       "           ...   \n",
       "BA       0.353061\n",
       "SF       0.354130\n",
       "IBB_x    0.354443\n",
       "GF       0.356504\n",
       "LOB_x    0.359822\n",
       "PAge     0.390851\n",
       "SO_y     0.441019\n",
       "HR_x     0.447111\n",
       "SV       0.482644\n",
       "BF       0.503418\n",
       "tSho     0.508369\n",
       "2B       0.509120\n",
       "SLG      0.521056\n",
       "OBP      0.533598\n",
       "OPS+     0.549647\n",
       "ERA+     0.563912\n",
       "OPS      0.564913\n",
       "GS       0.582657\n",
       "G_x      0.582830\n",
       "G_y      0.582832\n",
       "BB_x     0.586737\n",
       "AB       0.599076\n",
       "IP       0.612138\n",
       "R_x      0.626056\n",
       "PA       0.629993\n",
       "RBI      0.648062\n",
       "H_x      0.649828\n",
       "TB       0.649951\n",
       "W-L%     0.819723\n",
       "W        1.000000\n",
       "Name: W, Length: 64, dtype: float64"
      ]
     },
     "execution_count": 13,
     "metadata": {},
     "output_type": "execute_result"
    }
   ],
   "source": [
    "W_corr.sort_values(ascending=True)"
   ]
  },
  {
   "cell_type": "markdown",
   "metadata": {},
   "source": [
    "## As shown in the above table, Runs Allowed Per Game (RA/G), and hits allowed per innings  pitched multiplied by 9 (H9) have a negative correlation with a team’s wins, which makes perfect sense. "
   ]
  },
  {
   "cell_type": "code",
   "execution_count": 14,
   "metadata": {},
   "outputs": [
    {
     "data": {
      "text/plain": [
       "W        1.000000\n",
       "W-L%     0.819723\n",
       "TB       0.649951\n",
       "H_x      0.649828\n",
       "RBI      0.648062\n",
       "PA       0.629993\n",
       "R_x      0.626056\n",
       "IP       0.612138\n",
       "AB       0.599076\n",
       "BB_x     0.586737\n",
       "G_y      0.582832\n",
       "G_x      0.582830\n",
       "GS       0.582657\n",
       "OPS      0.564913\n",
       "ERA+     0.563912\n",
       "OPS+     0.549647\n",
       "OBP      0.533598\n",
       "SLG      0.521056\n",
       "2B       0.509120\n",
       "tSho     0.508369\n",
       "BF       0.503418\n",
       "SV       0.482644\n",
       "HR_x     0.447111\n",
       "SO_y     0.441019\n",
       "PAge     0.390851\n",
       "LOB_x    0.359822\n",
       "GF       0.356504\n",
       "IBB_x    0.354443\n",
       "SF       0.354130\n",
       "BA       0.353061\n",
       "           ...   \n",
       "cSho     0.272929\n",
       "HR_y     0.256221\n",
       "H_y      0.240439\n",
       "BB_y     0.237272\n",
       "R/G      0.224332\n",
       "HR9      0.207969\n",
       "#P       0.186490\n",
       "#Bat     0.178940\n",
       "SO/W     0.148624\n",
       "HBP_x    0.127109\n",
       "BK       0.119359\n",
       "ER       0.081558\n",
       "GDP      0.077197\n",
       "LOB_y    0.042761\n",
       "BB9      0.037164\n",
       "3B       0.014362\n",
       "SB      -0.008447\n",
       "CS      -0.016638\n",
       "SH      -0.018893\n",
       "FIP     -0.025223\n",
       "IBB_y   -0.050684\n",
       "HBP_y   -0.092135\n",
       "WP      -0.107353\n",
       "R_y     -0.162247\n",
       "CG      -0.175771\n",
       "ERA     -0.242158\n",
       "L       -0.332367\n",
       "WHIP    -0.336374\n",
       "H9      -0.487337\n",
       "RA/G    -0.607445\n",
       "Name: W, Length: 64, dtype: float64"
      ]
     },
     "execution_count": 14,
     "metadata": {},
     "output_type": "execute_result"
    }
   ],
   "source": [
    "W_corr.sort_values(ascending=False)"
   ]
  },
  {
   "cell_type": "markdown",
   "metadata": {},
   "source": [
    "## As shown in the above table, Total bases(TB), batting hits(H_x), runs scored (R_x), and runs batted in (RBI) all have a positive correlation with a team’s wins. Total bases (TB) is the sum of all bases obtained from singles, doubles, triples, and home runs. RBI is defined as a  statistic in baseball that measure the total number of runs a hitter generates off of their at-bats with exception to runs scored due to errors by the fielding team.\n"
   ]
  },
  {
   "cell_type": "code",
   "execution_count": 15,
   "metadata": {},
   "outputs": [
    {
     "data": {
      "text/plain": [
       "Index(['Tm', '#Bat', 'BatAge', 'R/G', 'G_x', 'PA', 'AB', 'R_x', 'H_x', '2B',\n",
       "       '3B', 'HR_x', 'RBI', 'SB', 'CS', 'BB_x', 'SO_x', 'BA', 'OBP', 'SLG',\n",
       "       'OPS', 'OPS+', 'TB', 'GDP', 'HBP_x', 'SH', 'SF', 'IBB_x', 'LOB_x',\n",
       "       'Year', '#P', 'BB_y', 'BB9', 'BF', 'BK', 'CG', 'ER', 'ERA', 'ERA+',\n",
       "       'FIP', 'G_y', 'GF', 'GS', 'H_y', 'H9', 'HBP_y', 'HR_y', 'HR9', 'IBB_y',\n",
       "       'IP', 'L', 'LOB_y', 'PAge', 'R_y', 'RA/G', 'SO_y', 'SO/W', 'SO9', 'SV',\n",
       "       'W', 'W-L%', 'WHIP', 'WP', 'cSho', 'tSho'],\n",
       "      dtype='object')"
      ]
     },
     "execution_count": 15,
     "metadata": {},
     "output_type": "execute_result"
    }
   ],
   "source": [
    "df.columns"
   ]
  },
  {
   "cell_type": "markdown",
   "metadata": {},
   "source": [
    "## Note: R_x stands for runs scored by batting while R_y stands for runs allowed."
   ]
  },
  {
   "cell_type": "markdown",
   "metadata": {},
   "source": [
    "## Exploratory Data Analysis"
   ]
  },
  {
   "cell_type": "markdown",
   "metadata": {},
   "source": [
    "## Scatter plots of several variables showing a positive or negative correlation with the target variable, wins, are shown below."
   ]
  },
  {
   "cell_type": "code",
   "execution_count": 16,
   "metadata": {},
   "outputs": [
    {
     "data": {
      "text/plain": [
       "<matplotlib.text.Text at 0x1169d6b70>"
      ]
     },
     "execution_count": 16,
     "metadata": {},
     "output_type": "execute_result"
    },
    {
     "data": {
      "image/png": "[encoded data removed]",
      "text/plain": [
       "<matplotlib.figure.Figure at 0x1169af160>"
      ]
     },
     "metadata": {},
     "output_type": "display_data"
    }
   ],
   "source": [
    "plt.figure(figsize = [9,6]) # [width, height]\n",
    "plt.title('MLB 1876-2018',weight = 'bold', size =20)\n",
    "sns.regplot(x=\"H_x\", y=\"W\", data = df)\n",
    "plt.xlabel('Hits', weight = 'bold',size =18)\n",
    "plt.ylabel('Wins', weight = 'bold', size=18)\n",
    "#plt.savefig('MLB_W_Hits.png')"
   ]
  },
  {
   "cell_type": "markdown",
   "metadata": {},
   "source": [
    "## Positive correlation of batting hits with wins."
   ]
  },
  {
   "cell_type": "code",
   "execution_count": 17,
   "metadata": {},
   "outputs": [
    {
     "data": {
      "text/plain": [
       "<matplotlib.text.Text at 0x11748eda0>"
      ]
     },
     "execution_count": 17,
     "metadata": {},
     "output_type": "execute_result"
    },
    {
     "data": {
      "image/png": "[encoded data removed]",
      "text/plain": [
       "<matplotlib.figure.Figure at 0x10bb23978>"
      ]
     },
     "metadata": {},
     "output_type": "display_data"
    }
   ],
   "source": [
    "plt.figure(figsize = [9,6]) # [width, height]\n",
    "#plt.title('MLB 1876-2018',weight = 'bold', size =20)\n",
    "sns.regplot(x=\"ERA\", y=\"W\", data = df)\n",
    "plt.xlabel('Earned Runs Average', weight = 'bold',size =18)\n",
    "plt.ylabel('Wins', weight = 'bold', size=18)\n",
    "#plt.savefig('MLB_W_ERA.png')"
   ]
  },
  {
   "cell_type": "markdown",
   "metadata": {},
   "source": [
    "## And, wins are negatively correlated with Earned Run Average (ERA)."
   ]
  },
  {
   "cell_type": "code",
   "execution_count": 18,
   "metadata": {},
   "outputs": [
    {
     "data": {
      "text/plain": [
       "<matplotlib.text.Text at 0x11709c7f0>"
      ]
     },
     "execution_count": 18,
     "metadata": {},
     "output_type": "execute_result"
    },
    {
     "data": {
      "image/png": "[encoded data removed]",
      "text/plain": [
       "<matplotlib.figure.Figure at 0x11748e128>"
      ]
     },
     "metadata": {},
     "output_type": "display_data"
    }
   ],
   "source": [
    "plt.figure(figsize = [9,6]) # [width, height]\n",
    "#plt.title('MLB 1876-2018',weight = 'bold', size =20)\n",
    "sns.regplot(x=\"R_x\", y=\"W\", data = df)\n",
    "plt.xlabel('Runs', weight = 'bold',size =18)\n",
    "plt.ylabel('Wins', weight = 'bold', size=18)\n",
    "#plt.savefig('MLB_W_Runs.png')"
   ]
  },
  {
   "cell_type": "code",
   "execution_count": 19,
   "metadata": {},
   "outputs": [
    {
     "data": {
      "text/plain": [
       "<matplotlib.text.Text at 0x11746d4a8>"
      ]
     },
     "execution_count": 19,
     "metadata": {},
     "output_type": "execute_result"
    },
    {
     "data": {
      "image/png": "[encoded data removed]",
      "text/plain": [
       "<matplotlib.figure.Figure at 0x1175544e0>"
      ]
     },
     "metadata": {},
     "output_type": "display_data"
    }
   ],
   "source": [
    "plt.figure(figsize = [9,6]) # [width, height]\n",
    "#plt.title('MLB 1876-2018',weight = 'bold', size =20)\n",
    "sns.regplot(x=\"PAge\", y=\"W\", data = df)\n",
    "plt.xlabel('Pitcher Age', weight = 'bold',size =18)\n",
    "plt.ylabel('Wins', weight = 'bold', size=18)\n",
    "#plt.savefig('MLB_W_PitchAge.png')"
   ]
  },
  {
   "cell_type": "markdown",
   "metadata": {
    "collapsed": true
   },
   "source": [
    "## No surprise. Wins are positively correlated with runs. \n",
    "\n",
    "## The team wins are weakly positively correlated with the team's pitchers average age which seems to imply that experienced pitchers perform better than their younger counterparts. However, the pitcher's age has only a weak correlation with most of the other pitching statistics. For instance, as shown below in the graph of pitcher's age vs. strikeouts pitched, the correlation between the pitchers age and strikeouts thrown is less than 0.5 for these features."
   ]
  },
  {
   "cell_type": "code",
   "execution_count": 20,
   "metadata": {},
   "outputs": [
    {
     "data": {
      "text/plain": [
       "<seaborn.axisgrid.JointGrid at 0x116963f98>"
      ]
     },
     "execution_count": 20,
     "metadata": {},
     "output_type": "execute_result"
    },
    {
     "data": {
      "image/png": "[encoded data removed]",
      "text/plain": [
       "<matplotlib.figure.Figure at 0x116963c50>"
      ]
     },
     "metadata": {},
     "output_type": "display_data"
    }
   ],
   "source": [
    "sns.jointplot(data=df,x='PAge', y='SO_y',kind='reg')\n",
    "#plt.savefig('MLB_SO_PitchAge.png')"
   ]
  },
  {
   "cell_type": "code",
   "execution_count": 21,
   "metadata": {
    "collapsed": true
   },
   "outputs": [],
   "source": [
    "predictors = ['W','#Bat','BatAge','G_x','PA','AB', 'R_x','H_x','2B','HR_x']\n",
    " \n",
    "df_1 = df[predictors]"
   ]
  },
  {
   "cell_type": "markdown",
   "metadata": {},
   "source": [
    "## Heatmap for display of correlation of variables with wins.\n",
    "\n",
    "## Features that have a strong positive correlation with wins are shaded more purple, while those features that have a negative correlation have a darker blue color.\n"
   ]
  },
  {
   "cell_type": "code",
   "execution_count": 22,
   "metadata": {},
   "outputs": [
    {
     "data": {
      "text/plain": [
       "<matplotlib.axes._subplots.AxesSubplot at 0x1174ac128>"
      ]
     },
     "execution_count": 22,
     "metadata": {},
     "output_type": "execute_result"
    },
    {
     "data": {
      "image/png": "[encoded data removed]",
      "text/plain": [
       "<matplotlib.figure.Figure at 0x1158be240>"
      ]
     },
     "metadata": {},
     "output_type": "display_data"
    }
   ],
   "source": [
    "%matplotlib inline \n",
    "corr = df_1.corr()\n",
    "plt.figure(figsize = [9,6]) \n",
    "plt.tick_params(labelsize=15)\n",
    "sns.heatmap(corr, cmap= sns.diverging_palette(220, 320, n=15),\n",
    "            xticklabels=corr.columns.values,\n",
    "            yticklabels=corr.columns.values)\n",
    "#plt.savefig('MLB_W_hmap_1.png')"
   ]
  },
  {
   "cell_type": "code",
   "execution_count": 23,
   "metadata": {},
   "outputs": [
    {
     "data": {
      "text/html": [
       "<div>\n",
       "<style>\n",
       "    .dataframe thead tr:only-child th {\n",
       "        text-align: right;\n",
       "    }\n",
       "\n",
       "    .dataframe thead th {\n",
       "        text-align: left;\n",
       "    }\n",
       "\n",
       "    .dataframe tbody tr th {\n",
       "        vertical-align: top;\n",
       "    }\n",
       "</style>\n",
       "<table border=\"1\" class=\"dataframe\">\n",
       "  <thead>\n",
       "    <tr style=\"text-align: right;\">\n",
       "      <th></th>\n",
       "      <th>W</th>\n",
       "      <th>#Bat</th>\n",
       "      <th>BatAge</th>\n",
       "      <th>G_x</th>\n",
       "      <th>PA</th>\n",
       "      <th>AB</th>\n",
       "      <th>R_x</th>\n",
       "      <th>H_x</th>\n",
       "      <th>2B</th>\n",
       "      <th>HR_x</th>\n",
       "    </tr>\n",
       "  </thead>\n",
       "  <tbody>\n",
       "    <tr>\n",
       "      <th>W</th>\n",
       "      <td>1.000000</td>\n",
       "      <td>0.178940</td>\n",
       "      <td>0.352487</td>\n",
       "      <td>0.582830</td>\n",
       "      <td>0.629993</td>\n",
       "      <td>0.599076</td>\n",
       "      <td>0.626056</td>\n",
       "      <td>0.649828</td>\n",
       "      <td>0.509120</td>\n",
       "      <td>0.447111</td>\n",
       "    </tr>\n",
       "    <tr>\n",
       "      <th>#Bat</th>\n",
       "      <td>0.178940</td>\n",
       "      <td>1.000000</td>\n",
       "      <td>0.258566</td>\n",
       "      <td>0.595320</td>\n",
       "      <td>0.579680</td>\n",
       "      <td>0.577388</td>\n",
       "      <td>0.126389</td>\n",
       "      <td>0.406306</td>\n",
       "      <td>0.548037</td>\n",
       "      <td>0.648376</td>\n",
       "    </tr>\n",
       "    <tr>\n",
       "      <th>BatAge</th>\n",
       "      <td>0.352487</td>\n",
       "      <td>0.258566</td>\n",
       "      <td>1.000000</td>\n",
       "      <td>0.356100</td>\n",
       "      <td>0.390164</td>\n",
       "      <td>0.368613</td>\n",
       "      <td>0.286743</td>\n",
       "      <td>0.395255</td>\n",
       "      <td>0.374820</td>\n",
       "      <td>0.319800</td>\n",
       "    </tr>\n",
       "    <tr>\n",
       "      <th>G_x</th>\n",
       "      <td>0.582830</td>\n",
       "      <td>0.595320</td>\n",
       "      <td>0.356100</td>\n",
       "      <td>1.000000</td>\n",
       "      <td>0.979475</td>\n",
       "      <td>0.979470</td>\n",
       "      <td>0.428928</td>\n",
       "      <td>0.806721</td>\n",
       "      <td>0.611673</td>\n",
       "      <td>0.517051</td>\n",
       "    </tr>\n",
       "    <tr>\n",
       "      <th>PA</th>\n",
       "      <td>0.629993</td>\n",
       "      <td>0.579680</td>\n",
       "      <td>0.390164</td>\n",
       "      <td>0.979475</td>\n",
       "      <td>1.000000</td>\n",
       "      <td>0.990543</td>\n",
       "      <td>0.562848</td>\n",
       "      <td>0.883688</td>\n",
       "      <td>0.690704</td>\n",
       "      <td>0.564084</td>\n",
       "    </tr>\n",
       "    <tr>\n",
       "      <th>AB</th>\n",
       "      <td>0.599076</td>\n",
       "      <td>0.577388</td>\n",
       "      <td>0.368613</td>\n",
       "      <td>0.979470</td>\n",
       "      <td>0.990543</td>\n",
       "      <td>1.000000</td>\n",
       "      <td>0.541059</td>\n",
       "      <td>0.882526</td>\n",
       "      <td>0.688636</td>\n",
       "      <td>0.560683</td>\n",
       "    </tr>\n",
       "    <tr>\n",
       "      <th>R_x</th>\n",
       "      <td>0.626056</td>\n",
       "      <td>0.126389</td>\n",
       "      <td>0.286743</td>\n",
       "      <td>0.428928</td>\n",
       "      <td>0.562848</td>\n",
       "      <td>0.541059</td>\n",
       "      <td>1.000000</td>\n",
       "      <td>0.771996</td>\n",
       "      <td>0.644847</td>\n",
       "      <td>0.465963</td>\n",
       "    </tr>\n",
       "    <tr>\n",
       "      <th>H_x</th>\n",
       "      <td>0.649828</td>\n",
       "      <td>0.406306</td>\n",
       "      <td>0.395255</td>\n",
       "      <td>0.806721</td>\n",
       "      <td>0.883688</td>\n",
       "      <td>0.882526</td>\n",
       "      <td>0.771996</td>\n",
       "      <td>1.000000</td>\n",
       "      <td>0.779155</td>\n",
       "      <td>0.497800</td>\n",
       "    </tr>\n",
       "    <tr>\n",
       "      <th>2B</th>\n",
       "      <td>0.509120</td>\n",
       "      <td>0.548037</td>\n",
       "      <td>0.374820</td>\n",
       "      <td>0.611673</td>\n",
       "      <td>0.690704</td>\n",
       "      <td>0.688636</td>\n",
       "      <td>0.644847</td>\n",
       "      <td>0.779155</td>\n",
       "      <td>1.000000</td>\n",
       "      <td>0.651040</td>\n",
       "    </tr>\n",
       "    <tr>\n",
       "      <th>HR_x</th>\n",
       "      <td>0.447111</td>\n",
       "      <td>0.648376</td>\n",
       "      <td>0.319800</td>\n",
       "      <td>0.517051</td>\n",
       "      <td>0.564084</td>\n",
       "      <td>0.560683</td>\n",
       "      <td>0.465963</td>\n",
       "      <td>0.497800</td>\n",
       "      <td>0.651040</td>\n",
       "      <td>1.000000</td>\n",
       "    </tr>\n",
       "  </tbody>\n",
       "</table>\n",
       "</div>"
      ],
      "text/plain": [
       "               W      #Bat    BatAge       G_x        PA        AB       R_x  \\\n",
       "W       1.000000  0.178940  0.352487  0.582830  0.629993  0.599076  0.626056   \n",
       "#Bat    0.178940  1.000000  0.258566  0.595320  0.579680  0.577388  0.126389   \n",
       "BatAge  0.352487  0.258566  1.000000  0.356100  0.390164  0.368613  0.286743   \n",
       "G_x     0.582830  0.595320  0.356100  1.000000  0.979475  0.979470  0.428928   \n",
       "PA      0.629993  0.579680  0.390164  0.979475  1.000000  0.990543  0.562848   \n",
       "AB      0.599076  0.577388  0.368613  0.979470  0.990543  1.000000  0.541059   \n",
       "R_x     0.626056  0.126389  0.286743  0.428928  0.562848  0.541059  1.000000   \n",
       "H_x     0.649828  0.406306  0.395255  0.806721  0.883688  0.882526  0.771996   \n",
       "2B      0.509120  0.548037  0.374820  0.611673  0.690704  0.688636  0.644847   \n",
       "HR_x    0.447111  0.648376  0.319800  0.517051  0.564084  0.560683  0.465963   \n",
       "\n",
       "             H_x        2B      HR_x  \n",
       "W       0.649828  0.509120  0.447111  \n",
       "#Bat    0.406306  0.548037  0.648376  \n",
       "BatAge  0.395255  0.374820  0.319800  \n",
       "G_x     0.806721  0.611673  0.517051  \n",
       "PA      0.883688  0.690704  0.564084  \n",
       "AB      0.882526  0.688636  0.560683  \n",
       "R_x     0.771996  0.644847  0.465963  \n",
       "H_x     1.000000  0.779155  0.497800  \n",
       "2B      0.779155  1.000000  0.651040  \n",
       "HR_x    0.497800  0.651040  1.000000  "
      ]
     },
     "execution_count": 23,
     "metadata": {},
     "output_type": "execute_result"
    }
   ],
   "source": [
    "corr"
   ]
  },
  {
   "cell_type": "code",
   "execution_count": 24,
   "metadata": {
    "collapsed": true
   },
   "outputs": [],
   "source": [
    "predictors2 = ['W','BB_x','SO_x','OPS+','TB','#P','BB_y','BF','BK','CG','ER']"
   ]
  },
  {
   "cell_type": "code",
   "execution_count": 25,
   "metadata": {},
   "outputs": [
    {
     "data": {
      "text/plain": [
       "<matplotlib.axes._subplots.AxesSubplot at 0x1167f3b00>"
      ]
     },
     "execution_count": 25,
     "metadata": {},
     "output_type": "execute_result"
    },
    {
     "data": {
      "image/png": "[encoded data removed]",
      "text/plain": [
       "<matplotlib.figure.Figure at 0x117cbba58>"
      ]
     },
     "metadata": {},
     "output_type": "display_data"
    }
   ],
   "source": [
    "df_2 = df[predictors2]\n",
    "\n",
    "%matplotlib inline\n",
    "plt.figure(figsize = [9,6]) \n",
    "#plt.fontweight = 'bold'\n",
    "plt.tick_params(labelsize=15)\n",
    "corr = df_2.corr()\n",
    "sns.heatmap(corr,cmap= sns.diverging_palette(220,320, n=15),\n",
    "            xticklabels=corr.columns.values,\n",
    "            yticklabels=corr.columns.values)\n",
    "#plt.savefig('MLB_W_hmap_2.png')\n",
    "#plt.xlabel(fontweight='bold')\n",
    "#plt.ylabel(fontweight='bold')\n"
   ]
  },
  {
   "cell_type": "code",
   "execution_count": 26,
   "metadata": {},
   "outputs": [
    {
     "data": {
      "text/html": [
       "<div>\n",
       "<style>\n",
       "    .dataframe thead tr:only-child th {\n",
       "        text-align: right;\n",
       "    }\n",
       "\n",
       "    .dataframe thead th {\n",
       "        text-align: left;\n",
       "    }\n",
       "\n",
       "    .dataframe tbody tr th {\n",
       "        vertical-align: top;\n",
       "    }\n",
       "</style>\n",
       "<table border=\"1\" class=\"dataframe\">\n",
       "  <thead>\n",
       "    <tr style=\"text-align: right;\">\n",
       "      <th></th>\n",
       "      <th>W</th>\n",
       "      <th>BB_x</th>\n",
       "      <th>SO_x</th>\n",
       "      <th>OPS+</th>\n",
       "      <th>TB</th>\n",
       "      <th>#P</th>\n",
       "      <th>BB_y</th>\n",
       "      <th>BF</th>\n",
       "      <th>BK</th>\n",
       "      <th>CG</th>\n",
       "      <th>ER</th>\n",
       "    </tr>\n",
       "  </thead>\n",
       "  <tbody>\n",
       "    <tr>\n",
       "      <th>W</th>\n",
       "      <td>1.000000</td>\n",
       "      <td>0.586737</td>\n",
       "      <td>0.304754</td>\n",
       "      <td>0.549647</td>\n",
       "      <td>0.649951</td>\n",
       "      <td>0.186490</td>\n",
       "      <td>0.237272</td>\n",
       "      <td>0.503418</td>\n",
       "      <td>0.119359</td>\n",
       "      <td>-0.175771</td>\n",
       "      <td>0.081558</td>\n",
       "    </tr>\n",
       "    <tr>\n",
       "      <th>BB_x</th>\n",
       "      <td>0.586737</td>\n",
       "      <td>1.000000</td>\n",
       "      <td>0.440274</td>\n",
       "      <td>0.248150</td>\n",
       "      <td>0.705919</td>\n",
       "      <td>0.439710</td>\n",
       "      <td>0.705966</td>\n",
       "      <td>0.743384</td>\n",
       "      <td>0.220830</td>\n",
       "      <td>-0.370608</td>\n",
       "      <td>0.584361</td>\n",
       "    </tr>\n",
       "    <tr>\n",
       "      <th>SO_x</th>\n",
       "      <td>0.304754</td>\n",
       "      <td>0.440274</td>\n",
       "      <td>1.000000</td>\n",
       "      <td>0.056484</td>\n",
       "      <td>0.585641</td>\n",
       "      <td>0.790572</td>\n",
       "      <td>0.453307</td>\n",
       "      <td>0.585642</td>\n",
       "      <td>0.359676</td>\n",
       "      <td>-0.793676</td>\n",
       "      <td>0.522401</td>\n",
       "    </tr>\n",
       "    <tr>\n",
       "      <th>OPS+</th>\n",
       "      <td>0.549647</td>\n",
       "      <td>0.248150</td>\n",
       "      <td>0.056484</td>\n",
       "      <td>1.000000</td>\n",
       "      <td>0.398879</td>\n",
       "      <td>0.032084</td>\n",
       "      <td>-0.063885</td>\n",
       "      <td>0.014208</td>\n",
       "      <td>-0.001655</td>\n",
       "      <td>-0.068183</td>\n",
       "      <td>-0.060745</td>\n",
       "    </tr>\n",
       "    <tr>\n",
       "      <th>TB</th>\n",
       "      <td>0.649951</td>\n",
       "      <td>0.705919</td>\n",
       "      <td>0.585641</td>\n",
       "      <td>0.398879</td>\n",
       "      <td>1.000000</td>\n",
       "      <td>0.596112</td>\n",
       "      <td>0.626474</td>\n",
       "      <td>0.814244</td>\n",
       "      <td>0.246684</td>\n",
       "      <td>-0.540403</td>\n",
       "      <td>0.744733</td>\n",
       "    </tr>\n",
       "    <tr>\n",
       "      <th>#P</th>\n",
       "      <td>0.186490</td>\n",
       "      <td>0.439710</td>\n",
       "      <td>0.790572</td>\n",
       "      <td>0.032084</td>\n",
       "      <td>0.596112</td>\n",
       "      <td>1.000000</td>\n",
       "      <td>0.533250</td>\n",
       "      <td>0.577948</td>\n",
       "      <td>0.289605</td>\n",
       "      <td>-0.761983</td>\n",
       "      <td>0.652916</td>\n",
       "    </tr>\n",
       "    <tr>\n",
       "      <th>BB_y</th>\n",
       "      <td>0.237272</td>\n",
       "      <td>0.705966</td>\n",
       "      <td>0.453307</td>\n",
       "      <td>-0.063885</td>\n",
       "      <td>0.626474</td>\n",
       "      <td>0.533250</td>\n",
       "      <td>1.000000</td>\n",
       "      <td>0.796946</td>\n",
       "      <td>0.289484</td>\n",
       "      <td>-0.412511</td>\n",
       "      <td>0.754849</td>\n",
       "    </tr>\n",
       "    <tr>\n",
       "      <th>BF</th>\n",
       "      <td>0.503418</td>\n",
       "      <td>0.743384</td>\n",
       "      <td>0.585642</td>\n",
       "      <td>0.014208</td>\n",
       "      <td>0.814244</td>\n",
       "      <td>0.577948</td>\n",
       "      <td>0.796946</td>\n",
       "      <td>1.000000</td>\n",
       "      <td>0.304104</td>\n",
       "      <td>-0.421632</td>\n",
       "      <td>0.769069</td>\n",
       "    </tr>\n",
       "    <tr>\n",
       "      <th>BK</th>\n",
       "      <td>0.119359</td>\n",
       "      <td>0.220830</td>\n",
       "      <td>0.359676</td>\n",
       "      <td>-0.001655</td>\n",
       "      <td>0.246684</td>\n",
       "      <td>0.289605</td>\n",
       "      <td>0.289484</td>\n",
       "      <td>0.304104</td>\n",
       "      <td>1.000000</td>\n",
       "      <td>-0.427603</td>\n",
       "      <td>0.257798</td>\n",
       "    </tr>\n",
       "    <tr>\n",
       "      <th>CG</th>\n",
       "      <td>-0.175771</td>\n",
       "      <td>-0.370608</td>\n",
       "      <td>-0.793676</td>\n",
       "      <td>-0.068183</td>\n",
       "      <td>-0.540403</td>\n",
       "      <td>-0.761983</td>\n",
       "      <td>-0.412511</td>\n",
       "      <td>-0.421632</td>\n",
       "      <td>-0.427603</td>\n",
       "      <td>1.000000</td>\n",
       "      <td>-0.539682</td>\n",
       "    </tr>\n",
       "    <tr>\n",
       "      <th>ER</th>\n",
       "      <td>0.081558</td>\n",
       "      <td>0.584361</td>\n",
       "      <td>0.522401</td>\n",
       "      <td>-0.060745</td>\n",
       "      <td>0.744733</td>\n",
       "      <td>0.652916</td>\n",
       "      <td>0.754849</td>\n",
       "      <td>0.769069</td>\n",
       "      <td>0.257798</td>\n",
       "      <td>-0.539682</td>\n",
       "      <td>1.000000</td>\n",
       "    </tr>\n",
       "  </tbody>\n",
       "</table>\n",
       "</div>"
      ],
      "text/plain": [
       "             W      BB_x      SO_x      OPS+        TB        #P      BB_y  \\\n",
       "W     1.000000  0.586737  0.304754  0.549647  0.649951  0.186490  0.237272   \n",
       "BB_x  0.586737  1.000000  0.440274  0.248150  0.705919  0.439710  0.705966   \n",
       "SO_x  0.304754  0.440274  1.000000  0.056484  0.585641  0.790572  0.453307   \n",
       "OPS+  0.549647  0.248150  0.056484  1.000000  0.398879  0.032084 -0.063885   \n",
       "TB    0.649951  0.705919  0.585641  0.398879  1.000000  0.596112  0.626474   \n",
       "#P    0.186490  0.439710  0.790572  0.032084  0.596112  1.000000  0.533250   \n",
       "BB_y  0.237272  0.705966  0.453307 -0.063885  0.626474  0.533250  1.000000   \n",
       "BF    0.503418  0.743384  0.585642  0.014208  0.814244  0.577948  0.796946   \n",
       "BK    0.119359  0.220830  0.359676 -0.001655  0.246684  0.289605  0.289484   \n",
       "CG   -0.175771 -0.370608 -0.793676 -0.068183 -0.540403 -0.761983 -0.412511   \n",
       "ER    0.081558  0.584361  0.522401 -0.060745  0.744733  0.652916  0.754849   \n",
       "\n",
       "            BF        BK        CG        ER  \n",
       "W     0.503418  0.119359 -0.175771  0.081558  \n",
       "BB_x  0.743384  0.220830 -0.370608  0.584361  \n",
       "SO_x  0.585642  0.359676 -0.793676  0.522401  \n",
       "OPS+  0.014208 -0.001655 -0.068183 -0.060745  \n",
       "TB    0.814244  0.246684 -0.540403  0.744733  \n",
       "#P    0.577948  0.289605 -0.761983  0.652916  \n",
       "BB_y  0.796946  0.289484 -0.412511  0.754849  \n",
       "BF    1.000000  0.304104 -0.421632  0.769069  \n",
       "BK    0.304104  1.000000 -0.427603  0.257798  \n",
       "CG   -0.421632 -0.427603  1.000000 -0.539682  \n",
       "ER    0.769069  0.257798 -0.539682  1.000000  "
      ]
     },
     "execution_count": 26,
     "metadata": {},
     "output_type": "execute_result"
    }
   ],
   "source": [
    "corr"
   ]
  },
  {
   "cell_type": "code",
   "execution_count": 27,
   "metadata": {
    "collapsed": true
   },
   "outputs": [],
   "source": [
    "#predictors3 = ['W','G_y','GF','H_y','HR_y', 'IP','PAge','R_y','SO_y','SV','WP']\n",
    "predictors3 = ['W','G_y','GF','H_y','HR_y'] # 'IP','PAge','R_y','SO_y','SV','WP']"
   ]
  },
  {
   "cell_type": "code",
   "execution_count": 28,
   "metadata": {},
   "outputs": [
    {
     "data": {
      "text/plain": [
       "<matplotlib.axes._subplots.AxesSubplot at 0x117e70e80>"
      ]
     },
     "execution_count": 28,
     "metadata": {},
     "output_type": "execute_result"
    },
    {
     "data": {
      "image/png": "[encoded data removed]",
      "text/plain": [
       "<matplotlib.figure.Figure at 0x117bc9208>"
      ]
     },
     "metadata": {},
     "output_type": "display_data"
    }
   ],
   "source": [
    "df_3 = df[predictors3]\n",
    "\n",
    "%matplotlib inline\n",
    "corr = df_3.corr()\n",
    "plt.figure(figsize = [9,6])\n",
    "plt.tick_params(labelsize=15)\n",
    "#plt.fontweight = 'bold'\n",
    "sns.heatmap(corr, cmap= sns.diverging_palette(220,320, n=10),\n",
    "            xticklabels=corr.columns.values,\n",
    "            yticklabels=corr.columns.values)\n",
    "#plt.savefig('MLB_W_hmap_3.png')"
   ]
  },
  {
   "cell_type": "code",
   "execution_count": 29,
   "metadata": {},
   "outputs": [
    {
     "data": {
      "text/html": [
       "<div>\n",
       "<style>\n",
       "    .dataframe thead tr:only-child th {\n",
       "        text-align: right;\n",
       "    }\n",
       "\n",
       "    .dataframe thead th {\n",
       "        text-align: left;\n",
       "    }\n",
       "\n",
       "    .dataframe tbody tr th {\n",
       "        vertical-align: top;\n",
       "    }\n",
       "</style>\n",
       "<table border=\"1\" class=\"dataframe\">\n",
       "  <thead>\n",
       "    <tr style=\"text-align: right;\">\n",
       "      <th></th>\n",
       "      <th>W</th>\n",
       "      <th>G_y</th>\n",
       "      <th>GF</th>\n",
       "      <th>H_y</th>\n",
       "      <th>HR_y</th>\n",
       "    </tr>\n",
       "  </thead>\n",
       "  <tbody>\n",
       "    <tr>\n",
       "      <th>W</th>\n",
       "      <td>1.000000</td>\n",
       "      <td>0.582832</td>\n",
       "      <td>0.356504</td>\n",
       "      <td>0.240439</td>\n",
       "      <td>0.256221</td>\n",
       "    </tr>\n",
       "    <tr>\n",
       "      <th>G_y</th>\n",
       "      <td>0.582832</td>\n",
       "      <td>1.000000</td>\n",
       "      <td>0.662325</td>\n",
       "      <td>0.793013</td>\n",
       "      <td>0.544427</td>\n",
       "    </tr>\n",
       "    <tr>\n",
       "      <th>GF</th>\n",
       "      <td>0.356504</td>\n",
       "      <td>0.662325</td>\n",
       "      <td>1.000000</td>\n",
       "      <td>0.537719</td>\n",
       "      <td>0.875192</td>\n",
       "    </tr>\n",
       "    <tr>\n",
       "      <th>H_y</th>\n",
       "      <td>0.240439</td>\n",
       "      <td>0.793013</td>\n",
       "      <td>0.537719</td>\n",
       "      <td>1.000000</td>\n",
       "      <td>0.523020</td>\n",
       "    </tr>\n",
       "    <tr>\n",
       "      <th>HR_y</th>\n",
       "      <td>0.256221</td>\n",
       "      <td>0.544427</td>\n",
       "      <td>0.875192</td>\n",
       "      <td>0.523020</td>\n",
       "      <td>1.000000</td>\n",
       "    </tr>\n",
       "  </tbody>\n",
       "</table>\n",
       "</div>"
      ],
      "text/plain": [
       "             W       G_y        GF       H_y      HR_y\n",
       "W     1.000000  0.582832  0.356504  0.240439  0.256221\n",
       "G_y   0.582832  1.000000  0.662325  0.793013  0.544427\n",
       "GF    0.356504  0.662325  1.000000  0.537719  0.875192\n",
       "H_y   0.240439  0.793013  0.537719  1.000000  0.523020\n",
       "HR_y  0.256221  0.544427  0.875192  0.523020  1.000000"
      ]
     },
     "execution_count": 29,
     "metadata": {},
     "output_type": "execute_result"
    }
   ],
   "source": [
    "corr"
   ]
  },
  {
   "cell_type": "code",
   "execution_count": 30,
   "metadata": {},
   "outputs": [
    {
     "data": {
      "text/plain": [
       "<matplotlib.axes._subplots.AxesSubplot at 0x1179d7c88>"
      ]
     },
     "execution_count": 30,
     "metadata": {},
     "output_type": "execute_result"
    },
    {
     "data": {
      "image/png": "[encoded data removed]",
      "text/plain": [
       "<matplotlib.figure.Figure at 0x1182eb828>"
      ]
     },
     "metadata": {},
     "output_type": "display_data"
    }
   ],
   "source": [
    "predictors3a = ['W','IP','PAge','R_y','SO_y','SV','WP']\n",
    "df_3a = df[predictors3a]\n",
    "\n",
    "%matplotlib inline\n",
    "corr = df_3a.corr()\n",
    "plt.figure(figsize = [9,6])\n",
    "plt.tick_params(labelsize=15)\n",
    "plt.fontweight = 'bold'\n",
    "sns.heatmap(corr, cmap= sns.diverging_palette(220,320, n=10),\n",
    "            xticklabels=corr.columns.values,\n",
    "            yticklabels=corr.columns.values)\n",
    "#plt.savefig('MLB_W_hmap_4.png')"
   ]
  },
  {
   "cell_type": "code",
   "execution_count": 31,
   "metadata": {},
   "outputs": [
    {
     "data": {
      "text/html": [
       "<div>\n",
       "<style>\n",
       "    .dataframe thead tr:only-child th {\n",
       "        text-align: right;\n",
       "    }\n",
       "\n",
       "    .dataframe thead th {\n",
       "        text-align: left;\n",
       "    }\n",
       "\n",
       "    .dataframe tbody tr th {\n",
       "        vertical-align: top;\n",
       "    }\n",
       "</style>\n",
       "<table border=\"1\" class=\"dataframe\">\n",
       "  <thead>\n",
       "    <tr style=\"text-align: right;\">\n",
       "      <th></th>\n",
       "      <th>W</th>\n",
       "      <th>IP</th>\n",
       "      <th>PAge</th>\n",
       "      <th>R_y</th>\n",
       "      <th>SO_y</th>\n",
       "      <th>SV</th>\n",
       "      <th>WP</th>\n",
       "    </tr>\n",
       "  </thead>\n",
       "  <tbody>\n",
       "    <tr>\n",
       "      <th>W</th>\n",
       "      <td>1.000000</td>\n",
       "      <td>0.612138</td>\n",
       "      <td>0.390851</td>\n",
       "      <td>-0.162247</td>\n",
       "      <td>0.441019</td>\n",
       "      <td>0.482644</td>\n",
       "      <td>-0.107353</td>\n",
       "    </tr>\n",
       "    <tr>\n",
       "      <th>IP</th>\n",
       "      <td>0.612138</td>\n",
       "      <td>1.000000</td>\n",
       "      <td>0.455137</td>\n",
       "      <td>0.358624</td>\n",
       "      <td>0.603618</td>\n",
       "      <td>0.560337</td>\n",
       "      <td>0.031811</td>\n",
       "    </tr>\n",
       "    <tr>\n",
       "      <th>PAge</th>\n",
       "      <td>0.390851</td>\n",
       "      <td>0.455137</td>\n",
       "      <td>1.000000</td>\n",
       "      <td>0.063881</td>\n",
       "      <td>0.290143</td>\n",
       "      <td>0.385665</td>\n",
       "      <td>-0.244377</td>\n",
       "    </tr>\n",
       "    <tr>\n",
       "      <th>R_y</th>\n",
       "      <td>-0.162247</td>\n",
       "      <td>0.358624</td>\n",
       "      <td>0.063881</td>\n",
       "      <td>1.000000</td>\n",
       "      <td>0.114587</td>\n",
       "      <td>0.104954</td>\n",
       "      <td>0.280456</td>\n",
       "    </tr>\n",
       "    <tr>\n",
       "      <th>SO_y</th>\n",
       "      <td>0.441019</td>\n",
       "      <td>0.603618</td>\n",
       "      <td>0.290143</td>\n",
       "      <td>0.114587</td>\n",
       "      <td>1.000000</td>\n",
       "      <td>0.829975</td>\n",
       "      <td>0.431844</td>\n",
       "    </tr>\n",
       "    <tr>\n",
       "      <th>SV</th>\n",
       "      <td>0.482644</td>\n",
       "      <td>0.560337</td>\n",
       "      <td>0.385665</td>\n",
       "      <td>0.104954</td>\n",
       "      <td>0.829975</td>\n",
       "      <td>1.000000</td>\n",
       "      <td>0.278116</td>\n",
       "    </tr>\n",
       "    <tr>\n",
       "      <th>WP</th>\n",
       "      <td>-0.107353</td>\n",
       "      <td>0.031811</td>\n",
       "      <td>-0.244377</td>\n",
       "      <td>0.280456</td>\n",
       "      <td>0.431844</td>\n",
       "      <td>0.278116</td>\n",
       "      <td>1.000000</td>\n",
       "    </tr>\n",
       "  </tbody>\n",
       "</table>\n",
       "</div>"
      ],
      "text/plain": [
       "             W        IP      PAge       R_y      SO_y        SV        WP\n",
       "W     1.000000  0.612138  0.390851 -0.162247  0.441019  0.482644 -0.107353\n",
       "IP    0.612138  1.000000  0.455137  0.358624  0.603618  0.560337  0.031811\n",
       "PAge  0.390851  0.455137  1.000000  0.063881  0.290143  0.385665 -0.244377\n",
       "R_y  -0.162247  0.358624  0.063881  1.000000  0.114587  0.104954  0.280456\n",
       "SO_y  0.441019  0.603618  0.290143  0.114587  1.000000  0.829975  0.431844\n",
       "SV    0.482644  0.560337  0.385665  0.104954  0.829975  1.000000  0.278116\n",
       "WP   -0.107353  0.031811 -0.244377  0.280456  0.431844  0.278116  1.000000"
      ]
     },
     "execution_count": 31,
     "metadata": {},
     "output_type": "execute_result"
    }
   ],
   "source": [
    "corr"
   ]
  },
  {
   "cell_type": "markdown",
   "metadata": {},
   "source": [
    "## Wins are positively correlated with innings pitched (IP) and the team's average pitchers age."
   ]
  },
  {
   "cell_type": "code",
   "execution_count": 32,
   "metadata": {
    "collapsed": true
   },
   "outputs": [],
   "source": [
    "predictors4 = ['W','R_x','BA','H_x','SV','ERA']"
   ]
  },
  {
   "cell_type": "code",
   "execution_count": 33,
   "metadata": {},
   "outputs": [
    {
     "data": {
      "text/plain": [
       "<matplotlib.axes._subplots.AxesSubplot at 0x117eac550>"
      ]
     },
     "execution_count": 33,
     "metadata": {},
     "output_type": "execute_result"
    },
    {
     "data": {
      "image/png": "[encoded data removed]",
      "text/plain": [
       "<matplotlib.figure.Figure at 0x118020160>"
      ]
     },
     "metadata": {},
     "output_type": "display_data"
    }
   ],
   "source": [
    "df_4 = df[predictors4]\n",
    "\n",
    "%matplotlib inline\n",
    "corr = df_4.corr()\n",
    "plt.figure(figsize = [9,6])\n",
    "plt.tick_params(labelsize=15)\n",
    "sns.heatmap(corr,cmap= sns.diverging_palette(220,320, n=15),\n",
    "            xticklabels=corr.columns.values,\n",
    "            yticklabels=corr.columns.values)\n",
    "#plt.savefig('MLB_W_hmap_5.png')"
   ]
  },
  {
   "cell_type": "markdown",
   "metadata": {},
   "source": [
    "## As seen before, a teams wins has a strong negative correlation with ERA."
   ]
  },
  {
   "cell_type": "code",
   "execution_count": 34,
   "metadata": {},
   "outputs": [
    {
     "data": {
      "text/html": [
       "<div>\n",
       "<style>\n",
       "    .dataframe thead tr:only-child th {\n",
       "        text-align: right;\n",
       "    }\n",
       "\n",
       "    .dataframe thead th {\n",
       "        text-align: left;\n",
       "    }\n",
       "\n",
       "    .dataframe tbody tr th {\n",
       "        vertical-align: top;\n",
       "    }\n",
       "</style>\n",
       "<table border=\"1\" class=\"dataframe\">\n",
       "  <thead>\n",
       "    <tr style=\"text-align: right;\">\n",
       "      <th></th>\n",
       "      <th>W</th>\n",
       "      <th>R_x</th>\n",
       "      <th>BA</th>\n",
       "      <th>H_x</th>\n",
       "      <th>SV</th>\n",
       "      <th>ERA</th>\n",
       "    </tr>\n",
       "  </thead>\n",
       "  <tbody>\n",
       "    <tr>\n",
       "      <th>count</th>\n",
       "      <td>2815.000000</td>\n",
       "      <td>2815.000000</td>\n",
       "      <td>2815.000000</td>\n",
       "      <td>2815.000000</td>\n",
       "      <td>2815.000000</td>\n",
       "      <td>2815.000000</td>\n",
       "    </tr>\n",
       "    <tr>\n",
       "      <th>mean</th>\n",
       "      <td>75.858970</td>\n",
       "      <td>687.988277</td>\n",
       "      <td>0.261003</td>\n",
       "      <td>1361.430906</td>\n",
       "      <td>24.499822</td>\n",
       "      <td>3.819663</td>\n",
       "    </tr>\n",
       "    <tr>\n",
       "      <th>std</th>\n",
       "      <td>16.007805</td>\n",
       "      <td>124.826282</td>\n",
       "      <td>0.017170</td>\n",
       "      <td>183.360852</td>\n",
       "      <td>16.181625</td>\n",
       "      <td>0.737716</td>\n",
       "    </tr>\n",
       "    <tr>\n",
       "      <th>min</th>\n",
       "      <td>2.000000</td>\n",
       "      <td>24.000000</td>\n",
       "      <td>0.175000</td>\n",
       "      <td>49.000000</td>\n",
       "      <td>0.000000</td>\n",
       "      <td>1.220000</td>\n",
       "    </tr>\n",
       "    <tr>\n",
       "      <th>25%</th>\n",
       "      <td>67.000000</td>\n",
       "      <td>618.000000</td>\n",
       "      <td>0.250000</td>\n",
       "      <td>1308.000000</td>\n",
       "      <td>10.000000</td>\n",
       "      <td>3.360000</td>\n",
       "    </tr>\n",
       "    <tr>\n",
       "      <th>50%</th>\n",
       "      <td>77.000000</td>\n",
       "      <td>691.000000</td>\n",
       "      <td>0.260000</td>\n",
       "      <td>1395.000000</td>\n",
       "      <td>25.000000</td>\n",
       "      <td>3.820000</td>\n",
       "    </tr>\n",
       "    <tr>\n",
       "      <th>75%</th>\n",
       "      <td>87.000000</td>\n",
       "      <td>763.000000</td>\n",
       "      <td>0.271000</td>\n",
       "      <td>1465.500000</td>\n",
       "      <td>38.000000</td>\n",
       "      <td>4.295000</td>\n",
       "    </tr>\n",
       "    <tr>\n",
       "      <th>max</th>\n",
       "      <td>116.000000</td>\n",
       "      <td>1220.000000</td>\n",
       "      <td>0.350000</td>\n",
       "      <td>1783.000000</td>\n",
       "      <td>68.000000</td>\n",
       "      <td>6.710000</td>\n",
       "    </tr>\n",
       "  </tbody>\n",
       "</table>\n",
       "</div>"
      ],
      "text/plain": [
       "                 W          R_x           BA          H_x           SV  \\\n",
       "count  2815.000000  2815.000000  2815.000000  2815.000000  2815.000000   \n",
       "mean     75.858970   687.988277     0.261003  1361.430906    24.499822   \n",
       "std      16.007805   124.826282     0.017170   183.360852    16.181625   \n",
       "min       2.000000    24.000000     0.175000    49.000000     0.000000   \n",
       "25%      67.000000   618.000000     0.250000  1308.000000    10.000000   \n",
       "50%      77.000000   691.000000     0.260000  1395.000000    25.000000   \n",
       "75%      87.000000   763.000000     0.271000  1465.500000    38.000000   \n",
       "max     116.000000  1220.000000     0.350000  1783.000000    68.000000   \n",
       "\n",
       "               ERA  \n",
       "count  2815.000000  \n",
       "mean      3.819663  \n",
       "std       0.737716  \n",
       "min       1.220000  \n",
       "25%       3.360000  \n",
       "50%       3.820000  \n",
       "75%       4.295000  \n",
       "max       6.710000  "
      ]
     },
     "execution_count": 34,
     "metadata": {},
     "output_type": "execute_result"
    }
   ],
   "source": [
    "df_4.describe()"
   ]
  },
  {
   "cell_type": "code",
   "execution_count": 35,
   "metadata": {},
   "outputs": [
    {
     "data": {
      "text/html": [
       "<div>\n",
       "<style>\n",
       "    .dataframe thead tr:only-child th {\n",
       "        text-align: right;\n",
       "    }\n",
       "\n",
       "    .dataframe thead th {\n",
       "        text-align: left;\n",
       "    }\n",
       "\n",
       "    .dataframe tbody tr th {\n",
       "        vertical-align: top;\n",
       "    }\n",
       "</style>\n",
       "<table border=\"1\" class=\"dataframe\">\n",
       "  <thead>\n",
       "    <tr style=\"text-align: right;\">\n",
       "      <th></th>\n",
       "      <th>W</th>\n",
       "      <th>R_x</th>\n",
       "      <th>BA</th>\n",
       "      <th>H_x</th>\n",
       "      <th>SV</th>\n",
       "      <th>ERA</th>\n",
       "    </tr>\n",
       "  </thead>\n",
       "  <tbody>\n",
       "    <tr>\n",
       "      <th>W</th>\n",
       "      <td>1.000000</td>\n",
       "      <td>0.626056</td>\n",
       "      <td>0.353061</td>\n",
       "      <td>0.649828</td>\n",
       "      <td>0.482644</td>\n",
       "      <td>-0.242158</td>\n",
       "    </tr>\n",
       "    <tr>\n",
       "      <th>R_x</th>\n",
       "      <td>0.626056</td>\n",
       "      <td>1.000000</td>\n",
       "      <td>0.703117</td>\n",
       "      <td>0.771996</td>\n",
       "      <td>0.261525</td>\n",
       "      <td>0.366013</td>\n",
       "    </tr>\n",
       "    <tr>\n",
       "      <th>BA</th>\n",
       "      <td>0.353061</td>\n",
       "      <td>0.703117</td>\n",
       "      <td>1.000000</td>\n",
       "      <td>0.599693</td>\n",
       "      <td>-0.039140</td>\n",
       "      <td>0.262993</td>\n",
       "    </tr>\n",
       "    <tr>\n",
       "      <th>H_x</th>\n",
       "      <td>0.649828</td>\n",
       "      <td>0.771996</td>\n",
       "      <td>0.599693</td>\n",
       "      <td>1.000000</td>\n",
       "      <td>0.424374</td>\n",
       "      <td>0.387276</td>\n",
       "    </tr>\n",
       "    <tr>\n",
       "      <th>SV</th>\n",
       "      <td>0.482644</td>\n",
       "      <td>0.261525</td>\n",
       "      <td>-0.039140</td>\n",
       "      <td>0.424374</td>\n",
       "      <td>1.000000</td>\n",
       "      <td>0.245143</td>\n",
       "    </tr>\n",
       "    <tr>\n",
       "      <th>ERA</th>\n",
       "      <td>-0.242158</td>\n",
       "      <td>0.366013</td>\n",
       "      <td>0.262993</td>\n",
       "      <td>0.387276</td>\n",
       "      <td>0.245143</td>\n",
       "      <td>1.000000</td>\n",
       "    </tr>\n",
       "  </tbody>\n",
       "</table>\n",
       "</div>"
      ],
      "text/plain": [
       "            W       R_x        BA       H_x        SV       ERA\n",
       "W    1.000000  0.626056  0.353061  0.649828  0.482644 -0.242158\n",
       "R_x  0.626056  1.000000  0.703117  0.771996  0.261525  0.366013\n",
       "BA   0.353061  0.703117  1.000000  0.599693 -0.039140  0.262993\n",
       "H_x  0.649828  0.771996  0.599693  1.000000  0.424374  0.387276\n",
       "SV   0.482644  0.261525 -0.039140  0.424374  1.000000  0.245143\n",
       "ERA -0.242158  0.366013  0.262993  0.387276  0.245143  1.000000"
      ]
     },
     "execution_count": 35,
     "metadata": {},
     "output_type": "execute_result"
    }
   ],
   "source": [
    "corr"
   ]
  },
  {
   "cell_type": "code",
   "execution_count": 36,
   "metadata": {},
   "outputs": [
    {
     "data": {
      "text/plain": [
       "<matplotlib.text.Text at 0x118759128>"
      ]
     },
     "execution_count": 36,
     "metadata": {},
     "output_type": "execute_result"
    },
    {
     "data": {
      "image/png": "[encoded data removed]",
      "text/plain": [
       "<matplotlib.figure.Figure at 0x118667b70>"
      ]
     },
     "metadata": {},
     "output_type": "display_data"
    }
   ],
   "source": [
    "plt.figure(figsize = [9,6])\n",
    "sns.distplot(df.W) \n",
    "sns.kdeplot(df.W, color=\"black\")\n",
    "plt.xlabel('Wins', weight = 'bold',size =16)\n",
    "plt.title(\"Distribution of Wins Per Season:1876-2018\",weight = 'bold',size =20)\n",
    "#plt.savefig('MLB_W_distribution.png')"
   ]
  },
  {
   "cell_type": "markdown",
   "metadata": {
    "collapsed": true
   },
   "source": [
    "## The distribution of team wins in a season has a relatively normal distribution  that is left-skewed somewhat.\n"
   ]
  },
  {
   "cell_type": "code",
   "execution_count": null,
   "metadata": {
    "collapsed": true
   },
   "outputs": [],
   "source": []
  }
 ],
 "metadata": {
  "kernelspec": {
   "display_name": "Python [default]",
   "language": "python",
   "name": "python3"
  },
  "language_info": {
   "codemirror_mode": {
    "name": "ipython",
    "version": 3
   },
   "file_extension": ".py",
   "mimetype": "text/x-python",
   "name": "python",
   "nbconvert_exporter": "python",
   "pygments_lexer": "ipython3",
   "version": "3.6.0"
  }
 },
 "nbformat": 4,
 "nbformat_minor": 2
}
