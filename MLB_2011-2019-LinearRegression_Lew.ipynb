{
 "cells": [
  {
   "cell_type": "code",
   "execution_count": 1,
   "metadata": {},
   "outputs": [
    {
     "name": "stderr",
     "output_type": "stream",
     "text": [
      "/Users/scottlew/miniconda3/lib/python3.6/site-packages/statsmodels/compat/pandas.py:56: FutureWarning: The pandas.core.datetools module is deprecated and will be removed in a future version. Please use the pandas.tseries module instead.\n",
      "  from pandas.core import datetools\n"
     ]
    }
   ],
   "source": [
    "import pandas as pd\n",
    "import numpy as np\n",
    "import seaborn as sns\n",
    "import matplotlib.pyplot as plt\n",
    "import pickle\n",
    "import datetime\n",
    "import requests\n",
    "import statsmodels.api as sm\n",
    "from sklearn.model_selection import train_test_split\n",
    "from sklearn.linear_model import LinearRegression\n",
    "from sklearn.preprocessing import StandardScaler\n",
    "from sklearn.model_selection import cross_val_score\n",
    "from sklearn.metrics import mean_squared_error\n",
    "from itertools import combinations\n",
    "from collections import OrderedDict \n",
    "\n",
    "%matplotlib inline"
   ]
  },
  {
   "cell_type": "markdown",
   "metadata": {},
   "source": [
    "## READ IN MLB STATS FOR 2011-2018 SEASONS "
   ]
  },
  {
   "cell_type": "code",
   "execution_count": 2,
   "metadata": {
    "collapsed": true
   },
   "outputs": [],
   "source": [
    "df = pd.read_csv('MLB_STATS_2011-2018.csv')"
   ]
  },
  {
   "cell_type": "code",
   "execution_count": 3,
   "metadata": {},
   "outputs": [
    {
     "data": {
      "text/html": [
       "<div>\n",
       "<style>\n",
       "    .dataframe thead tr:only-child th {\n",
       "        text-align: right;\n",
       "    }\n",
       "\n",
       "    .dataframe thead th {\n",
       "        text-align: left;\n",
       "    }\n",
       "\n",
       "    .dataframe tbody tr th {\n",
       "        vertical-align: top;\n",
       "    }\n",
       "</style>\n",
       "<table border=\"1\" class=\"dataframe\">\n",
       "  <thead>\n",
       "    <tr style=\"text-align: right;\">\n",
       "      <th></th>\n",
       "      <th>#Bat</th>\n",
       "      <th>#P</th>\n",
       "      <th>25-Man</th>\n",
       "      <th>2B</th>\n",
       "      <th>3B</th>\n",
       "      <th>AB</th>\n",
       "      <th>Avg_Salary</th>\n",
       "      <th>BA</th>\n",
       "      <th>BB9</th>\n",
       "      <th>BB_x</th>\n",
       "      <th>...</th>\n",
       "      <th>Suspended</th>\n",
       "      <th>TB</th>\n",
       "      <th>Tm</th>\n",
       "      <th>Total Payroll</th>\n",
       "      <th>W</th>\n",
       "      <th>WHIP</th>\n",
       "      <th>WP</th>\n",
       "      <th>Year</th>\n",
       "      <th>cSho</th>\n",
       "      <th>tSho</th>\n",
       "    </tr>\n",
       "  </thead>\n",
       "  <tbody>\n",
       "    <tr>\n",
       "      <th>0</th>\n",
       "      <td>51</td>\n",
       "      <td>25</td>\n",
       "      <td>57930520.0</td>\n",
       "      <td>293</td>\n",
       "      <td>37</td>\n",
       "      <td>5421</td>\n",
       "      <td>1.731183e+06</td>\n",
       "      <td>0.250</td>\n",
       "      <td>2.8</td>\n",
       "      <td>531</td>\n",
       "      <td>...</td>\n",
       "      <td>NaN</td>\n",
       "      <td>2240</td>\n",
       "      <td>ARI</td>\n",
       "      <td>65784971.0</td>\n",
       "      <td>94</td>\n",
       "      <td>1.286</td>\n",
       "      <td>39</td>\n",
       "      <td>2011</td>\n",
       "      <td>1</td>\n",
       "      <td>12</td>\n",
       "    </tr>\n",
       "    <tr>\n",
       "      <th>1</th>\n",
       "      <td>45</td>\n",
       "      <td>21</td>\n",
       "      <td>98521630.0</td>\n",
       "      <td>244</td>\n",
       "      <td>16</td>\n",
       "      <td>5528</td>\n",
       "      <td>2.321633e+06</td>\n",
       "      <td>0.243</td>\n",
       "      <td>3.2</td>\n",
       "      <td>504</td>\n",
       "      <td>...</td>\n",
       "      <td>NaN</td>\n",
       "      <td>2140</td>\n",
       "      <td>ATL</td>\n",
       "      <td>99830230.0</td>\n",
       "      <td>89</td>\n",
       "      <td>1.252</td>\n",
       "      <td>61</td>\n",
       "      <td>2011</td>\n",
       "      <td>2</td>\n",
       "      <td>16</td>\n",
       "    </tr>\n",
       "    <tr>\n",
       "      <th>2</th>\n",
       "      <td>50</td>\n",
       "      <td>27</td>\n",
       "      <td>94391741.0</td>\n",
       "      <td>273</td>\n",
       "      <td>13</td>\n",
       "      <td>5585</td>\n",
       "      <td>1.926362e+06</td>\n",
       "      <td>0.257</td>\n",
       "      <td>3.3</td>\n",
       "      <td>452</td>\n",
       "      <td>...</td>\n",
       "      <td>NaN</td>\n",
       "      <td>2306</td>\n",
       "      <td>BAL</td>\n",
       "      <td>94391741.0</td>\n",
       "      <td>69</td>\n",
       "      <td>1.454</td>\n",
       "      <td>32</td>\n",
       "      <td>2011</td>\n",
       "      <td>1</td>\n",
       "      <td>7</td>\n",
       "    </tr>\n",
       "    <tr>\n",
       "      <th>3</th>\n",
       "      <td>49</td>\n",
       "      <td>27</td>\n",
       "      <td>164517590.0</td>\n",
       "      <td>352</td>\n",
       "      <td>35</td>\n",
       "      <td>5710</td>\n",
       "      <td>3.671346e+06</td>\n",
       "      <td>0.280</td>\n",
       "      <td>3.3</td>\n",
       "      <td>578</td>\n",
       "      <td>...</td>\n",
       "      <td>NaN</td>\n",
       "      <td>2631</td>\n",
       "      <td>BOS</td>\n",
       "      <td>172553261.0</td>\n",
       "      <td>90</td>\n",
       "      <td>1.308</td>\n",
       "      <td>58</td>\n",
       "      <td>2011</td>\n",
       "      <td>1</td>\n",
       "      <td>13</td>\n",
       "    </tr>\n",
       "    <tr>\n",
       "      <th>4</th>\n",
       "      <td>42</td>\n",
       "      <td>22</td>\n",
       "      <td>124652698.0</td>\n",
       "      <td>285</td>\n",
       "      <td>36</td>\n",
       "      <td>5549</td>\n",
       "      <td>3.486942e+06</td>\n",
       "      <td>0.256</td>\n",
       "      <td>3.6</td>\n",
       "      <td>425</td>\n",
       "      <td>...</td>\n",
       "      <td>NaN</td>\n",
       "      <td>2224</td>\n",
       "      <td>CHC</td>\n",
       "      <td>139477698.0</td>\n",
       "      <td>71</td>\n",
       "      <td>1.408</td>\n",
       "      <td>51</td>\n",
       "      <td>2011</td>\n",
       "      <td>1</td>\n",
       "      <td>5</td>\n",
       "    </tr>\n",
       "  </tbody>\n",
       "</table>\n",
       "<p>5 rows × 72 columns</p>\n",
       "</div>"
      ],
      "text/plain": [
       "   #Bat  #P       25-Man   2B  3B    AB    Avg_Salary     BA  BB9  BB_x  ...   \\\n",
       "0    51  25   57930520.0  293  37  5421  1.731183e+06  0.250  2.8   531  ...    \n",
       "1    45  21   98521630.0  244  16  5528  2.321633e+06  0.243  3.2   504  ...    \n",
       "2    50  27   94391741.0  273  13  5585  1.926362e+06  0.257  3.3   452  ...    \n",
       "3    49  27  164517590.0  352  35  5710  3.671346e+06  0.280  3.3   578  ...    \n",
       "4    42  22  124652698.0  285  36  5549  3.486942e+06  0.256  3.6   425  ...    \n",
       "\n",
       "   Suspended    TB   Tm  Total Payroll   W   WHIP  WP  Year  cSho  tSho  \n",
       "0        NaN  2240  ARI     65784971.0  94  1.286  39  2011     1    12  \n",
       "1        NaN  2140  ATL     99830230.0  89  1.252  61  2011     2    16  \n",
       "2        NaN  2306  BAL     94391741.0  69  1.454  32  2011     1     7  \n",
       "3        NaN  2631  BOS    172553261.0  90  1.308  58  2011     1    13  \n",
       "4        NaN  2224  CHC    139477698.0  71  1.408  51  2011     1     5  \n",
       "\n",
       "[5 rows x 72 columns]"
      ]
     },
     "execution_count": 3,
     "metadata": {},
     "output_type": "execute_result"
    }
   ],
   "source": [
    "df.head()"
   ]
  },
  {
   "cell_type": "code",
   "execution_count": 4,
   "metadata": {},
   "outputs": [
    {
     "data": {
      "text/plain": [
       "(239, 72)"
      ]
     },
     "execution_count": 4,
     "metadata": {},
     "output_type": "execute_result"
    }
   ],
   "source": [
    "df.shape"
   ]
  },
  {
   "cell_type": "code",
   "execution_count": 5,
   "metadata": {},
   "outputs": [
    {
     "data": {
      "text/html": [
       "<div>\n",
       "<style>\n",
       "    .dataframe thead tr:only-child th {\n",
       "        text-align: right;\n",
       "    }\n",
       "\n",
       "    .dataframe thead th {\n",
       "        text-align: left;\n",
       "    }\n",
       "\n",
       "    .dataframe tbody tr th {\n",
       "        vertical-align: top;\n",
       "    }\n",
       "</style>\n",
       "<table border=\"1\" class=\"dataframe\">\n",
       "  <thead>\n",
       "    <tr style=\"text-align: right;\">\n",
       "      <th></th>\n",
       "      <th>#Bat</th>\n",
       "      <th>#P</th>\n",
       "      <th>25-Man</th>\n",
       "      <th>2B</th>\n",
       "      <th>3B</th>\n",
       "      <th>AB</th>\n",
       "      <th>Avg_Salary</th>\n",
       "      <th>BA</th>\n",
       "      <th>BB9</th>\n",
       "      <th>BB_x</th>\n",
       "      <th>...</th>\n",
       "      <th>Suspended</th>\n",
       "      <th>TB</th>\n",
       "      <th>Tm</th>\n",
       "      <th>Total Payroll</th>\n",
       "      <th>W</th>\n",
       "      <th>WHIP</th>\n",
       "      <th>WP</th>\n",
       "      <th>Year</th>\n",
       "      <th>cSho</th>\n",
       "      <th>tSho</th>\n",
       "    </tr>\n",
       "  </thead>\n",
       "  <tbody>\n",
       "    <tr>\n",
       "      <th>234</th>\n",
       "      <td>49</td>\n",
       "      <td>30</td>\n",
       "      <td>113991329.0</td>\n",
       "      <td>248</td>\n",
       "      <td>9</td>\n",
       "      <td>5498</td>\n",
       "      <td>4.549564e+06</td>\n",
       "      <td>0.249</td>\n",
       "      <td>3.7</td>\n",
       "      <td>525</td>\n",
       "      <td>...</td>\n",
       "      <td>0.0</td>\n",
       "      <td>2250</td>\n",
       "      <td>STL</td>\n",
       "      <td>163784311.0</td>\n",
       "      <td>88</td>\n",
       "      <td>1.338</td>\n",
       "      <td>63</td>\n",
       "      <td>2018</td>\n",
       "      <td>1</td>\n",
       "      <td>8</td>\n",
       "    </tr>\n",
       "    <tr>\n",
       "      <th>235</th>\n",
       "      <td>54</td>\n",
       "      <td>31</td>\n",
       "      <td>25668988.0</td>\n",
       "      <td>274</td>\n",
       "      <td>43</td>\n",
       "      <td>5475</td>\n",
       "      <td>1.966005e+06</td>\n",
       "      <td>0.258</td>\n",
       "      <td>3.1</td>\n",
       "      <td>540</td>\n",
       "      <td>...</td>\n",
       "      <td>0.0</td>\n",
       "      <td>2225</td>\n",
       "      <td>TBR</td>\n",
       "      <td>68810167.0</td>\n",
       "      <td>90</td>\n",
       "      <td>1.199</td>\n",
       "      <td>55</td>\n",
       "      <td>2018</td>\n",
       "      <td>0</td>\n",
       "      <td>14</td>\n",
       "    </tr>\n",
       "    <tr>\n",
       "      <th>236</th>\n",
       "      <td>50</td>\n",
       "      <td>32</td>\n",
       "      <td>96239016.0</td>\n",
       "      <td>266</td>\n",
       "      <td>24</td>\n",
       "      <td>5453</td>\n",
       "      <td>4.017858e+06</td>\n",
       "      <td>0.240</td>\n",
       "      <td>3.1</td>\n",
       "      <td>555</td>\n",
       "      <td>...</td>\n",
       "      <td>0.0</td>\n",
       "      <td>2204</td>\n",
       "      <td>TEX</td>\n",
       "      <td>140625018.0</td>\n",
       "      <td>67</td>\n",
       "      <td>1.403</td>\n",
       "      <td>57</td>\n",
       "      <td>2018</td>\n",
       "      <td>0</td>\n",
       "      <td>5</td>\n",
       "    </tr>\n",
       "    <tr>\n",
       "      <th>237</th>\n",
       "      <td>63</td>\n",
       "      <td>36</td>\n",
       "      <td>81293347.0</td>\n",
       "      <td>320</td>\n",
       "      <td>16</td>\n",
       "      <td>5477</td>\n",
       "      <td>4.079626e+06</td>\n",
       "      <td>0.244</td>\n",
       "      <td>3.5</td>\n",
       "      <td>499</td>\n",
       "      <td>...</td>\n",
       "      <td>0.0</td>\n",
       "      <td>2339</td>\n",
       "      <td>TOR</td>\n",
       "      <td>150946147.0</td>\n",
       "      <td>73</td>\n",
       "      <td>1.414</td>\n",
       "      <td>71</td>\n",
       "      <td>2018</td>\n",
       "      <td>0</td>\n",
       "      <td>3</td>\n",
       "    </tr>\n",
       "    <tr>\n",
       "      <th>238</th>\n",
       "      <td>53</td>\n",
       "      <td>31</td>\n",
       "      <td>130197979.0</td>\n",
       "      <td>284</td>\n",
       "      <td>25</td>\n",
       "      <td>5517</td>\n",
       "      <td>5.182360e+06</td>\n",
       "      <td>0.254</td>\n",
       "      <td>3.0</td>\n",
       "      <td>631</td>\n",
       "      <td>...</td>\n",
       "      <td>0.0</td>\n",
       "      <td>2309</td>\n",
       "      <td>WSN</td>\n",
       "      <td>181382609.0</td>\n",
       "      <td>82</td>\n",
       "      <td>1.250</td>\n",
       "      <td>42</td>\n",
       "      <td>2018</td>\n",
       "      <td>1</td>\n",
       "      <td>7</td>\n",
       "    </tr>\n",
       "  </tbody>\n",
       "</table>\n",
       "<p>5 rows × 72 columns</p>\n",
       "</div>"
      ],
      "text/plain": [
       "     #Bat  #P       25-Man   2B  3B    AB    Avg_Salary     BA  BB9  BB_x  \\\n",
       "234    49  30  113991329.0  248   9  5498  4.549564e+06  0.249  3.7   525   \n",
       "235    54  31   25668988.0  274  43  5475  1.966005e+06  0.258  3.1   540   \n",
       "236    50  32   96239016.0  266  24  5453  4.017858e+06  0.240  3.1   555   \n",
       "237    63  36   81293347.0  320  16  5477  4.079626e+06  0.244  3.5   499   \n",
       "238    53  31  130197979.0  284  25  5517  5.182360e+06  0.254  3.0   631   \n",
       "\n",
       "     ...   Suspended    TB   Tm  Total Payroll   W   WHIP  WP  Year  cSho  \\\n",
       "234  ...         0.0  2250  STL    163784311.0  88  1.338  63  2018     1   \n",
       "235  ...         0.0  2225  TBR     68810167.0  90  1.199  55  2018     0   \n",
       "236  ...         0.0  2204  TEX    140625018.0  67  1.403  57  2018     0   \n",
       "237  ...         0.0  2339  TOR    150946147.0  73  1.414  71  2018     0   \n",
       "238  ...         0.0  2309  WSN    181382609.0  82  1.250  42  2018     1   \n",
       "\n",
       "     tSho  \n",
       "234     8  \n",
       "235    14  \n",
       "236     5  \n",
       "237     3  \n",
       "238     7  \n",
       "\n",
       "[5 rows x 72 columns]"
      ]
     },
     "execution_count": 5,
     "metadata": {},
     "output_type": "execute_result"
    }
   ],
   "source": [
    "df.tail()"
   ]
  },
  {
   "cell_type": "code",
   "execution_count": 6,
   "metadata": {},
   "outputs": [
    {
     "data": {
      "text/plain": [
       "#Bat               int64\n",
       "#P                 int64\n",
       "25-Man           float64\n",
       "2B                 int64\n",
       "3B                 int64\n",
       "AB                 int64\n",
       "Avg_Salary       float64\n",
       "BA               float64\n",
       "BB9              float64\n",
       "BB_x               int64\n",
       "BB_y               int64\n",
       "BF                 int64\n",
       "BK                 int64\n",
       "BatAge           float64\n",
       "Buried           float64\n",
       "CG                 int64\n",
       "CS                 int64\n",
       "Disabled List    float64\n",
       "ER                 int64\n",
       "ERA              float64\n",
       "ERA+               int64\n",
       "FIP              float64\n",
       "GDP                int64\n",
       "GF                 int64\n",
       "GS                 int64\n",
       "G_x                int64\n",
       "G_y                int64\n",
       "H9               float64\n",
       "HBP_x              int64\n",
       "HBP_y              int64\n",
       "                  ...   \n",
       "OPS+               int64\n",
       "PA                 int64\n",
       "PAge             float64\n",
       "R/G              float64\n",
       "RA/G             float64\n",
       "RBI                int64\n",
       "R_x                int64\n",
       "R_y                int64\n",
       "Rank             float64\n",
       "Retained         float64\n",
       "Roster             int64\n",
       "SB                 int64\n",
       "SF                 int64\n",
       "SH                 int64\n",
       "SLG              float64\n",
       "SO/W             float64\n",
       "SO9              float64\n",
       "SO_x               int64\n",
       "SO_y               int64\n",
       "SV                 int64\n",
       "Suspended        float64\n",
       "TB                 int64\n",
       "Tm                object\n",
       "Total Payroll    float64\n",
       "W                  int64\n",
       "WHIP             float64\n",
       "WP                 int64\n",
       "Year               int64\n",
       "cSho               int64\n",
       "tSho               int64\n",
       "Length: 72, dtype: object"
      ]
     },
     "execution_count": 6,
     "metadata": {},
     "output_type": "execute_result"
    }
   ],
   "source": [
    "df.dtypes"
   ]
  },
  {
   "cell_type": "code",
   "execution_count": 7,
   "metadata": {},
   "outputs": [
    {
     "data": {
      "text/plain": [
       "Index(['#Bat', '#P', '25-Man', '2B', '3B', 'AB', 'Avg_Salary', 'BA', 'BB9',\n",
       "       'BB_x', 'BB_y', 'BF', 'BK', 'BatAge', 'Buried', 'CG', 'CS',\n",
       "       'Disabled List', 'ER', 'ERA', 'ERA+', 'FIP', 'GDP', 'GF', 'GS', 'G_x',\n",
       "       'G_y', 'H9', 'HBP_x', 'HBP_y', 'HR9', 'HR_x', 'HR_y', 'H_x', 'H_y',\n",
       "       'IBB_x', 'IBB_y', 'IP', 'LOB_x', 'LOB_y', 'OBP', 'OPS', 'OPS+', 'PA',\n",
       "       'PAge', 'R/G', 'RA/G', 'RBI', 'R_x', 'R_y', 'Rank', 'Retained',\n",
       "       'Roster', 'SB', 'SF', 'SH', 'SLG', 'SO/W', 'SO9', 'SO_x', 'SO_y', 'SV',\n",
       "       'Suspended', 'TB', 'Tm', 'Total Payroll', 'W', 'WHIP', 'WP', 'Year',\n",
       "       'cSho', 'tSho'],\n",
       "      dtype='object')"
      ]
     },
     "execution_count": 7,
     "metadata": {},
     "output_type": "execute_result"
    }
   ],
   "source": [
    "df.columns"
   ]
  },
  {
   "cell_type": "code",
   "execution_count": 8,
   "metadata": {},
   "outputs": [
    {
     "data": {
      "text/plain": [
       "2018    30\n",
       "2017    30\n",
       "2016    30\n",
       "2015    30\n",
       "2014    30\n",
       "2013    30\n",
       "2012    30\n",
       "2011    29\n",
       "Name: Year, dtype: int64"
      ]
     },
     "execution_count": 8,
     "metadata": {},
     "output_type": "execute_result"
    }
   ],
   "source": [
    "df.Year.value_counts()"
   ]
  },
  {
   "cell_type": "code",
   "execution_count": 9,
   "metadata": {
    "collapsed": true
   },
   "outputs": [],
   "source": [
    "correlation = df.corr()"
   ]
  },
  {
   "cell_type": "code",
   "execution_count": 10,
   "metadata": {},
   "outputs": [
    {
     "data": {
      "text/plain": [
       "#Bat            -0.288480\n",
       "#P              -0.247136\n",
       "25-Man           0.513069\n",
       "2B               0.317035\n",
       "3B              -0.089006\n",
       "AB               0.134088\n",
       "Avg_Salary       0.306017\n",
       "BA               0.378658\n",
       "BB9             -0.481999\n",
       "BB_x             0.458665\n",
       "BB_y            -0.453219\n",
       "BF              -0.588028\n",
       "BK              -0.206974\n",
       "BatAge           0.262656\n",
       "Buried           0.070167\n",
       "CG               0.228315\n",
       "CS              -0.175995\n",
       "Disabled List   -0.106827\n",
       "ER              -0.721523\n",
       "ERA             -0.727691\n",
       "ERA+             0.802283\n",
       "FIP             -0.612804\n",
       "GDP              0.080360\n",
       "GF              -0.213823\n",
       "GS               0.130083\n",
       "G_x              0.130083\n",
       "G_y              0.130083\n",
       "H9              -0.704778\n",
       "HBP_x            0.222003\n",
       "HBP_y           -0.111587\n",
       "                   ...   \n",
       "OPS              0.542539\n",
       "OPS+             0.603916\n",
       "PA               0.450390\n",
       "PAge             0.319259\n",
       "R/G              0.569436\n",
       "RA/G            -0.740626\n",
       "RBI              0.568976\n",
       "R_x              0.571025\n",
       "R_y             -0.739640\n",
       "Rank            -0.405430\n",
       "Retained        -0.322973\n",
       "Roster           0.117970\n",
       "SB              -0.037598\n",
       "SF               0.306124\n",
       "SH              -0.040650\n",
       "SLG              0.473929\n",
       "SO/W             0.605483\n",
       "SO9              0.440743\n",
       "SO_x            -0.174412\n",
       "SO_y             0.477075\n",
       "SV               0.621094\n",
       "Suspended       -0.063330\n",
       "TB               0.454578\n",
       "Total Payroll    0.358529\n",
       "W                1.000000\n",
       "WHIP            -0.750118\n",
       "WP              -0.131695\n",
       "Year            -0.004962\n",
       "cSho             0.233149\n",
       "tSho             0.499969\n",
       "Name: W, Length: 71, dtype: float64"
      ]
     },
     "execution_count": 10,
     "metadata": {},
     "output_type": "execute_result"
    }
   ],
   "source": [
    "W_corr = correlation.W\n",
    "W_corr"
   ]
  },
  {
   "cell_type": "code",
   "execution_count": 11,
   "metadata": {},
   "outputs": [
    {
     "data": {
      "text/plain": [
       "#Bat              0\n",
       "#P                0\n",
       "25-Man            0\n",
       "2B                0\n",
       "3B                0\n",
       "AB                0\n",
       "Avg_Salary        0\n",
       "BA                0\n",
       "BB9               0\n",
       "BB_x              0\n",
       "BB_y              0\n",
       "BF                0\n",
       "BK                0\n",
       "BatAge            0\n",
       "Buried           89\n",
       "CG                0\n",
       "CS                0\n",
       "Disabled List    89\n",
       "ER                0\n",
       "ERA               0\n",
       "ERA+              0\n",
       "FIP               0\n",
       "GDP               0\n",
       "GF                0\n",
       "GS                0\n",
       "G_x               0\n",
       "G_y               0\n",
       "H9                0\n",
       "HBP_x             0\n",
       "HBP_y             0\n",
       "                 ..\n",
       "OPS+              0\n",
       "PA                0\n",
       "PAge              0\n",
       "R/G               0\n",
       "RA/G              0\n",
       "RBI               0\n",
       "R_x               0\n",
       "R_y               0\n",
       "Rank             89\n",
       "Retained         89\n",
       "Roster            0\n",
       "SB                0\n",
       "SF                0\n",
       "SH                0\n",
       "SLG               0\n",
       "SO/W              0\n",
       "SO9               0\n",
       "SO_x              0\n",
       "SO_y              0\n",
       "SV                0\n",
       "Suspended        89\n",
       "TB                0\n",
       "Tm                0\n",
       "Total Payroll     0\n",
       "W                 0\n",
       "WHIP              0\n",
       "WP                0\n",
       "Year              0\n",
       "cSho              0\n",
       "tSho              0\n",
       "Length: 72, dtype: int64"
      ]
     },
     "execution_count": 11,
     "metadata": {},
     "output_type": "execute_result"
    }
   ],
   "source": [
    "#df.SV.isna().sum()\n",
    "df.isnull().sum()"
   ]
  },
  {
   "cell_type": "code",
   "execution_count": 12,
   "metadata": {},
   "outputs": [
    {
     "data": {
      "text/plain": [
       "Index(['#Bat', '#P', '25-Man', '2B', '3B', 'AB', 'Avg_Salary', 'BA', 'BB9',\n",
       "       'BB_x', 'BB_y', 'BF', 'BK', 'BatAge', 'Buried', 'CG', 'CS',\n",
       "       'Disabled List', 'ER', 'ERA', 'ERA+', 'FIP', 'GDP', 'GF', 'GS', 'G_x',\n",
       "       'G_y', 'H9', 'HBP_x', 'HBP_y', 'HR9', 'HR_x', 'HR_y', 'H_x', 'H_y',\n",
       "       'IBB_x', 'IBB_y', 'IP', 'LOB_x', 'LOB_y', 'OBP', 'OPS', 'OPS+', 'PA',\n",
       "       'PAge', 'R/G', 'RA/G', 'RBI', 'R_x', 'R_y', 'Rank', 'Retained',\n",
       "       'Roster', 'SB', 'SF', 'SH', 'SLG', 'SO/W', 'SO9', 'SO_x', 'SO_y', 'SV',\n",
       "       'Suspended', 'TB', 'Tm', 'Total Payroll', 'W', 'WHIP', 'WP', 'Year',\n",
       "       'cSho', 'tSho'],\n",
       "      dtype='object')"
      ]
     },
     "execution_count": 12,
     "metadata": {},
     "output_type": "execute_result"
    }
   ],
   "source": [
    "df.columns"
   ]
  },
  {
   "cell_type": "markdown",
   "metadata": {},
   "source": [
    "## LINEAR REGRESSION WITH STATSMODEL"
   ]
  },
  {
   "cell_type": "code",
   "execution_count": 13,
   "metadata": {},
   "outputs": [
    {
     "name": "stdout",
     "output_type": "stream",
     "text": [
      "(191, 6) (191,)\n",
      "(48, 6) (48,)\n"
     ]
    }
   ],
   "source": [
    "# Use 2-5 predictors\n",
    "#predictors = ['RBI','ERA','25-Man','SV']\n",
    "#predictors = ['RBI','ERA','25-Man','SLG']\n",
    "#predictors = ['ERA','25-Man','SLG']\n",
    "#predictors = ['ERA','25-Man','SLG','HR_x','HR_y']\n",
    "#predictors = ['ERA','25-Man','SLG','HR_x']\n",
    "#predictors = ['ERA','SLG']\n",
    "#predictors = ['ERA','25-Man','SLG','SO_x','SO_y']\n",
    "#predictors = ['ERA','25-Man','SLG','SO_y','BB_x']\n",
    "#predictors = ['ERA','25-Man','SV','SLG','SO_y','SO_x','BB_x','OBP']\n",
    "#predictors = ['ERA','25-Man','SV','SLG','OBP']\n",
    "predictors = ['ERA','25-Man','SV','SLG','OBP','BA']\n",
    "#predictors = ['ERA','SLG','25-Man']\n",
    "X = df[predictors]\n",
    "Y = df.W # target response variable, Wins\n",
    "\n",
    "X_train, X_test, y_train, y_test = train_test_split(X, Y, test_size=0.2)\n",
    "print(X_train.shape, y_train.shape)\n",
    "print(X_test.shape, y_test.shape)"
   ]
  },
  {
   "cell_type": "code",
   "execution_count": 14,
   "metadata": {},
   "outputs": [
    {
     "name": "stdout",
     "output_type": "stream",
     "text": [
      "                            OLS Regression Results                            \n",
      "==============================================================================\n",
      "Dep. Variable:                      W   R-squared:                       0.998\n",
      "Model:                            OLS   Adj. R-squared:                  0.998\n",
      "Method:                 Least Squares   F-statistic:                 1.440e+04\n",
      "Date:                Wed, 22 May 2019   Prob (F-statistic):          4.46e-244\n",
      "Time:                        20:25:58   Log-Likelihood:                -524.08\n",
      "No. Observations:                 191   AIC:                             1060.\n",
      "Df Residuals:                     185   BIC:                             1080.\n",
      "Df Model:                           6                                         \n",
      "Covariance Type:            nonrobust                                         \n",
      "==============================================================================\n",
      "                 coef    std err          t      P>|t|      [0.025      0.975]\n",
      "------------------------------------------------------------------------------\n",
      "ERA          -13.9683      0.663    -21.058      0.000     -15.277     -12.660\n",
      "25-Man      2.162e-08   7.09e-09      3.050      0.003    7.64e-09    3.56e-08\n",
      "SV             0.3181      0.043      7.453      0.000       0.234       0.402\n",
      "SLG          191.6986     16.921     11.329      0.000     158.315     225.082\n",
      "OBP          187.3410     36.569      5.123      0.000     115.195     259.487\n",
      "BA           -61.9637     42.690     -1.451      0.148    -146.186      22.259\n",
      "==============================================================================\n",
      "Omnibus:                        1.647   Durbin-Watson:                   1.929\n",
      "Prob(Omnibus):                  0.439   Jarque-Bera (JB):                1.390\n",
      "Skew:                          -0.014   Prob(JB):                        0.499\n",
      "Kurtosis:                       2.583   Cond. No.                     2.06e+10\n",
      "==============================================================================\n",
      "\n",
      "Warnings:\n",
      "[1] Standard Errors assume that the covariance matrix of the errors is correctly specified.\n",
      "[2] The condition number is large, 2.06e+10. This might indicate that there are\n",
      "strong multicollinearity or other numerical problems.\n"
     ]
    }
   ],
   "source": [
    "model = sm.OLS(y_train, X_train)\n",
    "results = model.fit()\n",
    "print(results.summary())"
   ]
  },
  {
   "cell_type": "code",
   "execution_count": 15,
   "metadata": {
    "collapsed": true
   },
   "outputs": [],
   "source": [
    "resid = results.resid"
   ]
  },
  {
   "cell_type": "code",
   "execution_count": 16,
   "metadata": {},
   "outputs": [
    {
     "name": "stdout",
     "output_type": "stream",
     "text": [
      "The Trainng Score:\n",
      "0.893405391942\n",
      "\n",
      "The Test Score:\n",
      "0.894663171241\n",
      "\n",
      "[ -1.41666052e+01   2.24290626e-08   3.09114663e-01   1.94642614e+02\n",
      "   1.72529755e+02  -6.25697586e+01]\n"
     ]
    }
   ],
   "source": [
    "# Instantiate a LinearRegression object\n",
    "# Linear Regression using scikit learn\n",
    "lr = LinearRegression()\n",
    "model = lr.fit(X_train, y_train)\n",
    "\n",
    "print(\"The Trainng Score:\")\n",
    "print(lr.score(X_train,y_train))\n",
    "print()\n",
    "print(\"The Test Score:\")\n",
    "print(lr.score(X_test,y_test))\n",
    "print()\n",
    "print(model.coef_)"
   ]
  },
  {
   "cell_type": "code",
   "execution_count": 17,
   "metadata": {
    "collapsed": true
   },
   "outputs": [],
   "source": [
    "# Predict on the test data: y_pred\n",
    "y_pred = lr.predict(X_test)"
   ]
  },
  {
   "cell_type": "code",
   "execution_count": 18,
   "metadata": {},
   "outputs": [
    {
     "name": "stdout",
     "output_type": "stream",
     "text": [
      "R^2: 0.8946631712414822\n",
      "Root Mean Squared Error: 3.6084095620262424\n"
     ]
    }
   ],
   "source": [
    "# Compute and print R^2 and RMSE\n",
    "print(\"R^2: {}\".format(lr.score(X_test, y_test)))\n",
    "#mean_squared_error(y_test,y_pred)\n",
    "rmse = np.sqrt(mean_squared_error(y_test,y_pred))\n",
    "print(\"Root Mean Squared Error: {}\".format(rmse))"
   ]
  },
  {
   "cell_type": "markdown",
   "metadata": {},
   "source": [
    "## CROSS VALIDATION OF MODEL"
   ]
  },
  {
   "cell_type": "code",
   "execution_count": 19,
   "metadata": {
    "collapsed": true
   },
   "outputs": [],
   "source": [
    "# Create a linear regression object: reg\n",
    "reg = LinearRegression()\n",
    "\n",
    "# Compute 5-fold cross-validation scores: cv_scores\n",
    "cv_scores = cross_val_score(reg,X,Y, cv= 5)\n"
   ]
  },
  {
   "cell_type": "code",
   "execution_count": 20,
   "metadata": {},
   "outputs": [
    {
     "name": "stdout",
     "output_type": "stream",
     "text": [
      "[ 0.90159898  0.88413934  0.88986214  0.83768135  0.90011013]\n",
      "Average 5-Fold CV Score: 0.8826783881666159\n"
     ]
    }
   ],
   "source": [
    "# Print the 5-fold cross-validation scores R Squared scores in this case\n",
    "print(cv_scores)\n",
    "\n",
    "print(\"Average 5-Fold CV Score: {}\".format(np.mean(cv_scores)))"
   ]
  },
  {
   "cell_type": "code",
   "execution_count": 21,
   "metadata": {},
   "outputs": [
    {
     "name": "stderr",
     "output_type": "stream",
     "text": [
      "/Users/scottlew/miniconda3/lib/python3.6/site-packages/sklearn/metrics/scorer.py:100: DeprecationWarning: Scoring method mean_squared_error was renamed to neg_mean_squared_error in version 0.18 and will be removed in 0.20.\n",
      "  sample_weight=sample_weight)\n",
      "/Users/scottlew/miniconda3/lib/python3.6/site-packages/sklearn/metrics/scorer.py:100: DeprecationWarning: Scoring method mean_squared_error was renamed to neg_mean_squared_error in version 0.18 and will be removed in 0.20.\n",
      "  sample_weight=sample_weight)\n",
      "/Users/scottlew/miniconda3/lib/python3.6/site-packages/sklearn/metrics/scorer.py:100: DeprecationWarning: Scoring method mean_squared_error was renamed to neg_mean_squared_error in version 0.18 and will be removed in 0.20.\n",
      "  sample_weight=sample_weight)\n",
      "/Users/scottlew/miniconda3/lib/python3.6/site-packages/sklearn/metrics/scorer.py:100: DeprecationWarning: Scoring method mean_squared_error was renamed to neg_mean_squared_error in version 0.18 and will be removed in 0.20.\n",
      "  sample_weight=sample_weight)\n",
      "/Users/scottlew/miniconda3/lib/python3.6/site-packages/sklearn/metrics/scorer.py:100: DeprecationWarning: Scoring method mean_squared_error was renamed to neg_mean_squared_error in version 0.18 and will be removed in 0.20.\n",
      "  sample_weight=sample_weight)\n"
     ]
    },
    {
     "data": {
      "text/plain": [
       "array([ 13.86070671,  14.84625578,  10.34946962,  19.78702378,  17.15021718])"
      ]
     },
     "execution_count": 21,
     "metadata": {},
     "output_type": "execute_result"
    }
   ],
   "source": [
    "#errors = np.sum(-cross_val_score(reg,X,Y,scoring='neg_mean_squared_error', cv=5, n_jobs=-1))\n",
    "errors = (-cross_val_score(reg,X,Y,scoring='mean_squared_error', cv=5, n_jobs=-1))\n",
    "errors"
   ]
  },
  {
   "cell_type": "code",
   "execution_count": 22,
   "metadata": {},
   "outputs": [
    {
     "name": "stdout",
     "output_type": "stream",
     "text": [
      "Root Mean Squared Error: 3.7229970066668243\n",
      "\n",
      "Root Mean Squared Error: 3.853083931043939\n",
      "\n",
      "Root Mean Squared Error: 3.2170591566997015\n",
      "\n",
      "Root Mean Squared Error: 4.448260759137985\n",
      "\n",
      "Root Mean Squared Error: 4.141282069092201\n",
      "\n"
     ]
    }
   ],
   "source": [
    "for er in errors:\n",
    "    rmse = np.sqrt(er)\n",
    "    print(\"Root Mean Squared Error: {}\".format(rmse))\n",
    "    print()"
   ]
  },
  {
   "cell_type": "markdown",
   "metadata": {},
   "source": [
    "## RESIDUAL ANALYSIS: CHECK FOR NORMAL DISTRIBUTION OF RESIDUALS"
   ]
  },
  {
   "cell_type": "code",
   "execution_count": 23,
   "metadata": {},
   "outputs": [
    {
     "data": {
      "image/png": "[encoded data removed]",
      "text/plain": [
       "<matplotlib.figure.Figure at 0x10f8136d8>"
      ]
     },
     "metadata": {},
     "output_type": "display_data"
    },
    {
     "data": {
      "text/plain": [
       "<matplotlib.figure.Figure at 0x10f8136a0>"
      ]
     },
     "metadata": {},
     "output_type": "display_data"
    }
   ],
   "source": [
    "fig, ax = plt.subplots(figsize=(9, 6))\n",
    "sns.distplot(resid)\n",
    "plt.figure(figsize = [9,6]) # [width, height]\n",
    "for axis in ['top','bottom','left','right']:\n",
    "    ax.spines[axis].set_linewidth(2.5)"
   ]
  },
  {
   "cell_type": "code",
   "execution_count": 24,
   "metadata": {
    "collapsed": true
   },
   "outputs": [],
   "source": [
    "#standardScalerX = StandardScaler()\n",
    "#x = standardScalerX.fit_transform(X)"
   ]
  },
  {
   "cell_type": "code",
   "execution_count": 25,
   "metadata": {
    "collapsed": true
   },
   "outputs": [],
   "source": [
    "#sns.distplot(df['HR'])"
   ]
  },
  {
   "cell_type": "code",
   "execution_count": 26,
   "metadata": {},
   "outputs": [
    {
     "data": {
      "text/plain": [
       "<matplotlib.axes._subplots.AxesSubplot at 0x10f6d8d68>"
      ]
     },
     "execution_count": 26,
     "metadata": {},
     "output_type": "execute_result"
    },
    {
     "data": {
      "image/png": "[encoded data removed]",
      "text/plain": [
       "<matplotlib.figure.Figure at 0x10f6894a8>"
      ]
     },
     "metadata": {},
     "output_type": "display_data"
    }
   ],
   "source": [
    "sns.distplot(df['Total Payroll'])"
   ]
  },
  {
   "cell_type": "code",
   "execution_count": 27,
   "metadata": {},
   "outputs": [
    {
     "data": {
      "text/plain": [
       "<matplotlib.text.Text at 0x113545748>"
      ]
     },
     "execution_count": 27,
     "metadata": {},
     "output_type": "execute_result"
    },
    {
     "data": {
      "image/png": "[encoded data removed]",
      "text/plain": [
       "<matplotlib.figure.Figure at 0x113486278>"
      ]
     },
     "metadata": {},
     "output_type": "display_data"
    }
   ],
   "source": [
    "plt.figure(figsize = [9,6]) # [width, height]\n",
    "plt.title('MLB 2011-2018',weight = 'bold', size =20)\n",
    "sns.regplot(x=\"OPS+\", y=\"W\", data = df)\n",
    "plt.xlabel('OPS+', weight = 'bold',size =18)\n",
    "plt.ylabel('Wins', weight = 'bold', size=18)\n",
    "#plt.savefig('MLB_W&OPS_5seasons.png')"
   ]
  },
  {
   "cell_type": "code",
   "execution_count": 28,
   "metadata": {},
   "outputs": [
    {
     "data": {
      "text/plain": [
       "<matplotlib.text.Text at 0x113513a90>"
      ]
     },
     "execution_count": 28,
     "metadata": {},
     "output_type": "execute_result"
    },
    {
     "data": {
      "image/png": "[encoded data removed]",
      "text/plain": [
       "<matplotlib.figure.Figure at 0x1135e84a8>"
      ]
     },
     "metadata": {},
     "output_type": "display_data"
    }
   ],
   "source": [
    "#plt.figure(figsize = [9,6]) # [width, height]\n",
    "fig, ax = plt.subplots(figsize=(9, 6))\n",
    "for axis in ['top','bottom','left','right']:\n",
    "    ax.spines[axis].set_linewidth(2.5)\n",
    "plt.title('MLB 2011-2018',weight = 'bold', size =20)\n",
    "sns.regplot(x=\"ERA\", y=\"W\", data = df)\n",
    "plt.xlabel('ERA', weight = 'bold',size =18)\n",
    "plt.ylabel('Wins', weight = 'bold', size=18)\n",
    "#plt.savefig('MLB_W&OPS_5seasons.png')"
   ]
  },
  {
   "cell_type": "code",
   "execution_count": 29,
   "metadata": {},
   "outputs": [
    {
     "data": {
      "text/plain": [
       "<matplotlib.text.Text at 0x1135f2278>"
      ]
     },
     "execution_count": 29,
     "metadata": {},
     "output_type": "execute_result"
    },
    {
     "data": {
      "image/png": "[encoded data removed]",
      "text/plain": [
       "<matplotlib.figure.Figure at 0x11375fc18>"
      ]
     },
     "metadata": {},
     "output_type": "display_data"
    }
   ],
   "source": [
    "plt.figure(figsize = [9,6]) # [width, height]\n",
    "plt.title('MLB 2011-2018',weight = 'bold', size =20)\n",
    "sns.regplot(x=\"25-Man\", y=\"W\", data = df)\n",
    "plt.xlabel('25-Man', weight = 'bold',size =18)\n",
    "plt.ylabel('Wins', weight = 'bold', size=18)\n",
    "#plt.savefig('MLB_W&OPS_5seasons.png')"
   ]
  },
  {
   "cell_type": "code",
   "execution_count": 30,
   "metadata": {},
   "outputs": [
    {
     "data": {
      "text/plain": [
       "<matplotlib.text.Text at 0x1135f8160>"
      ]
     },
     "execution_count": 30,
     "metadata": {},
     "output_type": "execute_result"
    },
    {
     "data": {
      "image/png": "[encoded data removed]",
      "text/plain": [
       "<matplotlib.figure.Figure at 0x1138cb0f0>"
      ]
     },
     "metadata": {},
     "output_type": "display_data"
    }
   ],
   "source": [
    "plt.figure(figsize = [9,6]) # [width, height]\n",
    "plt.title('MLB 2011-2018',weight = 'bold', size =20)\n",
    "sns.regplot(x=\"SV\", y=\"W\", data = df)\n",
    "plt.xlabel('Saves', weight = 'bold',size =18)\n",
    "plt.ylabel('Wins', weight = 'bold', size=18)\n",
    "#plt.savefig('MLB_W&OPS_5seasons.png')"
   ]
  },
  {
   "cell_type": "markdown",
   "metadata": {
    "collapsed": true
   },
   "source": [
    "## CHECK FOR COLLINEARITY OF PREDICTORS"
   ]
  },
  {
   "cell_type": "markdown",
   "metadata": {},
   "source": [
    "### A simple way to detect collinearity is to look at the correlation matrix of the predictors. \n",
    "### An element of this matrix that is large in absolute value \n",
    "### indicates a pair of highly correlated variables, and therefore a collinearity problem"
   ]
  },
  {
   "cell_type": "code",
   "execution_count": 31,
   "metadata": {},
   "outputs": [
    {
     "data": {
      "text/html": [
       "<div>\n",
       "<style>\n",
       "    .dataframe thead tr:only-child th {\n",
       "        text-align: right;\n",
       "    }\n",
       "\n",
       "    .dataframe thead th {\n",
       "        text-align: left;\n",
       "    }\n",
       "\n",
       "    .dataframe tbody tr th {\n",
       "        vertical-align: top;\n",
       "    }\n",
       "</style>\n",
       "<table border=\"1\" class=\"dataframe\">\n",
       "  <thead>\n",
       "    <tr style=\"text-align: right;\">\n",
       "      <th></th>\n",
       "      <th>ERA</th>\n",
       "      <th>25-Man</th>\n",
       "      <th>SV</th>\n",
       "      <th>SLG</th>\n",
       "      <th>OBP</th>\n",
       "      <th>BA</th>\n",
       "    </tr>\n",
       "  </thead>\n",
       "  <tbody>\n",
       "    <tr>\n",
       "      <th>0</th>\n",
       "      <td>3.80</td>\n",
       "      <td>57930520.0</td>\n",
       "      <td>58</td>\n",
       "      <td>0.413</td>\n",
       "      <td>0.322</td>\n",
       "      <td>0.250</td>\n",
       "    </tr>\n",
       "    <tr>\n",
       "      <th>1</th>\n",
       "      <td>3.48</td>\n",
       "      <td>98521630.0</td>\n",
       "      <td>52</td>\n",
       "      <td>0.387</td>\n",
       "      <td>0.308</td>\n",
       "      <td>0.243</td>\n",
       "    </tr>\n",
       "    <tr>\n",
       "      <th>2</th>\n",
       "      <td>4.89</td>\n",
       "      <td>94391741.0</td>\n",
       "      <td>32</td>\n",
       "      <td>0.413</td>\n",
       "      <td>0.316</td>\n",
       "      <td>0.257</td>\n",
       "    </tr>\n",
       "    <tr>\n",
       "      <th>3</th>\n",
       "      <td>4.20</td>\n",
       "      <td>164517590.0</td>\n",
       "      <td>36</td>\n",
       "      <td>0.461</td>\n",
       "      <td>0.349</td>\n",
       "      <td>0.280</td>\n",
       "    </tr>\n",
       "    <tr>\n",
       "      <th>4</th>\n",
       "      <td>4.33</td>\n",
       "      <td>124652698.0</td>\n",
       "      <td>40</td>\n",
       "      <td>0.401</td>\n",
       "      <td>0.314</td>\n",
       "      <td>0.256</td>\n",
       "    </tr>\n",
       "  </tbody>\n",
       "</table>\n",
       "</div>"
      ],
      "text/plain": [
       "    ERA       25-Man  SV    SLG    OBP     BA\n",
       "0  3.80   57930520.0  58  0.413  0.322  0.250\n",
       "1  3.48   98521630.0  52  0.387  0.308  0.243\n",
       "2  4.89   94391741.0  32  0.413  0.316  0.257\n",
       "3  4.20  164517590.0  36  0.461  0.349  0.280\n",
       "4  4.33  124652698.0  40  0.401  0.314  0.256"
      ]
     },
     "execution_count": 31,
     "metadata": {},
     "output_type": "execute_result"
    }
   ],
   "source": [
    "#df2 = df[[ 'OPS+','RBI','ERA+','25-Man','SV']]\n",
    "#predictors = ['ERA','25-Man','SV','SLG','OBP','BA']\n",
    "#df2 = df[[ 'OPS+','RBI','ERA','25-Man','SV','SLG']]\n",
    "df2 = df[['ERA','25-Man','SV','SLG','OBP','BA']]\n",
    "df2.head()"
   ]
  },
  {
   "cell_type": "code",
   "execution_count": 32,
   "metadata": {},
   "outputs": [
    {
     "data": {
      "text/html": [
       "<div>\n",
       "<style>\n",
       "    .dataframe thead tr:only-child th {\n",
       "        text-align: right;\n",
       "    }\n",
       "\n",
       "    .dataframe thead th {\n",
       "        text-align: left;\n",
       "    }\n",
       "\n",
       "    .dataframe tbody tr th {\n",
       "        vertical-align: top;\n",
       "    }\n",
       "</style>\n",
       "<table border=\"1\" class=\"dataframe\">\n",
       "  <thead>\n",
       "    <tr style=\"text-align: right;\">\n",
       "      <th></th>\n",
       "      <th>ERA</th>\n",
       "      <th>25-Man</th>\n",
       "      <th>SV</th>\n",
       "      <th>SLG</th>\n",
       "      <th>OBP</th>\n",
       "      <th>BA</th>\n",
       "    </tr>\n",
       "  </thead>\n",
       "  <tbody>\n",
       "    <tr>\n",
       "      <th>ERA</th>\n",
       "      <td>1.000000</td>\n",
       "      <td>-0.284428</td>\n",
       "      <td>-0.567735</td>\n",
       "      <td>0.122555</td>\n",
       "      <td>-0.137369</td>\n",
       "      <td>0.041072</td>\n",
       "    </tr>\n",
       "    <tr>\n",
       "      <th>25-Man</th>\n",
       "      <td>-0.284428</td>\n",
       "      <td>1.000000</td>\n",
       "      <td>0.248230</td>\n",
       "      <td>0.336750</td>\n",
       "      <td>0.419624</td>\n",
       "      <td>0.358246</td>\n",
       "    </tr>\n",
       "    <tr>\n",
       "      <th>SV</th>\n",
       "      <td>-0.567735</td>\n",
       "      <td>0.248230</td>\n",
       "      <td>1.000000</td>\n",
       "      <td>0.074105</td>\n",
       "      <td>0.119942</td>\n",
       "      <td>0.038671</td>\n",
       "    </tr>\n",
       "    <tr>\n",
       "      <th>SLG</th>\n",
       "      <td>0.122555</td>\n",
       "      <td>0.336750</td>\n",
       "      <td>0.074105</td>\n",
       "      <td>1.000000</td>\n",
       "      <td>0.732401</td>\n",
       "      <td>0.649018</td>\n",
       "    </tr>\n",
       "    <tr>\n",
       "      <th>OBP</th>\n",
       "      <td>-0.137369</td>\n",
       "      <td>0.419624</td>\n",
       "      <td>0.119942</td>\n",
       "      <td>0.732401</td>\n",
       "      <td>1.000000</td>\n",
       "      <td>0.792759</td>\n",
       "    </tr>\n",
       "    <tr>\n",
       "      <th>BA</th>\n",
       "      <td>0.041072</td>\n",
       "      <td>0.358246</td>\n",
       "      <td>0.038671</td>\n",
       "      <td>0.649018</td>\n",
       "      <td>0.792759</td>\n",
       "      <td>1.000000</td>\n",
       "    </tr>\n",
       "  </tbody>\n",
       "</table>\n",
       "</div>"
      ],
      "text/plain": [
       "             ERA    25-Man        SV       SLG       OBP        BA\n",
       "ERA     1.000000 -0.284428 -0.567735  0.122555 -0.137369  0.041072\n",
       "25-Man -0.284428  1.000000  0.248230  0.336750  0.419624  0.358246\n",
       "SV     -0.567735  0.248230  1.000000  0.074105  0.119942  0.038671\n",
       "SLG     0.122555  0.336750  0.074105  1.000000  0.732401  0.649018\n",
       "OBP    -0.137369  0.419624  0.119942  0.732401  1.000000  0.792759\n",
       "BA      0.041072  0.358246  0.038671  0.649018  0.792759  1.000000"
      ]
     },
     "execution_count": 32,
     "metadata": {},
     "output_type": "execute_result"
    }
   ],
   "source": [
    "df2.corr()"
   ]
  },
  {
   "cell_type": "code",
   "execution_count": 33,
   "metadata": {
    "collapsed": true
   },
   "outputs": [],
   "source": [
    "# Based on the above correlation matrix, SV is moderately negatively correlated with ERA\n",
    "# SLG, OBP & BA are all highly correlated with each other"
   ]
  },
  {
   "cell_type": "markdown",
   "metadata": {},
   "source": [
    "## TRY OTHER REGRESSION MODELS"
   ]
  },
  {
   "cell_type": "code",
   "execution_count": 34,
   "metadata": {},
   "outputs": [
    {
     "name": "stdout",
     "output_type": "stream",
     "text": [
      "(191, 4) (191,)\n",
      "(48, 4) (48,)\n",
      "                            OLS Regression Results                            \n",
      "==============================================================================\n",
      "Dep. Variable:                      W   R-squared:                       0.997\n",
      "Model:                            OLS   Adj. R-squared:                  0.997\n",
      "Method:                 Least Squares   F-statistic:                 1.807e+04\n",
      "Date:                Wed, 22 May 2019   Prob (F-statistic):          9.12e-241\n",
      "Time:                        20:26:01   Log-Likelihood:                -542.62\n",
      "No. Observations:                 191   AIC:                             1093.\n",
      "Df Residuals:                     187   BIC:                             1106.\n",
      "Df Model:                           4                                         \n",
      "Covariance Type:            nonrobust                                         \n",
      "==============================================================================\n",
      "                 coef    std err          t      P>|t|      [0.025      0.975]\n",
      "------------------------------------------------------------------------------\n",
      "ERA          -12.7980      0.652    -19.624      0.000     -14.085     -11.512\n",
      "25-Man      2.706e-08      8e-09      3.383      0.001    1.13e-08    4.28e-08\n",
      "SV             0.4605      0.045     10.298      0.000       0.372       0.549\n",
      "SLG          272.4572     10.011     27.217      0.000     252.709     292.205\n",
      "==============================================================================\n",
      "Omnibus:                        7.178   Durbin-Watson:                   2.013\n",
      "Prob(Omnibus):                  0.028   Jarque-Bera (JB):                7.229\n",
      "Skew:                          -0.373   Prob(JB):                       0.0269\n",
      "Kurtosis:                       3.593   Cond. No.                     3.54e+09\n",
      "==============================================================================\n",
      "\n",
      "Warnings:\n",
      "[1] Standard Errors assume that the covariance matrix of the errors is correctly specified.\n",
      "[2] The condition number is large, 3.54e+09. This might indicate that there are\n",
      "strong multicollinearity or other numerical problems.\n"
     ]
    }
   ],
   "source": [
    "predictors = ['ERA','25-Man','SV','SLG']\n",
    "#predictors = ['ERA','25-Man','SV','OBP']\n",
    "#predictors = ['ERA','SLG','25-Man']\n",
    "X = df[predictors]\n",
    "Y = df.W # target response variable, Wins\n",
    "\n",
    "X_train, X_test, y_train, y_test = train_test_split(X, Y, test_size=0.2)\n",
    "print(X_train.shape, y_train.shape)\n",
    "print(X_test.shape, y_test.shape)\n",
    "\n",
    "model = sm.OLS(y_train, X_train)\n",
    "results_SLG = model.fit()\n",
    "print(results_SLG.summary())"
   ]
  },
  {
   "cell_type": "code",
   "execution_count": 35,
   "metadata": {},
   "outputs": [
    {
     "name": "stdout",
     "output_type": "stream",
     "text": [
      "[ 0.90678058  0.8601781   0.86941636  0.84145273  0.89464463]\n",
      "Average 5-Fold CV Score: 0.874494479427329\n"
     ]
    }
   ],
   "source": [
    "# Create a linear regression object: reg\n",
    "reg_1 = LinearRegression() # SLG\n",
    "\n",
    "# Compute 5-fold cross-validation scores: cv_scores\n",
    "cv_scores = cross_val_score(reg,X,Y, cv= 5)\n",
    "\n",
    "# Print the 5-fold cross-validation scores R Squared scores in this case\n",
    "print(cv_scores)\n",
    "\n",
    "print(\"Average 5-Fold CV Score: {}\".format(np.mean(cv_scores)))"
   ]
  },
  {
   "cell_type": "code",
   "execution_count": 36,
   "metadata": {},
   "outputs": [
    {
     "data": {
      "text/plain": [
       "LinearRegression(copy_X=True, fit_intercept=True, n_jobs=1, normalize=False)"
      ]
     },
     "execution_count": 36,
     "metadata": {},
     "output_type": "execute_result"
    }
   ],
   "source": [
    "# fit the model using test data with 'ERA','25-Man','SV','SLG' data\n",
    "reg_1.fit(X_test,y_test)"
   ]
  },
  {
   "cell_type": "code",
   "execution_count": 37,
   "metadata": {},
   "outputs": [
    {
     "name": "stdout",
     "output_type": "stream",
     "text": [
      "(191, 4) (191,)\n",
      "(48, 4) (48,)\n",
      "                            OLS Regression Results                            \n",
      "==============================================================================\n",
      "Dep. Variable:                      W   R-squared:                       0.997\n",
      "Model:                            OLS   Adj. R-squared:                  0.997\n",
      "Method:                 Least Squares   F-statistic:                 1.384e+04\n",
      "Date:                Wed, 22 May 2019   Prob (F-statistic):          5.84e-230\n",
      "Time:                        20:26:01   Log-Likelihood:                -568.74\n",
      "No. Observations:                 191   AIC:                             1145.\n",
      "Df Residuals:                     187   BIC:                             1158.\n",
      "Df Model:                           4                                         \n",
      "Covariance Type:            nonrobust                                         \n",
      "==============================================================================\n",
      "                 coef    std err          t      P>|t|      [0.025      0.975]\n",
      "------------------------------------------------------------------------------\n",
      "ERA          -12.7986      0.770    -16.632      0.000     -14.317     -11.281\n",
      "25-Man      4.349e-08   8.96e-09      4.854      0.000    2.58e-08    6.12e-08\n",
      "SV             0.3209      0.054      5.968      0.000       0.215       0.427\n",
      "OBP          360.3506     15.228     23.663      0.000     330.309     390.392\n",
      "==============================================================================\n",
      "Omnibus:                        4.538   Durbin-Watson:                   1.987\n",
      "Prob(Omnibus):                  0.103   Jarque-Bera (JB):                3.061\n",
      "Skew:                           0.138   Prob(JB):                        0.216\n",
      "Kurtosis:                       2.445   Cond. No.                     4.65e+09\n",
      "==============================================================================\n",
      "\n",
      "Warnings:\n",
      "[1] Standard Errors assume that the covariance matrix of the errors is correctly specified.\n",
      "[2] The condition number is large, 4.65e+09. This might indicate that there are\n",
      "strong multicollinearity or other numerical problems.\n"
     ]
    }
   ],
   "source": [
    "#predictors = ['ERA','25-Man','SV','SLG']\n",
    "predictors = ['ERA','25-Man','SV','OBP']\n",
    "#predictors = ['ERA','SLG','25-Man']\n",
    "X = df[predictors]\n",
    "Y = df.W # target response variable, Wins\n",
    "\n",
    "X_train, X_test, y_train, y_test = train_test_split(X, Y, test_size=0.2)\n",
    "print(X_train.shape, y_train.shape)\n",
    "print(X_test.shape, y_test.shape)\n",
    "\n",
    "model = sm.OLS(y_train, X_train)\n",
    "results_OBP = model.fit()\n",
    "print(results_OBP.summary())"
   ]
  },
  {
   "cell_type": "code",
   "execution_count": 38,
   "metadata": {},
   "outputs": [
    {
     "name": "stdout",
     "output_type": "stream",
     "text": [
      "[ 0.80214926  0.82850297  0.85241331  0.77345986  0.84463002]\n",
      "Average 5-Fold CV Score: 0.8202310849005416\n"
     ]
    }
   ],
   "source": [
    "# Create a linear regression object: reg\n",
    "reg_2 = LinearRegression() # using OBP\n",
    "\n",
    "# Compute 5-fold cross-validation scores: cv_scores\n",
    "cv_scores = cross_val_score(reg,X,Y, cv= 5)\n",
    "\n",
    "# Print the 5-fold cross-validation scores R Squared scores in this case\n",
    "print(cv_scores)\n",
    "\n",
    "print(\"Average 5-Fold CV Score: {}\".format(np.mean(cv_scores)))"
   ]
  },
  {
   "cell_type": "markdown",
   "metadata": {},
   "source": [
    "## PRELIMNARY PREDICTIONS USING 2 MODELS"
   ]
  },
  {
   "cell_type": "code",
   "execution_count": 39,
   "metadata": {},
   "outputs": [
    {
     "data": {
      "text/plain": [
       "LinearRegression(copy_X=True, fit_intercept=True, n_jobs=1, normalize=False)"
      ]
     },
     "execution_count": 39,
     "metadata": {},
     "output_type": "execute_result"
    }
   ],
   "source": [
    "#  fit the model using test data with 'ERA','25-Man','SV','OBP' data\n",
    "reg_2.fit(X_test,y_test)"
   ]
  },
  {
   "cell_type": "code",
   "execution_count": 40,
   "metadata": {},
   "outputs": [
    {
     "data": {
      "text/plain": [
       "ERA       float64\n",
       "25-Man    float64\n",
       "SV          int64\n",
       "OBP       float64\n",
       "dtype: object"
      ]
     },
     "execution_count": 40,
     "metadata": {},
     "output_type": "execute_result"
    }
   ],
   "source": [
    "X_test.dtypes"
   ]
  },
  {
   "cell_type": "code",
   "execution_count": 41,
   "metadata": {
    "collapsed": true
   },
   "outputs": [],
   "source": [
    "# imaginary data for Mets\n",
    "# Need to reshape into 2-D array\n",
    "# convert to numpy array then use array.reshape(1,-1)\n",
    "# Note Boston data is for 2018 season where Boston had 108 wins\n",
    "# Mets data is imaginary data based \n",
    "bos_1 = np.array([3.75,167955780,46,.453]) # SLG\n",
    "bos_2 = np.array([3.75,167955780,46,.339]) # OBP\n",
    "mets_1 = np.array([2.72,144337876,41,.389]) # SLG\n",
    "mets_2 = np.array([2.72,144337876,41,.312]) # OBP\n",
    "mets_1 = mets_1.reshape(1, -1)\n",
    "mets_2 = mets_2.reshape(1, -1)\n",
    "bos_1 = bos_1.reshape(1,-1)\n",
    "bos_2 = bos_2.reshape(1,-1)"
   ]
  },
  {
   "cell_type": "code",
   "execution_count": 42,
   "metadata": {},
   "outputs": [
    {
     "data": {
      "text/plain": [
       "array([ 102.19034657])"
      ]
     },
     "execution_count": 42,
     "metadata": {},
     "output_type": "execute_result"
    }
   ],
   "source": [
    "reg_1.predict(mets_1)"
   ]
  },
  {
   "cell_type": "code",
   "execution_count": 43,
   "metadata": {},
   "outputs": [
    {
     "data": {
      "text/plain": [
       "array([ 91.8010557])"
      ]
     },
     "execution_count": 43,
     "metadata": {},
     "output_type": "execute_result"
    }
   ],
   "source": [
    "reg_2.predict(mets_2)"
   ]
  },
  {
   "cell_type": "code",
   "execution_count": 44,
   "metadata": {},
   "outputs": [
    {
     "data": {
      "text/plain": [
       "array([ 100.00502346])"
      ]
     },
     "execution_count": 44,
     "metadata": {},
     "output_type": "execute_result"
    }
   ],
   "source": [
    "reg_1.predict(bos_1)"
   ]
  },
  {
   "cell_type": "code",
   "execution_count": 45,
   "metadata": {},
   "outputs": [
    {
     "data": {
      "text/plain": [
       "array([ 94.28676621])"
      ]
     },
     "execution_count": 45,
     "metadata": {},
     "output_type": "execute_result"
    }
   ],
   "source": [
    "reg_2.predict(bos_2)"
   ]
  },
  {
   "cell_type": "markdown",
   "metadata": {},
   "source": [
    "## IT SEEMS REGRESSION MODEL 1 USING SLG IS BETTER THAN MODEL 2  USING OBP AT PREDICTING BOSTON'S 2018 WINS: PREDICTED 98 WINS, ACTUAL WINS 108"
   ]
  },
  {
   "cell_type": "markdown",
   "metadata": {},
   "source": [
    "## STATSMODELS REGRESSION MODELS TRAINED ON ENTIRE DATA SET USED TO MAKE PREDICTIONS"
   ]
  },
  {
   "cell_type": "code",
   "execution_count": 46,
   "metadata": {},
   "outputs": [
    {
     "name": "stdout",
     "output_type": "stream",
     "text": [
      "[ 96.2324712]\n"
     ]
    }
   ],
   "source": [
    "winspred_OBP = results_OBP.predict(bos_2)\n",
    "print(winspred_OBP)"
   ]
  },
  {
   "cell_type": "code",
   "execution_count": 47,
   "metadata": {},
   "outputs": [
    {
     "name": "stdout",
     "output_type": "stream",
     "text": [
      "[ 101.15644414]\n"
     ]
    }
   ],
   "source": [
    "winspred_SLG = results_SLG.predict(bos_1)\n",
    "print(winspred_SLG)"
   ]
  },
  {
   "cell_type": "code",
   "execution_count": 48,
   "metadata": {},
   "outputs": [
    {
     "name": "stdout",
     "output_type": "stream",
     "text": [
      "[ 97.05360919]\n"
     ]
    }
   ],
   "source": [
    "Metswinspred_OBP = results_OBP.predict(mets_2)\n",
    "print(Metswinspred_OBP)"
   ]
  },
  {
   "cell_type": "code",
   "execution_count": 49,
   "metadata": {},
   "outputs": [
    {
     "name": "stdout",
     "output_type": "stream",
     "text": [
      "[ 97.05360919]\n"
     ]
    }
   ],
   "source": [
    "Metswinspred_SLG = results_OBP.predict(mets_1)\n",
    "print(Metswinspred_OBP)"
   ]
  },
  {
   "cell_type": "markdown",
   "metadata": {},
   "source": [
    "## MAKE PREDICTIONS WITH SCIKIT MODELS TRAINED ON ALL THE DATA"
   ]
  },
  {
   "cell_type": "markdown",
   "metadata": {},
   "source": [
    "## Linear Regression Using 4 Regressor Independent Variables To Predict Team Wins."
   ]
  },
  {
   "cell_type": "code",
   "execution_count": 50,
   "metadata": {},
   "outputs": [
    {
     "data": {
      "text/plain": [
       "LinearRegression(copy_X=True, fit_intercept=True, n_jobs=1, normalize=False)"
      ]
     },
     "execution_count": 50,
     "metadata": {},
     "output_type": "execute_result"
    }
   ],
   "source": [
    "#predictors = ['ERA','25-Man','SV','SLG']\n",
    "predictors = ['ERA','25-Man','SV','OBP']\n",
    "#predictors = ['ERA','SLG','25-Man']\n",
    "X_obp = df[predictors]\n",
    "Y = df.W # target response variable, Wins\n",
    "reg_obp = LinearRegression() # using OBP\n",
    "reg_obp.fit(X_obp,Y)"
   ]
  },
  {
   "cell_type": "code",
   "execution_count": 51,
   "metadata": {},
   "outputs": [
    {
     "data": {
      "text/plain": [
       "LinearRegression(copy_X=True, fit_intercept=True, n_jobs=1, normalize=False)"
      ]
     },
     "execution_count": 51,
     "metadata": {},
     "output_type": "execute_result"
    }
   ],
   "source": [
    "predictors = ['ERA','25-Man','SV','SLG']\n",
    "X_slg = df[predictors]\n",
    "reg_slg = LinearRegression() # using SLG\n",
    "reg_slg.fit(X_slg,Y)"
   ]
  },
  {
   "cell_type": "markdown",
   "metadata": {},
   "source": [
    "## 2019 Predicted Team Wins For New York Mets"
   ]
  },
  {
   "cell_type": "markdown",
   "metadata": {},
   "source": [
    "## Projected pitching and batting stats are from FanGraphs website to predict wins for 2019 season. Team stats were calculated by taking the average of 20-30 projected player stats for 2019. Salary payroll data is from www.spotrac.com/mlb/new-york-mets/payroll"
   ]
  },
  {
   "cell_type": "markdown",
   "metadata": {},
   "source": [
    "## Note: SV statistic was an arbitrary number because there was difficulty calculating a team average for this statistic. At some point, a better method of obtaining an estimate for SV will be found. "
   ]
  },
  {
   "cell_type": "markdown",
   "metadata": {},
   "source": [
    "## Data for regression models is numpy array with 1 row & 4 columns: \n",
    "## [ ERA, 25-Man, SV, OBP or SLG ]"
   ]
  },
  {
   "cell_type": "code",
   "execution_count": 52,
   "metadata": {},
   "outputs": [
    {
     "data": {
      "text/plain": [
       "array([  3.83000000e+00,   8.63520880e+07,   5.50000000e+01,\n",
       "         3.03000000e-01])"
      ]
     },
     "execution_count": 52,
     "metadata": {},
     "output_type": "execute_result"
    }
   ],
   "source": [
    "# predicted Mets team stats for 2019\n",
    "# ERA: 3.86   25-Man: 86352088 SV:  1.3  OBP:.303 SLG:.380\n",
    "mets_2019_obp = np.array([3.83,86352088,55,.303]) # ERA,25-Man,SV, OBP\n",
    "mets_2019_slg = np.array([3.83,86352088,55,.380]) # ERA,25-Man,SV, SLG\n",
    "mets_2019_obp"
   ]
  },
  {
   "cell_type": "code",
   "execution_count": 53,
   "metadata": {},
   "outputs": [
    {
     "data": {
      "text/plain": [
       "array([  3.83000000e+00,   8.63520880e+07,   5.50000000e+01,\n",
       "         3.80000000e-01])"
      ]
     },
     "execution_count": 53,
     "metadata": {},
     "output_type": "execute_result"
    }
   ],
   "source": [
    "mets_2019_slg"
   ]
  },
  {
   "cell_type": "code",
   "execution_count": 54,
   "metadata": {},
   "outputs": [
    {
     "data": {
      "text/plain": [
       "array([[  3.83000000e+00,   8.63520880e+07,   5.50000000e+01,\n",
       "          3.03000000e-01]])"
      ]
     },
     "execution_count": 54,
     "metadata": {},
     "output_type": "execute_result"
    }
   ],
   "source": [
    "mets_2019_obp = mets_2019_obp.reshape(1,4)\n",
    "mets_2019_obp"
   ]
  },
  {
   "cell_type": "code",
   "execution_count": 55,
   "metadata": {},
   "outputs": [
    {
     "data": {
      "text/plain": [
       "array([[  3.83000000e+00,   8.63520880e+07,   5.50000000e+01,\n",
       "          3.80000000e-01]])"
      ]
     },
     "execution_count": 55,
     "metadata": {},
     "output_type": "execute_result"
    }
   ],
   "source": [
    "mets_2019_slg = mets_2019_slg.reshape(1,4)\n",
    "mets_2019_slg"
   ]
  },
  {
   "cell_type": "code",
   "execution_count": 56,
   "metadata": {},
   "outputs": [
    {
     "name": "stdout",
     "output_type": "stream",
     "text": [
      "Predicted Wins for Mets in 2019 using ERA,25-Man,SV, SLG as Predictors \n",
      "81\n"
     ]
    }
   ],
   "source": [
    "Mets_W_2019_SLG = reg_slg.predict(mets_2019_slg)\n",
    "print('Predicted Wins for Mets in 2019 using ERA,25-Man,SV, SLG as Predictors ')\n",
    "print(str(int(Mets_W_2019_SLG)))"
   ]
  },
  {
   "cell_type": "code",
   "execution_count": 57,
   "metadata": {},
   "outputs": [
    {
     "name": "stdout",
     "output_type": "stream",
     "text": [
      "Predicted Wins for Mets in 2019 using ERA,25-Man,SV, OBP as Predictors \n",
      "81\n"
     ]
    }
   ],
   "source": [
    "Mets_W_2019_OBP =reg_obp.predict(mets_2019_obp)\n",
    "print('Predicted Wins for Mets in 2019 using ERA,25-Man,SV, OBP as Predictors ')\n",
    "print(str(int(Mets_W_2019_OBP)))"
   ]
  },
  {
   "cell_type": "code",
   "execution_count": null,
   "metadata": {
    "collapsed": true
   },
   "outputs": [],
   "source": []
  }
 ],
 "metadata": {
  "kernelspec": {
   "display_name": "Python [default]",
   "language": "python",
   "name": "python3"
  },
  "language_info": {
   "codemirror_mode": {
    "name": "ipython",
    "version": 3
   },
   "file_extension": ".py",
   "mimetype": "text/x-python",
   "name": "python",
   "nbconvert_exporter": "python",
   "pygments_lexer": "ipython3",
   "version": "3.6.0"
  }
 },
 "nbformat": 4,
 "nbformat_minor": 2
}
