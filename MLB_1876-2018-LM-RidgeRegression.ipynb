{
 "cells": [
  {
   "cell_type": "code",
   "execution_count": 1,
   "metadata": {},
   "outputs": [
    {
     "name": "stderr",
     "output_type": "stream",
     "text": [
      "/Users/scottlew/miniconda3/lib/python3.6/site-packages/statsmodels/compat/pandas.py:56: FutureWarning: The pandas.core.datetools module is deprecated and will be removed in a future version. Please use the pandas.tseries module instead.\n",
      "  from pandas.core import datetools\n"
     ]
    }
   ],
   "source": [
    "import pandas as pd\n",
    "import numpy as np\n",
    "import seaborn as sns\n",
    "import matplotlib.pyplot as plt\n",
    "import pickle\n",
    "import datetime\n",
    "import requests\n",
    "import statsmodels.api as sm\n",
    "from sklearn.model_selection import train_test_split\n",
    "from sklearn.linear_model import Ridge\n",
    "from sklearn.linear_model import LinearRegression\n",
    "from sklearn.ensemble import GradientBoostingRegressor\n",
    "from sklearn.ensemble import RandomForestRegressor\n",
    "from sklearn.ensemble import RandomForestClassifier\n",
    "from sklearn.preprocessing import StandardScaler\n",
    "from sklearn.model_selection import cross_val_score\n",
    "from sklearn.metrics import mean_squared_error\n",
    "from itertools import combinations\n",
    "from collections import OrderedDict \n",
    "\n",
    "%matplotlib inline"
   ]
  },
  {
   "cell_type": "markdown",
   "metadata": {},
   "source": [
    "## READ IN MLB STATS FOR 1876-2018 SEASONS "
   ]
  },
  {
   "cell_type": "markdown",
   "metadata": {},
   "source": [
    "## Note: No salary data is used for regression in this case."
   ]
  },
  {
   "cell_type": "code",
   "execution_count": 2,
   "metadata": {
    "collapsed": true
   },
   "outputs": [],
   "source": [
    "# read data from csv file for 2001-2018 MLB seasons\n",
    "#df = pd.read_csv('MLB_STATS_1900-2018_BP.csv')\n",
    "df = pd.read_csv('MLB_STATS_1876-2018_BP.csv')\n",
    "#df = pd.read_csv('MLB_KBO_STATS_1876-2018_BP.csv') # korean baseball stats 2008-2018"
   ]
  },
  {
   "cell_type": "code",
   "execution_count": 3,
   "metadata": {},
   "outputs": [
    {
     "data": {
      "text/html": [
       "<div>\n",
       "<style>\n",
       "    .dataframe thead tr:only-child th {\n",
       "        text-align: right;\n",
       "    }\n",
       "\n",
       "    .dataframe thead th {\n",
       "        text-align: left;\n",
       "    }\n",
       "\n",
       "    .dataframe tbody tr th {\n",
       "        vertical-align: top;\n",
       "    }\n",
       "</style>\n",
       "<table border=\"1\" class=\"dataframe\">\n",
       "  <thead>\n",
       "    <tr style=\"text-align: right;\">\n",
       "      <th></th>\n",
       "      <th>Tm</th>\n",
       "      <th>#Bat</th>\n",
       "      <th>BatAge</th>\n",
       "      <th>R/G</th>\n",
       "      <th>G_x</th>\n",
       "      <th>PA</th>\n",
       "      <th>AB</th>\n",
       "      <th>R_x</th>\n",
       "      <th>H_x</th>\n",
       "      <th>2B</th>\n",
       "      <th>...</th>\n",
       "      <th>SO_y</th>\n",
       "      <th>SO/W</th>\n",
       "      <th>SO9</th>\n",
       "      <th>SV</th>\n",
       "      <th>W</th>\n",
       "      <th>W-L%</th>\n",
       "      <th>WHIP</th>\n",
       "      <th>WP</th>\n",
       "      <th>cSho</th>\n",
       "      <th>tSho</th>\n",
       "    </tr>\n",
       "  </thead>\n",
       "  <tbody>\n",
       "    <tr>\n",
       "      <th>0</th>\n",
       "      <td>ATH</td>\n",
       "      <td>21</td>\n",
       "      <td>26.0</td>\n",
       "      <td>6.30</td>\n",
       "      <td>60</td>\n",
       "      <td>2414</td>\n",
       "      <td>2387</td>\n",
       "      <td>378</td>\n",
       "      <td>646</td>\n",
       "      <td>79</td>\n",
       "      <td>...</td>\n",
       "      <td>22</td>\n",
       "      <td>0.54</td>\n",
       "      <td>0.4</td>\n",
       "      <td>2</td>\n",
       "      <td>14</td>\n",
       "      <td>0.237</td>\n",
       "      <td>1.498</td>\n",
       "      <td>33</td>\n",
       "      <td>1.0</td>\n",
       "      <td>1.0</td>\n",
       "    </tr>\n",
       "    <tr>\n",
       "      <th>1</th>\n",
       "      <td>BSN</td>\n",
       "      <td>17</td>\n",
       "      <td>24.7</td>\n",
       "      <td>6.73</td>\n",
       "      <td>70</td>\n",
       "      <td>2780</td>\n",
       "      <td>2722</td>\n",
       "      <td>471</td>\n",
       "      <td>723</td>\n",
       "      <td>96</td>\n",
       "      <td>...</td>\n",
       "      <td>77</td>\n",
       "      <td>0.74</td>\n",
       "      <td>1.1</td>\n",
       "      <td>7</td>\n",
       "      <td>39</td>\n",
       "      <td>0.557</td>\n",
       "      <td>1.323</td>\n",
       "      <td>46</td>\n",
       "      <td>3.0</td>\n",
       "      <td>3.0</td>\n",
       "    </tr>\n",
       "    <tr>\n",
       "      <th>2</th>\n",
       "      <td>CHC</td>\n",
       "      <td>11</td>\n",
       "      <td>25.9</td>\n",
       "      <td>9.45</td>\n",
       "      <td>66</td>\n",
       "      <td>2818</td>\n",
       "      <td>2748</td>\n",
       "      <td>624</td>\n",
       "      <td>926</td>\n",
       "      <td>131</td>\n",
       "      <td>...</td>\n",
       "      <td>51</td>\n",
       "      <td>1.76</td>\n",
       "      <td>0.8</td>\n",
       "      <td>4</td>\n",
       "      <td>52</td>\n",
       "      <td>0.788</td>\n",
       "      <td>1.075</td>\n",
       "      <td>3</td>\n",
       "      <td>8.0</td>\n",
       "      <td>9.0</td>\n",
       "    </tr>\n",
       "    <tr>\n",
       "      <th>3</th>\n",
       "      <td>CIN</td>\n",
       "      <td>13</td>\n",
       "      <td>24.5</td>\n",
       "      <td>3.66</td>\n",
       "      <td>65</td>\n",
       "      <td>2413</td>\n",
       "      <td>2372</td>\n",
       "      <td>238</td>\n",
       "      <td>555</td>\n",
       "      <td>51</td>\n",
       "      <td>...</td>\n",
       "      <td>60</td>\n",
       "      <td>1.76</td>\n",
       "      <td>0.9</td>\n",
       "      <td>0</td>\n",
       "      <td>9</td>\n",
       "      <td>0.138</td>\n",
       "      <td>1.496</td>\n",
       "      <td>28</td>\n",
       "      <td>0.0</td>\n",
       "      <td>0.0</td>\n",
       "    </tr>\n",
       "    <tr>\n",
       "      <th>4</th>\n",
       "      <td>HAR</td>\n",
       "      <td>12</td>\n",
       "      <td>26.3</td>\n",
       "      <td>6.22</td>\n",
       "      <td>69</td>\n",
       "      <td>2703</td>\n",
       "      <td>2664</td>\n",
       "      <td>429</td>\n",
       "      <td>711</td>\n",
       "      <td>96</td>\n",
       "      <td>...</td>\n",
       "      <td>114</td>\n",
       "      <td>4.22</td>\n",
       "      <td>1.6</td>\n",
       "      <td>0</td>\n",
       "      <td>47</td>\n",
       "      <td>0.691</td>\n",
       "      <td>0.957</td>\n",
       "      <td>15</td>\n",
       "      <td>11.0</td>\n",
       "      <td>11.0</td>\n",
       "    </tr>\n",
       "  </tbody>\n",
       "</table>\n",
       "<p>5 rows × 65 columns</p>\n",
       "</div>"
      ],
      "text/plain": [
       "    Tm  #Bat  BatAge   R/G  G_x    PA    AB  R_x  H_x   2B  ...   SO_y  SO/W  \\\n",
       "0  ATH    21    26.0  6.30   60  2414  2387  378  646   79  ...     22  0.54   \n",
       "1  BSN    17    24.7  6.73   70  2780  2722  471  723   96  ...     77  0.74   \n",
       "2  CHC    11    25.9  9.45   66  2818  2748  624  926  131  ...     51  1.76   \n",
       "3  CIN    13    24.5  3.66   65  2413  2372  238  555   51  ...     60  1.76   \n",
       "4  HAR    12    26.3  6.22   69  2703  2664  429  711   96  ...    114  4.22   \n",
       "\n",
       "   SO9  SV   W   W-L%   WHIP  WP  cSho  tSho  \n",
       "0  0.4   2  14  0.237  1.498  33   1.0   1.0  \n",
       "1  1.1   7  39  0.557  1.323  46   3.0   3.0  \n",
       "2  0.8   4  52  0.788  1.075   3   8.0   9.0  \n",
       "3  0.9   0   9  0.138  1.496  28   0.0   0.0  \n",
       "4  1.6   0  47  0.691  0.957  15  11.0  11.0  \n",
       "\n",
       "[5 rows x 65 columns]"
      ]
     },
     "execution_count": 3,
     "metadata": {},
     "output_type": "execute_result"
    }
   ],
   "source": [
    "df.head()"
   ]
  },
  {
   "cell_type": "code",
   "execution_count": 4,
   "metadata": {},
   "outputs": [
    {
     "data": {
      "text/plain": [
       "(2815, 65)"
      ]
     },
     "execution_count": 4,
     "metadata": {},
     "output_type": "execute_result"
    }
   ],
   "source": [
    "df.shape"
   ]
  },
  {
   "cell_type": "code",
   "execution_count": 5,
   "metadata": {},
   "outputs": [
    {
     "data": {
      "text/html": [
       "<div>\n",
       "<style>\n",
       "    .dataframe thead tr:only-child th {\n",
       "        text-align: right;\n",
       "    }\n",
       "\n",
       "    .dataframe thead th {\n",
       "        text-align: left;\n",
       "    }\n",
       "\n",
       "    .dataframe tbody tr th {\n",
       "        vertical-align: top;\n",
       "    }\n",
       "</style>\n",
       "<table border=\"1\" class=\"dataframe\">\n",
       "  <thead>\n",
       "    <tr style=\"text-align: right;\">\n",
       "      <th></th>\n",
       "      <th>Tm</th>\n",
       "      <th>#Bat</th>\n",
       "      <th>BatAge</th>\n",
       "      <th>R/G</th>\n",
       "      <th>G_x</th>\n",
       "      <th>PA</th>\n",
       "      <th>AB</th>\n",
       "      <th>R_x</th>\n",
       "      <th>H_x</th>\n",
       "      <th>2B</th>\n",
       "      <th>...</th>\n",
       "      <th>SO_y</th>\n",
       "      <th>SO/W</th>\n",
       "      <th>SO9</th>\n",
       "      <th>SV</th>\n",
       "      <th>W</th>\n",
       "      <th>W-L%</th>\n",
       "      <th>WHIP</th>\n",
       "      <th>WP</th>\n",
       "      <th>cSho</th>\n",
       "      <th>tSho</th>\n",
       "    </tr>\n",
       "  </thead>\n",
       "  <tbody>\n",
       "    <tr>\n",
       "      <th>2810</th>\n",
       "      <td>STL</td>\n",
       "      <td>49</td>\n",
       "      <td>28.0</td>\n",
       "      <td>4.69</td>\n",
       "      <td>162</td>\n",
       "      <td>6200</td>\n",
       "      <td>5498</td>\n",
       "      <td>759</td>\n",
       "      <td>1369</td>\n",
       "      <td>248</td>\n",
       "      <td>...</td>\n",
       "      <td>1337</td>\n",
       "      <td>2.25</td>\n",
       "      <td>8.3</td>\n",
       "      <td>43</td>\n",
       "      <td>88</td>\n",
       "      <td>0.543</td>\n",
       "      <td>1.338</td>\n",
       "      <td>63</td>\n",
       "      <td>1.0</td>\n",
       "      <td>8.0</td>\n",
       "    </tr>\n",
       "    <tr>\n",
       "      <th>2811</th>\n",
       "      <td>TBR</td>\n",
       "      <td>54</td>\n",
       "      <td>27.1</td>\n",
       "      <td>4.42</td>\n",
       "      <td>162</td>\n",
       "      <td>6195</td>\n",
       "      <td>5475</td>\n",
       "      <td>716</td>\n",
       "      <td>1415</td>\n",
       "      <td>274</td>\n",
       "      <td>...</td>\n",
       "      <td>1421</td>\n",
       "      <td>2.84</td>\n",
       "      <td>8.8</td>\n",
       "      <td>52</td>\n",
       "      <td>90</td>\n",
       "      <td>0.556</td>\n",
       "      <td>1.199</td>\n",
       "      <td>55</td>\n",
       "      <td>0.0</td>\n",
       "      <td>14.0</td>\n",
       "    </tr>\n",
       "    <tr>\n",
       "      <th>2812</th>\n",
       "      <td>TEX</td>\n",
       "      <td>50</td>\n",
       "      <td>27.4</td>\n",
       "      <td>4.55</td>\n",
       "      <td>162</td>\n",
       "      <td>6163</td>\n",
       "      <td>5453</td>\n",
       "      <td>737</td>\n",
       "      <td>1308</td>\n",
       "      <td>266</td>\n",
       "      <td>...</td>\n",
       "      <td>1121</td>\n",
       "      <td>2.28</td>\n",
       "      <td>7.1</td>\n",
       "      <td>42</td>\n",
       "      <td>67</td>\n",
       "      <td>0.414</td>\n",
       "      <td>1.403</td>\n",
       "      <td>57</td>\n",
       "      <td>0.0</td>\n",
       "      <td>5.0</td>\n",
       "    </tr>\n",
       "    <tr>\n",
       "      <th>2813</th>\n",
       "      <td>TOR</td>\n",
       "      <td>63</td>\n",
       "      <td>28.9</td>\n",
       "      <td>4.38</td>\n",
       "      <td>162</td>\n",
       "      <td>6076</td>\n",
       "      <td>5477</td>\n",
       "      <td>709</td>\n",
       "      <td>1336</td>\n",
       "      <td>320</td>\n",
       "      <td>...</td>\n",
       "      <td>1298</td>\n",
       "      <td>2.36</td>\n",
       "      <td>8.1</td>\n",
       "      <td>39</td>\n",
       "      <td>73</td>\n",
       "      <td>0.451</td>\n",
       "      <td>1.414</td>\n",
       "      <td>71</td>\n",
       "      <td>0.0</td>\n",
       "      <td>3.0</td>\n",
       "    </tr>\n",
       "    <tr>\n",
       "      <th>2814</th>\n",
       "      <td>WSN</td>\n",
       "      <td>53</td>\n",
       "      <td>27.6</td>\n",
       "      <td>4.76</td>\n",
       "      <td>162</td>\n",
       "      <td>6288</td>\n",
       "      <td>5517</td>\n",
       "      <td>771</td>\n",
       "      <td>1402</td>\n",
       "      <td>284</td>\n",
       "      <td>...</td>\n",
       "      <td>1417</td>\n",
       "      <td>2.91</td>\n",
       "      <td>8.8</td>\n",
       "      <td>40</td>\n",
       "      <td>82</td>\n",
       "      <td>0.506</td>\n",
       "      <td>1.250</td>\n",
       "      <td>42</td>\n",
       "      <td>1.0</td>\n",
       "      <td>7.0</td>\n",
       "    </tr>\n",
       "  </tbody>\n",
       "</table>\n",
       "<p>5 rows × 65 columns</p>\n",
       "</div>"
      ],
      "text/plain": [
       "       Tm  #Bat  BatAge   R/G  G_x    PA    AB  R_x   H_x   2B  ...   SO_y  \\\n",
       "2810  STL    49    28.0  4.69  162  6200  5498  759  1369  248  ...   1337   \n",
       "2811  TBR    54    27.1  4.42  162  6195  5475  716  1415  274  ...   1421   \n",
       "2812  TEX    50    27.4  4.55  162  6163  5453  737  1308  266  ...   1121   \n",
       "2813  TOR    63    28.9  4.38  162  6076  5477  709  1336  320  ...   1298   \n",
       "2814  WSN    53    27.6  4.76  162  6288  5517  771  1402  284  ...   1417   \n",
       "\n",
       "      SO/W  SO9  SV   W   W-L%   WHIP  WP  cSho  tSho  \n",
       "2810  2.25  8.3  43  88  0.543  1.338  63   1.0   8.0  \n",
       "2811  2.84  8.8  52  90  0.556  1.199  55   0.0  14.0  \n",
       "2812  2.28  7.1  42  67  0.414  1.403  57   0.0   5.0  \n",
       "2813  2.36  8.1  39  73  0.451  1.414  71   0.0   3.0  \n",
       "2814  2.91  8.8  40  82  0.506  1.250  42   1.0   7.0  \n",
       "\n",
       "[5 rows x 65 columns]"
      ]
     },
     "execution_count": 5,
     "metadata": {},
     "output_type": "execute_result"
    }
   ],
   "source": [
    "df.tail()"
   ]
  },
  {
   "cell_type": "code",
   "execution_count": 6,
   "metadata": {},
   "outputs": [
    {
     "data": {
      "text/plain": [
       "Tm         object\n",
       "#Bat        int64\n",
       "BatAge    float64\n",
       "R/G       float64\n",
       "G_x         int64\n",
       "PA          int64\n",
       "AB          int64\n",
       "R_x         int64\n",
       "H_x         int64\n",
       "2B          int64\n",
       "3B          int64\n",
       "HR_x        int64\n",
       "RBI       float64\n",
       "SB        float64\n",
       "CS        float64\n",
       "BB_x        int64\n",
       "SO_x        int64\n",
       "BA        float64\n",
       "OBP       float64\n",
       "SLG       float64\n",
       "OPS       float64\n",
       "OPS+        int64\n",
       "TB          int64\n",
       "GDP       float64\n",
       "HBP_x     float64\n",
       "SH        float64\n",
       "SF        float64\n",
       "IBB_x     float64\n",
       "LOB_x     float64\n",
       "Year        int64\n",
       "           ...   \n",
       "CG          int64\n",
       "ER          int64\n",
       "ERA       float64\n",
       "ERA+        int64\n",
       "FIP       float64\n",
       "G_y         int64\n",
       "GF          int64\n",
       "GS          int64\n",
       "H_y         int64\n",
       "H9        float64\n",
       "HBP_y     float64\n",
       "HR_y        int64\n",
       "HR9       float64\n",
       "IBB_y     float64\n",
       "IP        float64\n",
       "L           int64\n",
       "LOB_y     float64\n",
       "PAge      float64\n",
       "R_y         int64\n",
       "RA/G      float64\n",
       "SO_y        int64\n",
       "SO/W      float64\n",
       "SO9       float64\n",
       "SV          int64\n",
       "W           int64\n",
       "W-L%      float64\n",
       "WHIP      float64\n",
       "WP          int64\n",
       "cSho      float64\n",
       "tSho      float64\n",
       "Length: 65, dtype: object"
      ]
     },
     "execution_count": 6,
     "metadata": {},
     "output_type": "execute_result"
    }
   ],
   "source": [
    "df.dtypes"
   ]
  },
  {
   "cell_type": "code",
   "execution_count": 7,
   "metadata": {},
   "outputs": [
    {
     "data": {
      "text/plain": [
       "Index(['Tm', '#Bat', 'BatAge', 'R/G', 'G_x', 'PA', 'AB', 'R_x', 'H_x', '2B',\n",
       "       '3B', 'HR_x', 'RBI', 'SB', 'CS', 'BB_x', 'SO_x', 'BA', 'OBP', 'SLG',\n",
       "       'OPS', 'OPS+', 'TB', 'GDP', 'HBP_x', 'SH', 'SF', 'IBB_x', 'LOB_x',\n",
       "       'Year', '#P', 'BB_y', 'BB9', 'BF', 'BK', 'CG', 'ER', 'ERA', 'ERA+',\n",
       "       'FIP', 'G_y', 'GF', 'GS', 'H_y', 'H9', 'HBP_y', 'HR_y', 'HR9', 'IBB_y',\n",
       "       'IP', 'L', 'LOB_y', 'PAge', 'R_y', 'RA/G', 'SO_y', 'SO/W', 'SO9', 'SV',\n",
       "       'W', 'W-L%', 'WHIP', 'WP', 'cSho', 'tSho'],\n",
       "      dtype='object')"
      ]
     },
     "execution_count": 7,
     "metadata": {},
     "output_type": "execute_result"
    }
   ],
   "source": [
    "df.columns"
   ]
  },
  {
   "cell_type": "code",
   "execution_count": 8,
   "metadata": {},
   "outputs": [
    {
     "data": {
      "text/plain": [
       "1884    33\n",
       "2017    30\n",
       "2015    30\n",
       "1998    30\n",
       "2002    30\n",
       "2004    30\n",
       "2006    30\n",
       "2008    30\n",
       "2010    30\n",
       "2012    30\n",
       "2014    30\n",
       "2016    30\n",
       "2018    30\n",
       "2005    30\n",
       "2013    30\n",
       "1999    30\n",
       "2001    30\n",
       "2003    30\n",
       "2007    30\n",
       "2009    30\n",
       "2011    30\n",
       "1993    28\n",
       "1997    28\n",
       "1996    28\n",
       "1994    28\n",
       "1995    28\n",
       "1992    26\n",
       "1990    26\n",
       "1988    26\n",
       "1986    26\n",
       "        ..\n",
       "1941    16\n",
       "1905    16\n",
       "1911    16\n",
       "1901    16\n",
       "1883    16\n",
       "1957    16\n",
       "1955    16\n",
       "1953    16\n",
       "1951    16\n",
       "1947    16\n",
       "1949    16\n",
       "1885    16\n",
       "1887    16\n",
       "1889    16\n",
       "1882    14\n",
       "1892    12\n",
       "1897    12\n",
       "1895    12\n",
       "1893    12\n",
       "1894    12\n",
       "1896    12\n",
       "1898    12\n",
       "1899    12\n",
       "1881     8\n",
       "1900     8\n",
       "1879     8\n",
       "1880     8\n",
       "1876     8\n",
       "1877     6\n",
       "1878     6\n",
       "Name: Year, Length: 142, dtype: int64"
      ]
     },
     "execution_count": 8,
     "metadata": {},
     "output_type": "execute_result"
    }
   ],
   "source": [
    "df.Year.value_counts()"
   ]
  },
  {
   "cell_type": "code",
   "execution_count": 9,
   "metadata": {
    "collapsed": true
   },
   "outputs": [],
   "source": [
    "correlation = df.corr()"
   ]
  },
  {
   "cell_type": "code",
   "execution_count": 10,
   "metadata": {},
   "outputs": [
    {
     "data": {
      "text/plain": [
       "#Bat      0.178940\n",
       "BatAge    0.352487\n",
       "R/G       0.224332\n",
       "G_x       0.582830\n",
       "PA        0.629993\n",
       "AB        0.599076\n",
       "R_x       0.626056\n",
       "H_x       0.649828\n",
       "2B        0.509120\n",
       "3B        0.014362\n",
       "HR_x      0.447111\n",
       "RBI       0.648062\n",
       "SB       -0.008447\n",
       "CS       -0.016638\n",
       "BB_x      0.586737\n",
       "SO_x      0.304754\n",
       "BA        0.353061\n",
       "OBP       0.533598\n",
       "SLG       0.521056\n",
       "OPS       0.564913\n",
       "OPS+      0.549647\n",
       "TB        0.649951\n",
       "GDP       0.077197\n",
       "HBP_x     0.127109\n",
       "SH       -0.018893\n",
       "SF        0.354130\n",
       "IBB_x     0.354443\n",
       "LOB_x     0.359822\n",
       "Year      0.352521\n",
       "#P        0.186490\n",
       "            ...   \n",
       "CG       -0.175771\n",
       "ER        0.081558\n",
       "ERA      -0.242158\n",
       "ERA+      0.563912\n",
       "FIP      -0.025223\n",
       "G_y       0.582832\n",
       "GF        0.356504\n",
       "GS        0.582657\n",
       "H_y       0.240439\n",
       "H9       -0.487337\n",
       "HBP_y    -0.092135\n",
       "HR_y      0.256221\n",
       "HR9       0.207969\n",
       "IBB_y    -0.050684\n",
       "IP        0.612138\n",
       "L        -0.332367\n",
       "LOB_y     0.042761\n",
       "PAge      0.390851\n",
       "R_y      -0.162247\n",
       "RA/G     -0.607445\n",
       "SO_y      0.441019\n",
       "SO/W      0.148624\n",
       "SO9       0.334545\n",
       "SV        0.482644\n",
       "W         1.000000\n",
       "W-L%      0.819723\n",
       "WHIP     -0.336374\n",
       "WP       -0.107353\n",
       "cSho      0.272929\n",
       "tSho      0.508369\n",
       "Name: W, Length: 64, dtype: float64"
      ]
     },
     "execution_count": 10,
     "metadata": {},
     "output_type": "execute_result"
    }
   ],
   "source": [
    "W_corr = correlation.W\n",
    "W_corr"
   ]
  },
  {
   "cell_type": "code",
   "execution_count": 11,
   "metadata": {},
   "outputs": [
    {
     "data": {
      "text/plain": [
       "Tm           0\n",
       "#Bat         0\n",
       "BatAge       0\n",
       "R/G          0\n",
       "G_x          0\n",
       "PA           0\n",
       "AB           0\n",
       "R_x          0\n",
       "H_x          0\n",
       "2B           0\n",
       "3B           0\n",
       "HR_x         0\n",
       "RBI         15\n",
       "SB         123\n",
       "CS         717\n",
       "BB_x         0\n",
       "SO_x         0\n",
       "BA           0\n",
       "OBP          0\n",
       "SLG          0\n",
       "OPS          0\n",
       "OPS+         0\n",
       "TB           0\n",
       "GDP        909\n",
       "HBP_x      110\n",
       "SH         253\n",
       "SF        1197\n",
       "IBB_x      989\n",
       "LOB_x      445\n",
       "Year         0\n",
       "          ... \n",
       "CG           0\n",
       "ER           0\n",
       "ERA          0\n",
       "ERA+         0\n",
       "FIP          0\n",
       "G_y          0\n",
       "GF           0\n",
       "GS           0\n",
       "H_y          0\n",
       "H9           0\n",
       "HBP_y      110\n",
       "HR_y         0\n",
       "HR9          0\n",
       "IBB_y      989\n",
       "IP           0\n",
       "L            0\n",
       "LOB_y      445\n",
       "PAge         0\n",
       "R_y          0\n",
       "RA/G         0\n",
       "SO_y         0\n",
       "SO/W         0\n",
       "SO9          0\n",
       "SV           0\n",
       "W            0\n",
       "W-L%         0\n",
       "WHIP         0\n",
       "WP           0\n",
       "cSho         8\n",
       "tSho         8\n",
       "Length: 65, dtype: int64"
      ]
     },
     "execution_count": 11,
     "metadata": {},
     "output_type": "execute_result"
    }
   ],
   "source": [
    "#df.SV.isna().sum()\n",
    "df.isnull().sum()"
   ]
  },
  {
   "cell_type": "code",
   "execution_count": 12,
   "metadata": {},
   "outputs": [
    {
     "data": {
      "text/plain": [
       "Index(['Tm', '#Bat', 'BatAge', 'R/G', 'G_x', 'PA', 'AB', 'R_x', 'H_x', '2B',\n",
       "       '3B', 'HR_x', 'RBI', 'SB', 'CS', 'BB_x', 'SO_x', 'BA', 'OBP', 'SLG',\n",
       "       'OPS', 'OPS+', 'TB', 'GDP', 'HBP_x', 'SH', 'SF', 'IBB_x', 'LOB_x',\n",
       "       'Year', '#P', 'BB_y', 'BB9', 'BF', 'BK', 'CG', 'ER', 'ERA', 'ERA+',\n",
       "       'FIP', 'G_y', 'GF', 'GS', 'H_y', 'H9', 'HBP_y', 'HR_y', 'HR9', 'IBB_y',\n",
       "       'IP', 'L', 'LOB_y', 'PAge', 'R_y', 'RA/G', 'SO_y', 'SO/W', 'SO9', 'SV',\n",
       "       'W', 'W-L%', 'WHIP', 'WP', 'cSho', 'tSho'],\n",
       "      dtype='object')"
      ]
     },
     "execution_count": 12,
     "metadata": {},
     "output_type": "execute_result"
    }
   ],
   "source": [
    "df.columns"
   ]
  },
  {
   "cell_type": "markdown",
   "metadata": {},
   "source": [
    "# Split the data into training & test sets."
   ]
  },
  {
   "cell_type": "code",
   "execution_count": 13,
   "metadata": {},
   "outputs": [
    {
     "data": {
      "text/plain": [
       "Index(['Tm', '#Bat', 'BatAge', 'R/G', 'G_x', 'PA', 'AB', 'R_x', 'H_x', '2B',\n",
       "       '3B', 'HR_x', 'RBI', 'SB', 'CS', 'BB_x', 'SO_x', 'BA', 'OBP', 'SLG',\n",
       "       'OPS', 'OPS+', 'TB', 'GDP', 'HBP_x', 'SH', 'SF', 'IBB_x', 'LOB_x',\n",
       "       'Year', '#P', 'BB_y', 'BB9', 'BF', 'BK', 'CG', 'ER', 'ERA', 'ERA+',\n",
       "       'FIP', 'G_y', 'GF', 'GS', 'H_y', 'H9', 'HBP_y', 'HR_y', 'HR9', 'IBB_y',\n",
       "       'IP', 'L', 'LOB_y', 'PAge', 'R_y', 'RA/G', 'SO_y', 'SO/W', 'SO9', 'SV',\n",
       "       'W', 'W-L%', 'WHIP', 'WP', 'cSho', 'tSho'],\n",
       "      dtype='object')"
      ]
     },
     "execution_count": 13,
     "metadata": {},
     "output_type": "execute_result"
    }
   ],
   "source": [
    "df.columns"
   ]
  },
  {
   "cell_type": "code",
   "execution_count": 14,
   "metadata": {},
   "outputs": [
    {
     "data": {
      "text/plain": [
       "(2815, 65)"
      ]
     },
     "execution_count": 14,
     "metadata": {},
     "output_type": "execute_result"
    }
   ],
   "source": [
    "# No need to drop rows win Nan values if you choose your predictors carefully!\n",
    "#df = df.dropna()\n",
    "df.shape"
   ]
  },
  {
   "cell_type": "code",
   "execution_count": 15,
   "metadata": {},
   "outputs": [
    {
     "data": {
      "text/plain": [
       "count    2815.000000\n",
       "mean       75.858970\n",
       "std        16.007805\n",
       "min         2.000000\n",
       "25%        67.000000\n",
       "50%        77.000000\n",
       "75%        87.000000\n",
       "max       116.000000\n",
       "Name: W, dtype: float64"
      ]
     },
     "execution_count": 15,
     "metadata": {},
     "output_type": "execute_result"
    }
   ],
   "source": [
    "df.W.describe()"
   ]
  },
  {
   "cell_type": "markdown",
   "metadata": {},
   "source": [
    "## Linear Regression with scikit learn model. Predictors chosen from R model"
   ]
  },
  {
   "cell_type": "code",
   "execution_count": 16,
   "metadata": {},
   "outputs": [
    {
     "name": "stdout",
     "output_type": "stream",
     "text": [
      "11\n"
     ]
    }
   ],
   "source": [
    "#predictors = ['BA','ERA','SO_y','SV','SLG','OBP','R_x','SO_y','GF','RA/G','R_y','CG','WHIP','SO9','tSho']\n",
    "#predictors = ['ERA','SV','SLG','OBP','R_x','SO_y','GF','RA/G','R_y','CG','WHIP','SO9','tSho']\n",
    "#predictors = ['ERA','SV','SLG','OBP','R_x','SO_y','GF','RA/G','R_y','CG','WHIP','SO9']\n",
    "predictors = ['ERA','SV','SLG','OBP','R_x','SO_y','GF','R_y','CG','WHIP','SO9']\n",
    "print(len(predictors))"
   ]
  },
  {
   "cell_type": "code",
   "execution_count": 17,
   "metadata": {},
   "outputs": [
    {
     "name": "stdout",
     "output_type": "stream",
     "text": [
      "(2252, 11) (2252,)\n",
      "(563, 11) (563,)\n"
     ]
    }
   ],
   "source": [
    "# create training and testing vars\n",
    "#predictors = ['BA','ERA','SO_y','SV','SLG','OBP','R_x','SO_y','GF','RA/G','R_y','CG']\n",
    "# BA ERA  SLG  OBP  R_x  CG  ER  ERA  GF R_y  RA.G  SO_y \n",
    "#SO9 SV  WHIP tSho\n",
    "y = df.W\n",
    "#y = y.dropna()\n",
    "X = df[predictors]\n",
    "#X = X.dropna()\n",
    "X_train, X_test, y_train, y_test = train_test_split(X, y, test_size=0.2,random_state =42)\n",
    "print(X_train.shape, y_train.shape)\n",
    "print(X_test.shape, y_test.shape)"
   ]
  },
  {
   "cell_type": "code",
   "execution_count": 18,
   "metadata": {
    "collapsed": true
   },
   "outputs": [],
   "source": [
    "# fit a model\n",
    "lm = LinearRegression()\n",
    "model = lm.fit(X_train, y_train)\n",
    "predictions = lm.predict(X_test)"
   ]
  },
  {
   "cell_type": "code",
   "execution_count": 19,
   "metadata": {},
   "outputs": [
    {
     "name": "stdout",
     "output_type": "stream",
     "text": [
      "The Trainng Score For Model 1:\n",
      "0.941294971986\n",
      "\n",
      "The Test Score For Model 1:\n",
      "0.937767412511\n",
      "\n",
      "[  1.44730250e+00   3.04545976e-01   1.53150958e+01   4.89567556e+01\n",
      "   7.62948230e-02   7.72984408e-03   4.18565155e-01  -9.03567140e-02\n",
      "   5.28865746e-01  -5.07075462e+00  -1.12120189e+00]\n"
     ]
    }
   ],
   "source": [
    "print(\"The Trainng Score For Model 1:\")\n",
    "print(lm.score(X_train,y_train))\n",
    "print()\n",
    "print(\"The Test Score For Model 1:\")\n",
    "print(lm.score(X_test,y_test))\n",
    "print()\n",
    "print(model.coef_)"
   ]
  },
  {
   "cell_type": "code",
   "execution_count": 20,
   "metadata": {},
   "outputs": [
    {
     "data": {
      "text/plain": [
       "<matplotlib.text.Text at 0x11c0572b0>"
      ]
     },
     "execution_count": 20,
     "metadata": {},
     "output_type": "execute_result"
    },
    {
     "data": {
      "image/png": "[encoded data removed]",
      "text/plain": [
       "<matplotlib.figure.Figure at 0x11bfee400>"
      ]
     },
     "metadata": {},
     "output_type": "display_data"
    }
   ],
   "source": [
    "plt.scatter(y_test, predictions)\n",
    "plt.title(\"Model 1\")\n",
    "plt.xlabel('True Values')\n",
    "plt.ylabel('Predictions')"
   ]
  },
  {
   "cell_type": "code",
   "execution_count": 21,
   "metadata": {},
   "outputs": [
    {
     "name": "stdout",
     "output_type": "stream",
     "text": [
      "For Linear Regression Model 1:\n",
      "Root Mean Squared Error Train: 3.86486337422413\n",
      "\n",
      "Root Mean Squared Error Test: 4.045730349682379\n",
      "\n"
     ]
    }
   ],
   "source": [
    "pred_tr = lm.predict(X_train)\n",
    "rmse_train = np.sqrt(mean_squared_error(y_train,pred_tr))\n",
    "print('For Linear Regression Model 1:')\n",
    "print(\"Root Mean Squared Error Train: {}\".format(rmse_train))\n",
    "print()\n",
    "rmse_test = np.sqrt(mean_squared_error(y_test,predictions))\n",
    "print(\"Root Mean Squared Error Test: {}\".format(rmse_test))\n",
    "print()"
   ]
  },
  {
   "cell_type": "markdown",
   "metadata": {},
   "source": [
    "## Test of Model 1 Using Korean Baseball Stats from 2008 to 2018"
   ]
  },
  {
   "cell_type": "code",
   "execution_count": 22,
   "metadata": {},
   "outputs": [
    {
     "data": {
      "text/html": [
       "<div>\n",
       "<style>\n",
       "    .dataframe thead tr:only-child th {\n",
       "        text-align: right;\n",
       "    }\n",
       "\n",
       "    .dataframe thead th {\n",
       "        text-align: left;\n",
       "    }\n",
       "\n",
       "    .dataframe tbody tr th {\n",
       "        vertical-align: top;\n",
       "    }\n",
       "</style>\n",
       "<table border=\"1\" class=\"dataframe\">\n",
       "  <thead>\n",
       "    <tr style=\"text-align: right;\">\n",
       "      <th></th>\n",
       "      <th>Tm</th>\n",
       "      <th>BatAge</th>\n",
       "      <th>R/G_x</th>\n",
       "      <th>G_x</th>\n",
       "      <th>PA</th>\n",
       "      <th>AB</th>\n",
       "      <th>R_x</th>\n",
       "      <th>H_x</th>\n",
       "      <th>2B</th>\n",
       "      <th>3B</th>\n",
       "      <th>...</th>\n",
       "      <th>HBP_y</th>\n",
       "      <th>BK</th>\n",
       "      <th>WP</th>\n",
       "      <th>BF</th>\n",
       "      <th>WHIP</th>\n",
       "      <th>H9</th>\n",
       "      <th>HR9</th>\n",
       "      <th>BB9</th>\n",
       "      <th>SO9</th>\n",
       "      <th>SO/W</th>\n",
       "    </tr>\n",
       "  </thead>\n",
       "  <tbody>\n",
       "    <tr>\n",
       "      <th>0</th>\n",
       "      <td>LG Twins</td>\n",
       "      <td>29.3</td>\n",
       "      <td>NaN</td>\n",
       "      <td>NaN</td>\n",
       "      <td>4742</td>\n",
       "      <td>4184</td>\n",
       "      <td>468</td>\n",
       "      <td>1070</td>\n",
       "      <td>164</td>\n",
       "      <td>23</td>\n",
       "      <td>...</td>\n",
       "      <td>72</td>\n",
       "      <td>3</td>\n",
       "      <td>46</td>\n",
       "      <td>4976</td>\n",
       "      <td>1.551</td>\n",
       "      <td>10.1</td>\n",
       "      <td>0.7</td>\n",
       "      <td>3.9</td>\n",
       "      <td>5.1</td>\n",
       "      <td>1.31</td>\n",
       "    </tr>\n",
       "    <tr>\n",
       "      <th>1</th>\n",
       "      <td>Doosan Bears</td>\n",
       "      <td>26.7</td>\n",
       "      <td>NaN</td>\n",
       "      <td>NaN</td>\n",
       "      <td>4974</td>\n",
       "      <td>4344</td>\n",
       "      <td>647</td>\n",
       "      <td>1198</td>\n",
       "      <td>166</td>\n",
       "      <td>37</td>\n",
       "      <td>...</td>\n",
       "      <td>69</td>\n",
       "      <td>5</td>\n",
       "      <td>45</td>\n",
       "      <td>4857</td>\n",
       "      <td>1.317</td>\n",
       "      <td>8.8</td>\n",
       "      <td>0.6</td>\n",
       "      <td>3.0</td>\n",
       "      <td>6.2</td>\n",
       "      <td>2.06</td>\n",
       "    </tr>\n",
       "    <tr>\n",
       "      <th>2</th>\n",
       "      <td>Kia Tigers</td>\n",
       "      <td>28.3</td>\n",
       "      <td>NaN</td>\n",
       "      <td>NaN</td>\n",
       "      <td>4831</td>\n",
       "      <td>4210</td>\n",
       "      <td>503</td>\n",
       "      <td>1095</td>\n",
       "      <td>188</td>\n",
       "      <td>28</td>\n",
       "      <td>...</td>\n",
       "      <td>77</td>\n",
       "      <td>5</td>\n",
       "      <td>52</td>\n",
       "      <td>4850</td>\n",
       "      <td>1.380</td>\n",
       "      <td>8.6</td>\n",
       "      <td>0.5</td>\n",
       "      <td>3.8</td>\n",
       "      <td>5.9</td>\n",
       "      <td>1.55</td>\n",
       "    </tr>\n",
       "    <tr>\n",
       "      <th>3</th>\n",
       "      <td>Lotte Giants</td>\n",
       "      <td>27.6</td>\n",
       "      <td>NaN</td>\n",
       "      <td>NaN</td>\n",
       "      <td>4890</td>\n",
       "      <td>4256</td>\n",
       "      <td>624</td>\n",
       "      <td>1200</td>\n",
       "      <td>199</td>\n",
       "      <td>22</td>\n",
       "      <td>...</td>\n",
       "      <td>47</td>\n",
       "      <td>2</td>\n",
       "      <td>42</td>\n",
       "      <td>4769</td>\n",
       "      <td>1.379</td>\n",
       "      <td>9.1</td>\n",
       "      <td>0.6</td>\n",
       "      <td>3.3</td>\n",
       "      <td>5.4</td>\n",
       "      <td>1.64</td>\n",
       "    </tr>\n",
       "    <tr>\n",
       "      <th>4</th>\n",
       "      <td>SK Wyverns</td>\n",
       "      <td>26.9</td>\n",
       "      <td>NaN</td>\n",
       "      <td>NaN</td>\n",
       "      <td>5003</td>\n",
       "      <td>4332</td>\n",
       "      <td>632</td>\n",
       "      <td>1222</td>\n",
       "      <td>215</td>\n",
       "      <td>23</td>\n",
       "      <td>...</td>\n",
       "      <td>55</td>\n",
       "      <td>2</td>\n",
       "      <td>35</td>\n",
       "      <td>4855</td>\n",
       "      <td>1.304</td>\n",
       "      <td>8.2</td>\n",
       "      <td>0.6</td>\n",
       "      <td>3.5</td>\n",
       "      <td>6.3</td>\n",
       "      <td>1.79</td>\n",
       "    </tr>\n",
       "  </tbody>\n",
       "</table>\n",
       "<p>5 rows × 58 columns</p>\n",
       "</div>"
      ],
      "text/plain": [
       "             Tm  BatAge  R/G_x  G_x    PA    AB  R_x   H_x   2B  3B  ...   \\\n",
       "0      LG Twins    29.3    NaN  NaN  4742  4184  468  1070  164  23  ...    \n",
       "1  Doosan Bears    26.7    NaN  NaN  4974  4344  647  1198  166  37  ...    \n",
       "2    Kia Tigers    28.3    NaN  NaN  4831  4210  503  1095  188  28  ...    \n",
       "3  Lotte Giants    27.6    NaN  NaN  4890  4256  624  1200  199  22  ...    \n",
       "4    SK Wyverns    26.9    NaN  NaN  5003  4332  632  1222  215  23  ...    \n",
       "\n",
       "   HBP_y  BK  WP    BF   WHIP    H9  HR9  BB9  SO9  SO/W  \n",
       "0     72   3  46  4976  1.551  10.1  0.7  3.9  5.1  1.31  \n",
       "1     69   5  45  4857  1.317   8.8  0.6  3.0  6.2  2.06  \n",
       "2     77   5  52  4850  1.380   8.6  0.5  3.8  5.9  1.55  \n",
       "3     47   2  42  4769  1.379   9.1  0.6  3.3  5.4  1.64  \n",
       "4     55   2  35  4855  1.304   8.2  0.6  3.5  6.3  1.79  \n",
       "\n",
       "[5 rows x 58 columns]"
      ]
     },
     "execution_count": 22,
     "metadata": {},
     "output_type": "execute_result"
    }
   ],
   "source": [
    "kb = pd.read_csv('KB_STATS_2008-2018_BP.csv') \n",
    "kb.head()"
   ]
  },
  {
   "cell_type": "code",
   "execution_count": 23,
   "metadata": {
    "collapsed": true
   },
   "outputs": [],
   "source": [
    "# filter out rows with very low GF values using a boolean mask\n",
    "mask = (kb['GF'] >= 100 )\n",
    "kb_fil = kb[mask]"
   ]
  },
  {
   "cell_type": "code",
   "execution_count": 24,
   "metadata": {},
   "outputs": [
    {
     "data": {
      "text/html": [
       "<div>\n",
       "<style>\n",
       "    .dataframe thead tr:only-child th {\n",
       "        text-align: right;\n",
       "    }\n",
       "\n",
       "    .dataframe thead th {\n",
       "        text-align: left;\n",
       "    }\n",
       "\n",
       "    .dataframe tbody tr th {\n",
       "        vertical-align: top;\n",
       "    }\n",
       "</style>\n",
       "<table border=\"1\" class=\"dataframe\">\n",
       "  <thead>\n",
       "    <tr style=\"text-align: right;\">\n",
       "      <th></th>\n",
       "      <th>ERA</th>\n",
       "      <th>SV</th>\n",
       "      <th>SLG</th>\n",
       "      <th>OBP</th>\n",
       "      <th>R_x</th>\n",
       "      <th>SO_y</th>\n",
       "      <th>GF</th>\n",
       "      <th>R_y</th>\n",
       "      <th>CG</th>\n",
       "      <th>WHIP</th>\n",
       "      <th>SO9</th>\n",
       "    </tr>\n",
       "  </thead>\n",
       "  <tbody>\n",
       "    <tr>\n",
       "      <th>0</th>\n",
       "      <td>4.88</td>\n",
       "      <td>25</td>\n",
       "      <td>0.353</td>\n",
       "      <td>0.321</td>\n",
       "      <td>468</td>\n",
       "      <td>631</td>\n",
       "      <td>126</td>\n",
       "      <td>646</td>\n",
       "      <td>1</td>\n",
       "      <td>1.551</td>\n",
       "      <td>5.1</td>\n",
       "    </tr>\n",
       "    <tr>\n",
       "      <th>1</th>\n",
       "      <td>3.89</td>\n",
       "      <td>26</td>\n",
       "      <td>0.378</td>\n",
       "      <td>0.354</td>\n",
       "      <td>647</td>\n",
       "      <td>780</td>\n",
       "      <td>126</td>\n",
       "      <td>542</td>\n",
       "      <td>0</td>\n",
       "      <td>1.317</td>\n",
       "      <td>6.2</td>\n",
       "    </tr>\n",
       "    <tr>\n",
       "      <th>2</th>\n",
       "      <td>4.08</td>\n",
       "      <td>29</td>\n",
       "      <td>0.352</td>\n",
       "      <td>0.336</td>\n",
       "      <td>503</td>\n",
       "      <td>733</td>\n",
       "      <td>127</td>\n",
       "      <td>555</td>\n",
       "      <td>3</td>\n",
       "      <td>1.380</td>\n",
       "      <td>5.9</td>\n",
       "    </tr>\n",
       "  </tbody>\n",
       "</table>\n",
       "</div>"
      ],
      "text/plain": [
       "    ERA  SV    SLG    OBP  R_x  SO_y   GF  R_y  CG   WHIP  SO9\n",
       "0  4.88  25  0.353  0.321  468   631  126  646   1  1.551  5.1\n",
       "1  3.89  26  0.378  0.354  647   780  126  542   0  1.317  6.2\n",
       "2  4.08  29  0.352  0.336  503   733  127  555   3  1.380  5.9"
      ]
     },
     "execution_count": 24,
     "metadata": {},
     "output_type": "execute_result"
    }
   ],
   "source": [
    "predictors = ['ERA','SV','SLG','OBP','R_x','SO_y','GF','R_y','CG','WHIP','SO9']\n",
    "X_kb = kb[predictors]\n",
    "y_kb = kb.W\n",
    "X_kb.head(3)"
   ]
  },
  {
   "cell_type": "code",
   "execution_count": 25,
   "metadata": {},
   "outputs": [
    {
     "data": {
      "text/plain": [
       "<matplotlib.axes._subplots.AxesSubplot at 0x11f5d2080>"
      ]
     },
     "execution_count": 25,
     "metadata": {},
     "output_type": "execute_result"
    },
    {
     "data": {
      "image/png": "[encoded data removed]",
      "text/plain": [
       "<matplotlib.figure.Figure at 0x11c0deeb8>"
      ]
     },
     "metadata": {},
     "output_type": "display_data"
    }
   ],
   "source": [
    "sns.distplot(kb.W)"
   ]
  },
  {
   "cell_type": "code",
   "execution_count": 26,
   "metadata": {},
   "outputs": [
    {
     "data": {
      "text/plain": [
       "count    98.000000\n",
       "mean     67.153061\n",
       "std      11.030746\n",
       "min      42.000000\n",
       "25%      59.000000\n",
       "50%      68.000000\n",
       "75%      75.000000\n",
       "max      93.000000\n",
       "Name: W, dtype: float64"
      ]
     },
     "execution_count": 26,
     "metadata": {},
     "output_type": "execute_result"
    }
   ],
   "source": [
    "kb.W.describe()"
   ]
  },
  {
   "cell_type": "code",
   "execution_count": 27,
   "metadata": {
    "collapsed": true
   },
   "outputs": [],
   "source": [
    "#y_kb"
   ]
  },
  {
   "cell_type": "code",
   "execution_count": 28,
   "metadata": {},
   "outputs": [
    {
     "data": {
      "text/plain": [
       "array([ 45.56877656,  70.06893048,  59.47581275,  75.49455767,\n",
       "        81.83687276,  64.98708245,  54.68470142,  62.3686025 ,\n",
       "        83.53213475,  71.88290958,  80.83264954,  66.68061737,\n",
       "        59.1585621 ,  56.19918314,  50.68937522,  69.08489644,\n",
       "        71.93405345,  72.61504375,  81.51722777,  62.18586159,\n",
       "        76.9799752 ,  63.2433006 ,  57.59894818,  47.36913936,\n",
       "        74.08669883,  73.32920797,  80.13268804,  68.49097019,\n",
       "        73.16489905,  62.51265978,  52.14801239,  54.68604059,\n",
       "        80.47946349,  71.36975144,  62.80658051,  67.03902451,\n",
       "        63.424329  ,  67.45931211,  67.0673133 ,  53.6842269 ,\n",
       "        18.08277475,  42.60773601,  30.04105096,  27.70018711,\n",
       "        19.23124266,  20.35701157,  14.14911158,   7.9614783 ,\n",
       "        -7.61148989,  76.4447758 ,  83.58599112,  75.77468054,\n",
       "        61.04524445,  63.05365454,  58.94689053,  68.31408005,\n",
       "        52.73274673,  40.57103427,  82.63036287,  89.71735448,\n",
       "        89.78333302,  68.82430841,  74.54754112,  70.35902653,\n",
       "        65.93379293,  66.97032701,  49.58189482,  61.33783488,\n",
       "        93.15896152,  77.51383703,  86.57803182,  69.87501256,\n",
       "        61.09153778,  76.16623596,  70.16199759,  61.49024997,\n",
       "        66.52006707,  42.32191921,  86.98682812,  87.85807823,\n",
       "        75.91451851,  75.17493078,  69.84645545,  55.62288562,\n",
       "        77.2505199 ,  63.76250304,  74.66866774,  49.89419547,\n",
       "        92.36673423,  75.00887941,  78.75834922,  76.95743896,\n",
       "        70.0133086 ,  69.9579557 ,  69.45012831,  63.60676435,\n",
       "        70.33955951,  52.68058811])"
      ]
     },
     "execution_count": 28,
     "metadata": {},
     "output_type": "execute_result"
    }
   ],
   "source": [
    "kb_predictions = lm.predict(X_kb)\n",
    "kb_predictions"
   ]
  },
  {
   "cell_type": "code",
   "execution_count": 29,
   "metadata": {},
   "outputs": [
    {
     "name": "stdout",
     "output_type": "stream",
     "text": [
      "\n",
      "The RMSE Score For Model 1 Using Korean Baseball Stats:\n",
      "13.957328646\n",
      "\n"
     ]
    }
   ],
   "source": [
    "print()\n",
    "print(\"The RMSE Score For Model 1 Using Korean Baseball Stats:\")\n",
    "rmse_kb = np.sqrt(mean_squared_error(y_kb,kb_predictions))\n",
    "print(rmse_kb)\n",
    "print()"
   ]
  },
  {
   "cell_type": "code",
   "execution_count": 30,
   "metadata": {},
   "outputs": [
    {
     "name": "stdout",
     "output_type": "stream",
     "text": [
      "-0.617518164941\n"
     ]
    }
   ],
   "source": [
    "print(lm.score(X_kb,y_kb))"
   ]
  },
  {
   "cell_type": "code",
   "execution_count": 31,
   "metadata": {},
   "outputs": [
    {
     "data": {
      "text/plain": [
       "<matplotlib.text.Text at 0x11f75d128>"
      ]
     },
     "execution_count": 31,
     "metadata": {},
     "output_type": "execute_result"
    },
    {
     "data": {
      "image/png": "[encoded data removed]",
      "text/plain": [
       "<matplotlib.figure.Figure at 0x11c0ea3c8>"
      ]
     },
     "metadata": {},
     "output_type": "display_data"
    }
   ],
   "source": [
    "plt.scatter(y_kb,kb_predictions)\n",
    "plt.title(\"Model 1 Korean Baseball Stats 2008-2018\")\n",
    "plt.xlabel('True Values')\n",
    "plt.ylabel('Predictions')"
   ]
  },
  {
   "cell_type": "markdown",
   "metadata": {},
   "source": [
    "## Select Random Data Points From Korean Baseball Stats: filtered or unfiltered. Remove stats with low GF values."
   ]
  },
  {
   "cell_type": "code",
   "execution_count": 32,
   "metadata": {},
   "outputs": [
    {
     "data": {
      "text/html": [
       "<div>\n",
       "<style>\n",
       "    .dataframe thead tr:only-child th {\n",
       "        text-align: right;\n",
       "    }\n",
       "\n",
       "    .dataframe thead th {\n",
       "        text-align: left;\n",
       "    }\n",
       "\n",
       "    .dataframe tbody tr th {\n",
       "        vertical-align: top;\n",
       "    }\n",
       "</style>\n",
       "<table border=\"1\" class=\"dataframe\">\n",
       "  <thead>\n",
       "    <tr style=\"text-align: right;\">\n",
       "      <th></th>\n",
       "      <th>Tm</th>\n",
       "      <th>BatAge</th>\n",
       "      <th>R/G_x</th>\n",
       "      <th>G_x</th>\n",
       "      <th>PA</th>\n",
       "      <th>AB</th>\n",
       "      <th>R_x</th>\n",
       "      <th>H_x</th>\n",
       "      <th>2B</th>\n",
       "      <th>3B</th>\n",
       "      <th>...</th>\n",
       "      <th>HBP_y</th>\n",
       "      <th>BK</th>\n",
       "      <th>WP</th>\n",
       "      <th>BF</th>\n",
       "      <th>WHIP</th>\n",
       "      <th>H9</th>\n",
       "      <th>HR9</th>\n",
       "      <th>BB9</th>\n",
       "      <th>SO9</th>\n",
       "      <th>SO/W</th>\n",
       "    </tr>\n",
       "  </thead>\n",
       "  <tbody>\n",
       "    <tr>\n",
       "      <th>29</th>\n",
       "      <td>LG Twins</td>\n",
       "      <td>29.2</td>\n",
       "      <td>4.52</td>\n",
       "      <td>128.0</td>\n",
       "      <td>5157</td>\n",
       "      <td>4522</td>\n",
       "      <td>579</td>\n",
       "      <td>1203</td>\n",
       "      <td>192</td>\n",
       "      <td>15</td>\n",
       "      <td>...</td>\n",
       "      <td>71</td>\n",
       "      <td>6</td>\n",
       "      <td>52</td>\n",
       "      <td>5209</td>\n",
       "      <td>1.412</td>\n",
       "      <td>8.8</td>\n",
       "      <td>0.6</td>\n",
       "      <td>3.9</td>\n",
       "      <td>6.2</td>\n",
       "      <td>1.62</td>\n",
       "    </tr>\n",
       "    <tr>\n",
       "      <th>20</th>\n",
       "      <td>Samsung Lions</td>\n",
       "      <td>27.8</td>\n",
       "      <td>5.20</td>\n",
       "      <td>131.0</td>\n",
       "      <td>5287</td>\n",
       "      <td>4436</td>\n",
       "      <td>681</td>\n",
       "      <td>1207</td>\n",
       "      <td>212</td>\n",
       "      <td>14</td>\n",
       "      <td>...</td>\n",
       "      <td>54</td>\n",
       "      <td>3</td>\n",
       "      <td>61</td>\n",
       "      <td>5119</td>\n",
       "      <td>1.358</td>\n",
       "      <td>8.8</td>\n",
       "      <td>0.8</td>\n",
       "      <td>3.4</td>\n",
       "      <td>7.2</td>\n",
       "      <td>2.10</td>\n",
       "    </tr>\n",
       "    <tr>\n",
       "      <th>66</th>\n",
       "      <td>KT Wiz</td>\n",
       "      <td>28.5</td>\n",
       "      <td>4.84</td>\n",
       "      <td>144.0</td>\n",
       "      <td>5843</td>\n",
       "      <td>5150</td>\n",
       "      <td>697</td>\n",
       "      <td>1399</td>\n",
       "      <td>234</td>\n",
       "      <td>16</td>\n",
       "      <td>...</td>\n",
       "      <td>88</td>\n",
       "      <td>4</td>\n",
       "      <td>88</td>\n",
       "      <td>5935</td>\n",
       "      <td>1.657</td>\n",
       "      <td>10.8</td>\n",
       "      <td>1.1</td>\n",
       "      <td>4.1</td>\n",
       "      <td>7.5</td>\n",
       "      <td>1.81</td>\n",
       "    </tr>\n",
       "  </tbody>\n",
       "</table>\n",
       "<p>3 rows × 58 columns</p>\n",
       "</div>"
      ],
      "text/plain": [
       "               Tm  BatAge  R/G_x    G_x    PA    AB  R_x   H_x   2B  3B  ...   \\\n",
       "29       LG Twins    29.2   4.52  128.0  5157  4522  579  1203  192  15  ...    \n",
       "20  Samsung Lions    27.8   5.20  131.0  5287  4436  681  1207  212  14  ...    \n",
       "66         KT Wiz    28.5   4.84  144.0  5843  5150  697  1399  234  16  ...    \n",
       "\n",
       "    HBP_y  BK  WP    BF   WHIP    H9  HR9  BB9  SO9  SO/W  \n",
       "29     71   6  52  5209  1.412   8.8  0.6  3.9  6.2  1.62  \n",
       "20     54   3  61  5119  1.358   8.8  0.8  3.4  7.2  2.10  \n",
       "66     88   4  88  5935  1.657  10.8  1.1  4.1  7.5  1.81  \n",
       "\n",
       "[3 rows x 58 columns]"
      ]
     },
     "execution_count": 32,
     "metadata": {},
     "output_type": "execute_result"
    }
   ],
   "source": [
    "#kb_rand =  kb.sample(25)\n",
    "kb_rand =  kb_fil.sample(25)\n",
    "kb_rand.head(3)"
   ]
  },
  {
   "cell_type": "code",
   "execution_count": 33,
   "metadata": {
    "collapsed": true
   },
   "outputs": [],
   "source": [
    "predictors = ['ERA','SV','SLG','OBP','R_x','SO_y','GF','R_y','CG','WHIP','SO9']\n",
    "X_rand = kb_rand[predictors]\n",
    "y_rand = kb_rand.W"
   ]
  },
  {
   "cell_type": "code",
   "execution_count": 34,
   "metadata": {
    "collapsed": true
   },
   "outputs": [],
   "source": [
    "#y_rand"
   ]
  },
  {
   "cell_type": "code",
   "execution_count": 35,
   "metadata": {
    "collapsed": true
   },
   "outputs": [],
   "source": [
    "kb_rand_preds = lm.predict(X_rand)\n",
    "#kb_rand_preds"
   ]
  },
  {
   "cell_type": "code",
   "execution_count": 36,
   "metadata": {},
   "outputs": [
    {
     "name": "stderr",
     "output_type": "stream",
     "text": [
      "/Users/scottlew/miniconda3/lib/python3.6/site-packages/ipykernel/__main__.py:1: SettingWithCopyWarning: \n",
      "A value is trying to be set on a copy of a slice from a DataFrame.\n",
      "Try using .loc[row_indexer,col_indexer] = value instead\n",
      "\n",
      "See the caveats in the documentation: http://pandas.pydata.org/pandas-docs/stable/indexing.html#indexing-view-versus-copy\n",
      "  if __name__ == '__main__':\n"
     ]
    }
   ],
   "source": [
    "X_rand['W_pred'] = kb_rand_preds\n",
    "#X_rand"
   ]
  },
  {
   "cell_type": "code",
   "execution_count": 37,
   "metadata": {},
   "outputs": [
    {
     "data": {
      "text/plain": [
       "<matplotlib.text.Text at 0x11f7ff588>"
      ]
     },
     "execution_count": 37,
     "metadata": {},
     "output_type": "execute_result"
    },
    {
     "data": {
      "image/png": "[encoded data removed]",
      "text/plain": [
       "<matplotlib.figure.Figure at 0x11c0de5c0>"
      ]
     },
     "metadata": {},
     "output_type": "display_data"
    }
   ],
   "source": [
    "plt.scatter(y_rand,kb_rand_preds)\n",
    "plt.title(\"Model 1 Korean Baseball Stats 2008-2018: Random Sample of Filtered Data\")\n",
    "plt.xlabel('True Values')\n",
    "plt.ylabel('Predictions')"
   ]
  },
  {
   "cell_type": "code",
   "execution_count": 38,
   "metadata": {},
   "outputs": [
    {
     "name": "stdout",
     "output_type": "stream",
     "text": [
      "\n",
      "The RMSE Score For Model 1 Using Korean Baseball Stats: Random Sample\n",
      "3.93334509755\n",
      "\n"
     ]
    }
   ],
   "source": [
    "print()\n",
    "print(\"The RMSE Score For Model 1 Using Korean Baseball Stats: Random Sample\")\n",
    "rmse_kb_rand = np.sqrt(mean_squared_error(y_rand,kb_rand_preds))\n",
    "print(rmse_kb_rand)\n",
    "print()"
   ]
  },
  {
   "cell_type": "markdown",
   "metadata": {},
   "source": [
    "## RIDGE REGRESSION "
   ]
  },
  {
   "cell_type": "code",
   "execution_count": 39,
   "metadata": {},
   "outputs": [
    {
     "data": {
      "text/plain": [
       "[4.0456510433757655, 4.0450431876431763, 4.044383435006254]"
      ]
     },
     "execution_count": 39,
     "metadata": {},
     "output_type": "execute_result"
    }
   ],
   "source": [
    "scores_test = []\n",
    "#alphas = [0.1,0.2,0.3,0.4,0.5,0.6,0.7,0.8,0.9,1.0]\n",
    "alphas = [0.001,0.01,.1]\n",
    "for alpha in alphas:\n",
    "    ridge = Ridge(alpha = alpha).fit(X_train,y_train)\n",
    "    y_pred = ridge.predict(X_test)\n",
    "    scores_test.append(np.sqrt(mean_squared_error(y_test,y_pred)))\n",
    "                       \n",
    "scores_test"
   ]
  },
  {
   "cell_type": "code",
   "execution_count": 40,
   "metadata": {},
   "outputs": [
    {
     "name": "stdout",
     "output_type": "stream",
     "text": [
      "RMSE for Random KB stats\n",
      "3.87839415667\n"
     ]
    }
   ],
   "source": [
    "X_rand = kb_rand[predictors]\n",
    "y_rand = kb_rand.W\n",
    "ridge_1 = Ridge(alpha = 0.01).fit(X_train,y_train)\n",
    "y_pred = ridge.predict(X_rand)\n",
    "print('RMSE for Random KB stats')\n",
    "print(np.sqrt(mean_squared_error(y_rand,y_pred)))"
   ]
  },
  {
   "cell_type": "code",
   "execution_count": 41,
   "metadata": {},
   "outputs": [
    {
     "name": "stdout",
     "output_type": "stream",
     "text": [
      "RMSE for Random KB stats\n",
      "3.87839415667\n"
     ]
    }
   ],
   "source": [
    "X_rand = kb_rand[predictors]\n",
    "y_rand = kb_rand.W\n",
    "ridge_1 = Ridge(alpha = 0.1).fit(X_train,y_train)\n",
    "y_pred = ridge.predict(X_rand)\n",
    "print('RMSE for Random KB stats')\n",
    "print(np.sqrt(mean_squared_error(y_rand,y_pred)))"
   ]
  },
  {
   "cell_type": "code",
   "execution_count": 42,
   "metadata": {},
   "outputs": [
    {
     "name": "stdout",
     "output_type": "stream",
     "text": [
      "RMSE for Random KB stats\n",
      "3.87839415667\n"
     ]
    }
   ],
   "source": [
    "X_rand = kb_rand[predictors]\n",
    "y_rand = kb_rand.W\n",
    "ridge_1 = Ridge(alpha = 0.001).fit(X_train,y_train)\n",
    "y_pred = ridge.predict(X_rand)\n",
    "print('RMSE for Random KB stats')\n",
    "print(np.sqrt(mean_squared_error(y_rand,y_pred)))"
   ]
  },
  {
   "cell_type": "markdown",
   "metadata": {},
   "source": [
    "## Ridge Regression Using 29 Predictors"
   ]
  },
  {
   "cell_type": "code",
   "execution_count": 43,
   "metadata": {
    "collapsed": true
   },
   "outputs": [],
   "source": [
    "predictors = ['#Bat','BatAge','G_x','PA','AB', 'R_x','H_x','2B','HR_x',\\\n",
    " 'BB_x','SO_x','OPS+','TB','#P','BB_y','BF','BK','CG','ER',\\\n",
    " 'G_y','GF','H_y','HR_y', 'IP','PAge','R_y','SO_y','SV','WP']"
   ]
  },
  {
   "cell_type": "code",
   "execution_count": 44,
   "metadata": {},
   "outputs": [
    {
     "name": "stdout",
     "output_type": "stream",
     "text": [
      "(2252, 29) (2252,)\n",
      "(563, 29) (563,)\n"
     ]
    }
   ],
   "source": [
    "y = df.W\n",
    "X = df[predictors]\n",
    "X_train, X_test, y_train, y_test = train_test_split(X, y, test_size=0.2,random_state =42)\n",
    "print(X_train.shape, y_train.shape)\n",
    "print(X_test.shape, y_test.shape)"
   ]
  },
  {
   "cell_type": "code",
   "execution_count": 45,
   "metadata": {},
   "outputs": [
    {
     "name": "stdout",
     "output_type": "stream",
     "text": [
      "Ridge Regression Using 29 Predictors RMSE for test data\n",
      "3.85366782953\n"
     ]
    }
   ],
   "source": [
    "ridge2 = Ridge().fit(X_train,y_train)\n",
    "y_pred = ridge2.predict(X_test)\n",
    "print('Ridge Regression Using 29 Predictors RMSE for test data')\n",
    "print(np.sqrt(mean_squared_error(y_test,y_pred)))"
   ]
  },
  {
   "cell_type": "code",
   "execution_count": 46,
   "metadata": {},
   "outputs": [
    {
     "data": {
      "text/plain": [
       "[3.8534550038176012, 3.8534576700023608, 3.8534833285474548]"
      ]
     },
     "execution_count": 46,
     "metadata": {},
     "output_type": "execute_result"
    }
   ],
   "source": [
    "scores_test = []\n",
    "#alphas = [0.1,0.2,0.3,0.4,0.5,0.6,0.7,0.8,0.9,1.0]\n",
    "alphas = [0.001,0.01,.1]\n",
    "for alpha in alphas:\n",
    "    ridge = Ridge(alpha = alpha).fit(X_train,y_train)\n",
    "    y_pred = ridge.predict(X_test)\n",
    "    scores_test.append(np.sqrt(mean_squared_error(y_test,y_pred)))\n",
    "                       \n",
    "scores_test"
   ]
  },
  {
   "cell_type": "code",
   "execution_count": 47,
   "metadata": {},
   "outputs": [
    {
     "data": {
      "text/plain": [
       "3.8534550038176012"
      ]
     },
     "execution_count": 47,
     "metadata": {},
     "output_type": "execute_result"
    }
   ],
   "source": [
    "min(scores_test)"
   ]
  },
  {
   "cell_type": "code",
   "execution_count": 48,
   "metadata": {},
   "outputs": [
    {
     "name": "stdout",
     "output_type": "stream",
     "text": [
      "Ridge Regression Using 29 Predictors RMSE for test data with alpha of 0.001\n",
      "3.85345500382\n"
     ]
    }
   ],
   "source": [
    "ridge2 = Ridge(alpha=0.001).fit(X_train,y_train)\n",
    "y_pred = ridge2.predict(X_test)\n",
    "print('Ridge Regression Using 29 Predictors RMSE for test data with alpha of 0.001')\n",
    "print(np.sqrt(mean_squared_error(y_test,y_pred)))"
   ]
  },
  {
   "cell_type": "code",
   "execution_count": 49,
   "metadata": {},
   "outputs": [
    {
     "name": "stdout",
     "output_type": "stream",
     "text": [
      "(2252, 13) (2252,)\n",
      "(563, 13) (563,)\n"
     ]
    }
   ],
   "source": [
    "predictors2 = ['OBP','SLG','R_x','PA','AB','ERA','SV','SO9','WHIP','IP','PA','BB_y','R_y',]\n",
    "y = df.W\n",
    "X = df[predictors2]\n",
    "X_train, X_test, y_train, y_test = train_test_split(X, y, test_size=0.2,random_state =42)\n",
    "print(X_train.shape, y_train.shape)\n",
    "print(X_test.shape, y_test.shape)"
   ]
  },
  {
   "cell_type": "code",
   "execution_count": 50,
   "metadata": {},
   "outputs": [
    {
     "name": "stdout",
     "output_type": "stream",
     "text": [
      "Ridge Regression Using 13 Predictors RMSE for test data\n",
      "4.29735398188\n"
     ]
    }
   ],
   "source": [
    "ridge3 = Ridge().fit(X_train,y_train)\n",
    "y_pred = ridge3.predict(X_test)\n",
    "print('Ridge Regression Using 13 Predictors RMSE for test data')\n",
    "print(np.sqrt(mean_squared_error(y_test,y_pred)))"
   ]
  },
  {
   "cell_type": "code",
   "execution_count": 51,
   "metadata": {},
   "outputs": [
    {
     "data": {
      "text/plain": [
       "[4.2829774553442066, 4.2816399772765923, 4.283881135167781]"
      ]
     },
     "execution_count": 51,
     "metadata": {},
     "output_type": "execute_result"
    }
   ],
   "source": [
    "scores_test = []\n",
    "#alphas = [0.1,0.2,0.3,0.4,0.5,0.6,0.7,0.8,0.9,1.0]\n",
    "alphas = [0.001,0.01,.1]\n",
    "for alpha in alphas:\n",
    "    ridge = Ridge(alpha = alpha).fit(X_train,y_train)\n",
    "    y_pred = ridge.predict(X_test)\n",
    "    scores_test.append(np.sqrt(mean_squared_error(y_test,y_pred)))\n",
    "                       \n",
    "scores_test"
   ]
  },
  {
   "cell_type": "code",
   "execution_count": 52,
   "metadata": {
    "collapsed": true
   },
   "outputs": [],
   "source": [
    "df2 = pd.read_csv('MLB_STATS_Pythag.csv')"
   ]
  },
  {
   "cell_type": "code",
   "execution_count": 53,
   "metadata": {},
   "outputs": [
    {
     "data": {
      "text/html": [
       "<div>\n",
       "<style>\n",
       "    .dataframe thead tr:only-child th {\n",
       "        text-align: right;\n",
       "    }\n",
       "\n",
       "    .dataframe thead th {\n",
       "        text-align: left;\n",
       "    }\n",
       "\n",
       "    .dataframe tbody tr th {\n",
       "        vertical-align: top;\n",
       "    }\n",
       "</style>\n",
       "<table border=\"1\" class=\"dataframe\">\n",
       "  <thead>\n",
       "    <tr style=\"text-align: right;\">\n",
       "      <th></th>\n",
       "      <th>Tm</th>\n",
       "      <th>#Bat</th>\n",
       "      <th>BatAge</th>\n",
       "      <th>R/G</th>\n",
       "      <th>G_x</th>\n",
       "      <th>PA</th>\n",
       "      <th>AB</th>\n",
       "      <th>R_x</th>\n",
       "      <th>H_x</th>\n",
       "      <th>2B</th>\n",
       "      <th>...</th>\n",
       "      <th>SV</th>\n",
       "      <th>W</th>\n",
       "      <th>W-L%</th>\n",
       "      <th>WHIP</th>\n",
       "      <th>WP</th>\n",
       "      <th>cSho</th>\n",
       "      <th>tSho</th>\n",
       "      <th>RunsRatio</th>\n",
       "      <th>RunsPercent</th>\n",
       "      <th>Pythag</th>\n",
       "    </tr>\n",
       "  </thead>\n",
       "  <tbody>\n",
       "    <tr>\n",
       "      <th>0</th>\n",
       "      <td>ATH</td>\n",
       "      <td>21</td>\n",
       "      <td>26.0</td>\n",
       "      <td>6.30</td>\n",
       "      <td>60</td>\n",
       "      <td>2414</td>\n",
       "      <td>2387</td>\n",
       "      <td>378</td>\n",
       "      <td>646</td>\n",
       "      <td>79</td>\n",
       "      <td>...</td>\n",
       "      <td>2</td>\n",
       "      <td>14</td>\n",
       "      <td>0.237</td>\n",
       "      <td>1.498</td>\n",
       "      <td>33</td>\n",
       "      <td>1.0</td>\n",
       "      <td>1.0</td>\n",
       "      <td>0.707865</td>\n",
       "      <td>0.414474</td>\n",
       "      <td>0.333810</td>\n",
       "    </tr>\n",
       "    <tr>\n",
       "      <th>1</th>\n",
       "      <td>BSN</td>\n",
       "      <td>17</td>\n",
       "      <td>24.7</td>\n",
       "      <td>6.73</td>\n",
       "      <td>70</td>\n",
       "      <td>2780</td>\n",
       "      <td>2722</td>\n",
       "      <td>471</td>\n",
       "      <td>723</td>\n",
       "      <td>96</td>\n",
       "      <td>...</td>\n",
       "      <td>7</td>\n",
       "      <td>39</td>\n",
       "      <td>0.557</td>\n",
       "      <td>1.323</td>\n",
       "      <td>46</td>\n",
       "      <td>3.0</td>\n",
       "      <td>3.0</td>\n",
       "      <td>1.046667</td>\n",
       "      <td>0.511401</td>\n",
       "      <td>0.522789</td>\n",
       "    </tr>\n",
       "    <tr>\n",
       "      <th>2</th>\n",
       "      <td>CHC</td>\n",
       "      <td>11</td>\n",
       "      <td>25.9</td>\n",
       "      <td>9.45</td>\n",
       "      <td>66</td>\n",
       "      <td>2818</td>\n",
       "      <td>2748</td>\n",
       "      <td>624</td>\n",
       "      <td>926</td>\n",
       "      <td>131</td>\n",
       "      <td>...</td>\n",
       "      <td>4</td>\n",
       "      <td>52</td>\n",
       "      <td>0.788</td>\n",
       "      <td>1.075</td>\n",
       "      <td>3</td>\n",
       "      <td>8.0</td>\n",
       "      <td>9.0</td>\n",
       "      <td>2.428016</td>\n",
       "      <td>0.708286</td>\n",
       "      <td>0.854973</td>\n",
       "    </tr>\n",
       "  </tbody>\n",
       "</table>\n",
       "<p>3 rows × 68 columns</p>\n",
       "</div>"
      ],
      "text/plain": [
       "    Tm  #Bat  BatAge   R/G  G_x    PA    AB  R_x  H_x   2B    ...     SV   W  \\\n",
       "0  ATH    21    26.0  6.30   60  2414  2387  378  646   79    ...      2  14   \n",
       "1  BSN    17    24.7  6.73   70  2780  2722  471  723   96    ...      7  39   \n",
       "2  CHC    11    25.9  9.45   66  2818  2748  624  926  131    ...      4  52   \n",
       "\n",
       "    W-L%   WHIP  WP  cSho  tSho  RunsRatio  RunsPercent    Pythag  \n",
       "0  0.237  1.498  33   1.0   1.0   0.707865     0.414474  0.333810  \n",
       "1  0.557  1.323  46   3.0   3.0   1.046667     0.511401  0.522789  \n",
       "2  0.788  1.075   3   8.0   9.0   2.428016     0.708286  0.854973  \n",
       "\n",
       "[3 rows x 68 columns]"
      ]
     },
     "execution_count": 53,
     "metadata": {},
     "output_type": "execute_result"
    }
   ],
   "source": [
    "df2.head(3)"
   ]
  },
  {
   "cell_type": "code",
   "execution_count": 54,
   "metadata": {},
   "outputs": [
    {
     "name": "stdout",
     "output_type": "stream",
     "text": [
      "28\n",
      "(2252, 13) (2252,)\n",
      "(563, 13) (563,)\n"
     ]
    }
   ],
   "source": [
    "# Select regressor predictors for response variable wins\n",
    "predictors = ['#Bat','BatAge','G_x','PA','AB','H_x','2B','HR_x',\\\n",
    " 'BB_x','SO_x','OPS+','TB','#P','BB_y','BF','BK','CG','ER',\\\n",
    " 'G_y','GF','H_y','HR_y', 'IP','PAge','SO_y','SV','WP','Pythag']\n",
    "\n",
    "print(len(predictors))\n",
    "\n",
    "y = df2.W\n",
    "X = df2[predictors2]\n",
    "X_train, X_test, y_train, y_test = train_test_split(X, y, test_size=0.2,random_state =42)\n",
    "print(X_train.shape, y_train.shape)\n",
    "print(X_test.shape, y_test.shape)"
   ]
  },
  {
   "cell_type": "code",
   "execution_count": 55,
   "metadata": {},
   "outputs": [
    {
     "name": "stdout",
     "output_type": "stream",
     "text": [
      "Ridge Regression Using 28 Predictors RMSE for test data\n",
      "4.29735398188\n"
     ]
    }
   ],
   "source": [
    "ridge4 = Ridge().fit(X_train,y_train)\n",
    "y_pred = ridge4.predict(X_test)\n",
    "print('Ridge Regression Using 28 Predictors RMSE for test data')\n",
    "print(np.sqrt(mean_squared_error(y_test,y_pred)))"
   ]
  },
  {
   "cell_type": "code",
   "execution_count": null,
   "metadata": {
    "collapsed": true
   },
   "outputs": [],
   "source": []
  },
  {
   "cell_type": "code",
   "execution_count": null,
   "metadata": {
    "collapsed": true
   },
   "outputs": [],
   "source": []
  },
  {
   "cell_type": "code",
   "execution_count": null,
   "metadata": {
    "collapsed": true
   },
   "outputs": [],
   "source": []
  }
 ],
 "metadata": {
  "kernelspec": {
   "display_name": "Python [default]",
   "language": "python",
   "name": "python3"
  },
  "language_info": {
   "codemirror_mode": {
    "name": "ipython",
    "version": 3
   },
   "file_extension": ".py",
   "mimetype": "text/x-python",
   "name": "python",
   "nbconvert_exporter": "python",
   "pygments_lexer": "ipython3",
   "version": "3.6.0"
  }
 },
 "nbformat": 4,
 "nbformat_minor": 2
}
