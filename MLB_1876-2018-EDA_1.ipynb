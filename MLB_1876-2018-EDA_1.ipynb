{
 "cells": [
  {
   "cell_type": "code",
   "execution_count": 1,
   "metadata": {},
   "outputs": [
    {
     "name": "stderr",
     "output_type": "stream",
     "text": [
      "/Users/scottlew/miniconda3/lib/python3.6/site-packages/statsmodels/compat/pandas.py:56: FutureWarning: The pandas.core.datetools module is deprecated and will be removed in a future version. Please use the pandas.tseries module instead.\n",
      "  from pandas.core import datetools\n"
     ]
    }
   ],
   "source": [
    "import pandas as pd\n",
    "import numpy as np\n",
    "import seaborn as sns\n",
    "import matplotlib.pyplot as plt\n",
    "import pickle\n",
    "import datetime\n",
    "import requests\n",
    "import statsmodels.api as sm\n",
    "from sklearn.model_selection import train_test_split\n",
    "from sklearn.linear_model import LinearRegression\n",
    "from sklearn.ensemble import GradientBoostingRegressor\n",
    "from sklearn.ensemble import RandomForestRegressor\n",
    "from sklearn.ensemble import RandomForestClassifier\n",
    "from sklearn.preprocessing import StandardScaler\n",
    "from sklearn.model_selection import cross_val_score\n",
    "from sklearn.metrics import mean_squared_error\n",
    "from itertools import combinations\n",
    "from collections import OrderedDict \n",
    "\n",
    "%matplotlib inline"
   ]
  },
  {
   "cell_type": "markdown",
   "metadata": {},
   "source": [
    "## READ IN MLB STATS FOR 1876-2018 SEASONS "
   ]
  },
  {
   "cell_type": "markdown",
   "metadata": {},
   "source": [
    "## Note: No salary data is used for regression in this case."
   ]
  },
  {
   "cell_type": "code",
   "execution_count": 2,
   "metadata": {
    "collapsed": true
   },
   "outputs": [],
   "source": [
    "# read data from csv file for 2001-2018 MLB seasons\n",
    "#df = pd.read_csv('MLB_STATS_1900-2018_BP.csv')\n",
    "df = pd.read_csv('MLB_STATS_1876-2018_BP.csv')"
   ]
  },
  {
   "cell_type": "code",
   "execution_count": 3,
   "metadata": {},
   "outputs": [
    {
     "data": {
      "text/html": [
       "<div>\n",
       "<style>\n",
       "    .dataframe thead tr:only-child th {\n",
       "        text-align: right;\n",
       "    }\n",
       "\n",
       "    .dataframe thead th {\n",
       "        text-align: left;\n",
       "    }\n",
       "\n",
       "    .dataframe tbody tr th {\n",
       "        vertical-align: top;\n",
       "    }\n",
       "</style>\n",
       "<table border=\"1\" class=\"dataframe\">\n",
       "  <thead>\n",
       "    <tr style=\"text-align: right;\">\n",
       "      <th></th>\n",
       "      <th>Tm</th>\n",
       "      <th>#Bat</th>\n",
       "      <th>BatAge</th>\n",
       "      <th>R/G</th>\n",
       "      <th>G_x</th>\n",
       "      <th>PA</th>\n",
       "      <th>AB</th>\n",
       "      <th>R_x</th>\n",
       "      <th>H_x</th>\n",
       "      <th>2B</th>\n",
       "      <th>...</th>\n",
       "      <th>SO_y</th>\n",
       "      <th>SO/W</th>\n",
       "      <th>SO9</th>\n",
       "      <th>SV</th>\n",
       "      <th>W</th>\n",
       "      <th>W-L%</th>\n",
       "      <th>WHIP</th>\n",
       "      <th>WP</th>\n",
       "      <th>cSho</th>\n",
       "      <th>tSho</th>\n",
       "    </tr>\n",
       "  </thead>\n",
       "  <tbody>\n",
       "    <tr>\n",
       "      <th>0</th>\n",
       "      <td>ATH</td>\n",
       "      <td>21</td>\n",
       "      <td>26.0</td>\n",
       "      <td>6.30</td>\n",
       "      <td>60</td>\n",
       "      <td>2414</td>\n",
       "      <td>2387</td>\n",
       "      <td>378</td>\n",
       "      <td>646</td>\n",
       "      <td>79</td>\n",
       "      <td>...</td>\n",
       "      <td>22</td>\n",
       "      <td>0.54</td>\n",
       "      <td>0.4</td>\n",
       "      <td>2</td>\n",
       "      <td>14</td>\n",
       "      <td>0.237</td>\n",
       "      <td>1.498</td>\n",
       "      <td>33</td>\n",
       "      <td>1.0</td>\n",
       "      <td>1.0</td>\n",
       "    </tr>\n",
       "    <tr>\n",
       "      <th>1</th>\n",
       "      <td>BSN</td>\n",
       "      <td>17</td>\n",
       "      <td>24.7</td>\n",
       "      <td>6.73</td>\n",
       "      <td>70</td>\n",
       "      <td>2780</td>\n",
       "      <td>2722</td>\n",
       "      <td>471</td>\n",
       "      <td>723</td>\n",
       "      <td>96</td>\n",
       "      <td>...</td>\n",
       "      <td>77</td>\n",
       "      <td>0.74</td>\n",
       "      <td>1.1</td>\n",
       "      <td>7</td>\n",
       "      <td>39</td>\n",
       "      <td>0.557</td>\n",
       "      <td>1.323</td>\n",
       "      <td>46</td>\n",
       "      <td>3.0</td>\n",
       "      <td>3.0</td>\n",
       "    </tr>\n",
       "    <tr>\n",
       "      <th>2</th>\n",
       "      <td>CHC</td>\n",
       "      <td>11</td>\n",
       "      <td>25.9</td>\n",
       "      <td>9.45</td>\n",
       "      <td>66</td>\n",
       "      <td>2818</td>\n",
       "      <td>2748</td>\n",
       "      <td>624</td>\n",
       "      <td>926</td>\n",
       "      <td>131</td>\n",
       "      <td>...</td>\n",
       "      <td>51</td>\n",
       "      <td>1.76</td>\n",
       "      <td>0.8</td>\n",
       "      <td>4</td>\n",
       "      <td>52</td>\n",
       "      <td>0.788</td>\n",
       "      <td>1.075</td>\n",
       "      <td>3</td>\n",
       "      <td>8.0</td>\n",
       "      <td>9.0</td>\n",
       "    </tr>\n",
       "    <tr>\n",
       "      <th>3</th>\n",
       "      <td>CIN</td>\n",
       "      <td>13</td>\n",
       "      <td>24.5</td>\n",
       "      <td>3.66</td>\n",
       "      <td>65</td>\n",
       "      <td>2413</td>\n",
       "      <td>2372</td>\n",
       "      <td>238</td>\n",
       "      <td>555</td>\n",
       "      <td>51</td>\n",
       "      <td>...</td>\n",
       "      <td>60</td>\n",
       "      <td>1.76</td>\n",
       "      <td>0.9</td>\n",
       "      <td>0</td>\n",
       "      <td>9</td>\n",
       "      <td>0.138</td>\n",
       "      <td>1.496</td>\n",
       "      <td>28</td>\n",
       "      <td>0.0</td>\n",
       "      <td>0.0</td>\n",
       "    </tr>\n",
       "    <tr>\n",
       "      <th>4</th>\n",
       "      <td>HAR</td>\n",
       "      <td>12</td>\n",
       "      <td>26.3</td>\n",
       "      <td>6.22</td>\n",
       "      <td>69</td>\n",
       "      <td>2703</td>\n",
       "      <td>2664</td>\n",
       "      <td>429</td>\n",
       "      <td>711</td>\n",
       "      <td>96</td>\n",
       "      <td>...</td>\n",
       "      <td>114</td>\n",
       "      <td>4.22</td>\n",
       "      <td>1.6</td>\n",
       "      <td>0</td>\n",
       "      <td>47</td>\n",
       "      <td>0.691</td>\n",
       "      <td>0.957</td>\n",
       "      <td>15</td>\n",
       "      <td>11.0</td>\n",
       "      <td>11.0</td>\n",
       "    </tr>\n",
       "  </tbody>\n",
       "</table>\n",
       "<p>5 rows × 65 columns</p>\n",
       "</div>"
      ],
      "text/plain": [
       "    Tm  #Bat  BatAge   R/G  G_x    PA    AB  R_x  H_x   2B  ...   SO_y  SO/W  \\\n",
       "0  ATH    21    26.0  6.30   60  2414  2387  378  646   79  ...     22  0.54   \n",
       "1  BSN    17    24.7  6.73   70  2780  2722  471  723   96  ...     77  0.74   \n",
       "2  CHC    11    25.9  9.45   66  2818  2748  624  926  131  ...     51  1.76   \n",
       "3  CIN    13    24.5  3.66   65  2413  2372  238  555   51  ...     60  1.76   \n",
       "4  HAR    12    26.3  6.22   69  2703  2664  429  711   96  ...    114  4.22   \n",
       "\n",
       "   SO9  SV   W   W-L%   WHIP  WP  cSho  tSho  \n",
       "0  0.4   2  14  0.237  1.498  33   1.0   1.0  \n",
       "1  1.1   7  39  0.557  1.323  46   3.0   3.0  \n",
       "2  0.8   4  52  0.788  1.075   3   8.0   9.0  \n",
       "3  0.9   0   9  0.138  1.496  28   0.0   0.0  \n",
       "4  1.6   0  47  0.691  0.957  15  11.0  11.0  \n",
       "\n",
       "[5 rows x 65 columns]"
      ]
     },
     "execution_count": 3,
     "metadata": {},
     "output_type": "execute_result"
    }
   ],
   "source": [
    "df.head()"
   ]
  },
  {
   "cell_type": "code",
   "execution_count": 4,
   "metadata": {},
   "outputs": [
    {
     "data": {
      "text/plain": [
       "(2815, 65)"
      ]
     },
     "execution_count": 4,
     "metadata": {},
     "output_type": "execute_result"
    }
   ],
   "source": [
    "df.shape"
   ]
  },
  {
   "cell_type": "code",
   "execution_count": 5,
   "metadata": {},
   "outputs": [
    {
     "data": {
      "text/html": [
       "<div>\n",
       "<style>\n",
       "    .dataframe thead tr:only-child th {\n",
       "        text-align: right;\n",
       "    }\n",
       "\n",
       "    .dataframe thead th {\n",
       "        text-align: left;\n",
       "    }\n",
       "\n",
       "    .dataframe tbody tr th {\n",
       "        vertical-align: top;\n",
       "    }\n",
       "</style>\n",
       "<table border=\"1\" class=\"dataframe\">\n",
       "  <thead>\n",
       "    <tr style=\"text-align: right;\">\n",
       "      <th></th>\n",
       "      <th>Tm</th>\n",
       "      <th>#Bat</th>\n",
       "      <th>BatAge</th>\n",
       "      <th>R/G</th>\n",
       "      <th>G_x</th>\n",
       "      <th>PA</th>\n",
       "      <th>AB</th>\n",
       "      <th>R_x</th>\n",
       "      <th>H_x</th>\n",
       "      <th>2B</th>\n",
       "      <th>...</th>\n",
       "      <th>SO_y</th>\n",
       "      <th>SO/W</th>\n",
       "      <th>SO9</th>\n",
       "      <th>SV</th>\n",
       "      <th>W</th>\n",
       "      <th>W-L%</th>\n",
       "      <th>WHIP</th>\n",
       "      <th>WP</th>\n",
       "      <th>cSho</th>\n",
       "      <th>tSho</th>\n",
       "    </tr>\n",
       "  </thead>\n",
       "  <tbody>\n",
       "    <tr>\n",
       "      <th>2810</th>\n",
       "      <td>STL</td>\n",
       "      <td>49</td>\n",
       "      <td>28.0</td>\n",
       "      <td>4.69</td>\n",
       "      <td>162</td>\n",
       "      <td>6200</td>\n",
       "      <td>5498</td>\n",
       "      <td>759</td>\n",
       "      <td>1369</td>\n",
       "      <td>248</td>\n",
       "      <td>...</td>\n",
       "      <td>1337</td>\n",
       "      <td>2.25</td>\n",
       "      <td>8.3</td>\n",
       "      <td>43</td>\n",
       "      <td>88</td>\n",
       "      <td>0.543</td>\n",
       "      <td>1.338</td>\n",
       "      <td>63</td>\n",
       "      <td>1.0</td>\n",
       "      <td>8.0</td>\n",
       "    </tr>\n",
       "    <tr>\n",
       "      <th>2811</th>\n",
       "      <td>TBR</td>\n",
       "      <td>54</td>\n",
       "      <td>27.1</td>\n",
       "      <td>4.42</td>\n",
       "      <td>162</td>\n",
       "      <td>6195</td>\n",
       "      <td>5475</td>\n",
       "      <td>716</td>\n",
       "      <td>1415</td>\n",
       "      <td>274</td>\n",
       "      <td>...</td>\n",
       "      <td>1421</td>\n",
       "      <td>2.84</td>\n",
       "      <td>8.8</td>\n",
       "      <td>52</td>\n",
       "      <td>90</td>\n",
       "      <td>0.556</td>\n",
       "      <td>1.199</td>\n",
       "      <td>55</td>\n",
       "      <td>0.0</td>\n",
       "      <td>14.0</td>\n",
       "    </tr>\n",
       "    <tr>\n",
       "      <th>2812</th>\n",
       "      <td>TEX</td>\n",
       "      <td>50</td>\n",
       "      <td>27.4</td>\n",
       "      <td>4.55</td>\n",
       "      <td>162</td>\n",
       "      <td>6163</td>\n",
       "      <td>5453</td>\n",
       "      <td>737</td>\n",
       "      <td>1308</td>\n",
       "      <td>266</td>\n",
       "      <td>...</td>\n",
       "      <td>1121</td>\n",
       "      <td>2.28</td>\n",
       "      <td>7.1</td>\n",
       "      <td>42</td>\n",
       "      <td>67</td>\n",
       "      <td>0.414</td>\n",
       "      <td>1.403</td>\n",
       "      <td>57</td>\n",
       "      <td>0.0</td>\n",
       "      <td>5.0</td>\n",
       "    </tr>\n",
       "    <tr>\n",
       "      <th>2813</th>\n",
       "      <td>TOR</td>\n",
       "      <td>63</td>\n",
       "      <td>28.9</td>\n",
       "      <td>4.38</td>\n",
       "      <td>162</td>\n",
       "      <td>6076</td>\n",
       "      <td>5477</td>\n",
       "      <td>709</td>\n",
       "      <td>1336</td>\n",
       "      <td>320</td>\n",
       "      <td>...</td>\n",
       "      <td>1298</td>\n",
       "      <td>2.36</td>\n",
       "      <td>8.1</td>\n",
       "      <td>39</td>\n",
       "      <td>73</td>\n",
       "      <td>0.451</td>\n",
       "      <td>1.414</td>\n",
       "      <td>71</td>\n",
       "      <td>0.0</td>\n",
       "      <td>3.0</td>\n",
       "    </tr>\n",
       "    <tr>\n",
       "      <th>2814</th>\n",
       "      <td>WSN</td>\n",
       "      <td>53</td>\n",
       "      <td>27.6</td>\n",
       "      <td>4.76</td>\n",
       "      <td>162</td>\n",
       "      <td>6288</td>\n",
       "      <td>5517</td>\n",
       "      <td>771</td>\n",
       "      <td>1402</td>\n",
       "      <td>284</td>\n",
       "      <td>...</td>\n",
       "      <td>1417</td>\n",
       "      <td>2.91</td>\n",
       "      <td>8.8</td>\n",
       "      <td>40</td>\n",
       "      <td>82</td>\n",
       "      <td>0.506</td>\n",
       "      <td>1.250</td>\n",
       "      <td>42</td>\n",
       "      <td>1.0</td>\n",
       "      <td>7.0</td>\n",
       "    </tr>\n",
       "  </tbody>\n",
       "</table>\n",
       "<p>5 rows × 65 columns</p>\n",
       "</div>"
      ],
      "text/plain": [
       "       Tm  #Bat  BatAge   R/G  G_x    PA    AB  R_x   H_x   2B  ...   SO_y  \\\n",
       "2810  STL    49    28.0  4.69  162  6200  5498  759  1369  248  ...   1337   \n",
       "2811  TBR    54    27.1  4.42  162  6195  5475  716  1415  274  ...   1421   \n",
       "2812  TEX    50    27.4  4.55  162  6163  5453  737  1308  266  ...   1121   \n",
       "2813  TOR    63    28.9  4.38  162  6076  5477  709  1336  320  ...   1298   \n",
       "2814  WSN    53    27.6  4.76  162  6288  5517  771  1402  284  ...   1417   \n",
       "\n",
       "      SO/W  SO9  SV   W   W-L%   WHIP  WP  cSho  tSho  \n",
       "2810  2.25  8.3  43  88  0.543  1.338  63   1.0   8.0  \n",
       "2811  2.84  8.8  52  90  0.556  1.199  55   0.0  14.0  \n",
       "2812  2.28  7.1  42  67  0.414  1.403  57   0.0   5.0  \n",
       "2813  2.36  8.1  39  73  0.451  1.414  71   0.0   3.0  \n",
       "2814  2.91  8.8  40  82  0.506  1.250  42   1.0   7.0  \n",
       "\n",
       "[5 rows x 65 columns]"
      ]
     },
     "execution_count": 5,
     "metadata": {},
     "output_type": "execute_result"
    }
   ],
   "source": [
    "df.tail()"
   ]
  },
  {
   "cell_type": "code",
   "execution_count": 6,
   "metadata": {},
   "outputs": [
    {
     "data": {
      "text/plain": [
       "Tm         object\n",
       "#Bat        int64\n",
       "BatAge    float64\n",
       "R/G       float64\n",
       "G_x         int64\n",
       "PA          int64\n",
       "AB          int64\n",
       "R_x         int64\n",
       "H_x         int64\n",
       "2B          int64\n",
       "3B          int64\n",
       "HR_x        int64\n",
       "RBI       float64\n",
       "SB        float64\n",
       "CS        float64\n",
       "BB_x        int64\n",
       "SO_x        int64\n",
       "BA        float64\n",
       "OBP       float64\n",
       "SLG       float64\n",
       "OPS       float64\n",
       "OPS+        int64\n",
       "TB          int64\n",
       "GDP       float64\n",
       "HBP_x     float64\n",
       "SH        float64\n",
       "SF        float64\n",
       "IBB_x     float64\n",
       "LOB_x     float64\n",
       "Year        int64\n",
       "           ...   \n",
       "CG          int64\n",
       "ER          int64\n",
       "ERA       float64\n",
       "ERA+        int64\n",
       "FIP       float64\n",
       "G_y         int64\n",
       "GF          int64\n",
       "GS          int64\n",
       "H_y         int64\n",
       "H9        float64\n",
       "HBP_y     float64\n",
       "HR_y        int64\n",
       "HR9       float64\n",
       "IBB_y     float64\n",
       "IP        float64\n",
       "L           int64\n",
       "LOB_y     float64\n",
       "PAge      float64\n",
       "R_y         int64\n",
       "RA/G      float64\n",
       "SO_y        int64\n",
       "SO/W      float64\n",
       "SO9       float64\n",
       "SV          int64\n",
       "W           int64\n",
       "W-L%      float64\n",
       "WHIP      float64\n",
       "WP          int64\n",
       "cSho      float64\n",
       "tSho      float64\n",
       "Length: 65, dtype: object"
      ]
     },
     "execution_count": 6,
     "metadata": {},
     "output_type": "execute_result"
    }
   ],
   "source": [
    "df.dtypes"
   ]
  },
  {
   "cell_type": "code",
   "execution_count": 7,
   "metadata": {},
   "outputs": [
    {
     "data": {
      "text/plain": [
       "Index(['Tm', '#Bat', 'BatAge', 'R/G', 'G_x', 'PA', 'AB', 'R_x', 'H_x', '2B',\n",
       "       '3B', 'HR_x', 'RBI', 'SB', 'CS', 'BB_x', 'SO_x', 'BA', 'OBP', 'SLG',\n",
       "       'OPS', 'OPS+', 'TB', 'GDP', 'HBP_x', 'SH', 'SF', 'IBB_x', 'LOB_x',\n",
       "       'Year', '#P', 'BB_y', 'BB9', 'BF', 'BK', 'CG', 'ER', 'ERA', 'ERA+',\n",
       "       'FIP', 'G_y', 'GF', 'GS', 'H_y', 'H9', 'HBP_y', 'HR_y', 'HR9', 'IBB_y',\n",
       "       'IP', 'L', 'LOB_y', 'PAge', 'R_y', 'RA/G', 'SO_y', 'SO/W', 'SO9', 'SV',\n",
       "       'W', 'W-L%', 'WHIP', 'WP', 'cSho', 'tSho'],\n",
       "      dtype='object')"
      ]
     },
     "execution_count": 7,
     "metadata": {},
     "output_type": "execute_result"
    }
   ],
   "source": [
    "df.columns"
   ]
  },
  {
   "cell_type": "code",
   "execution_count": 8,
   "metadata": {},
   "outputs": [
    {
     "data": {
      "text/plain": [
       "1884    33\n",
       "2017    30\n",
       "2015    30\n",
       "1998    30\n",
       "2002    30\n",
       "2004    30\n",
       "2006    30\n",
       "2008    30\n",
       "2010    30\n",
       "2012    30\n",
       "2014    30\n",
       "2016    30\n",
       "2018    30\n",
       "2005    30\n",
       "2013    30\n",
       "1999    30\n",
       "2001    30\n",
       "2003    30\n",
       "2007    30\n",
       "2009    30\n",
       "2011    30\n",
       "1993    28\n",
       "1997    28\n",
       "1996    28\n",
       "1994    28\n",
       "1995    28\n",
       "1992    26\n",
       "1990    26\n",
       "1988    26\n",
       "1986    26\n",
       "        ..\n",
       "1941    16\n",
       "1905    16\n",
       "1911    16\n",
       "1901    16\n",
       "1883    16\n",
       "1957    16\n",
       "1955    16\n",
       "1953    16\n",
       "1951    16\n",
       "1947    16\n",
       "1949    16\n",
       "1885    16\n",
       "1887    16\n",
       "1889    16\n",
       "1882    14\n",
       "1892    12\n",
       "1897    12\n",
       "1895    12\n",
       "1893    12\n",
       "1894    12\n",
       "1896    12\n",
       "1898    12\n",
       "1899    12\n",
       "1881     8\n",
       "1900     8\n",
       "1879     8\n",
       "1880     8\n",
       "1876     8\n",
       "1877     6\n",
       "1878     6\n",
       "Name: Year, Length: 142, dtype: int64"
      ]
     },
     "execution_count": 8,
     "metadata": {},
     "output_type": "execute_result"
    }
   ],
   "source": [
    "df.Year.value_counts()"
   ]
  },
  {
   "cell_type": "code",
   "execution_count": 9,
   "metadata": {
    "collapsed": true
   },
   "outputs": [],
   "source": [
    "correlation = df.corr()"
   ]
  },
  {
   "cell_type": "markdown",
   "metadata": {},
   "source": [
    "## Study Correlation Of Features With Wins."
   ]
  },
  {
   "cell_type": "code",
   "execution_count": 10,
   "metadata": {},
   "outputs": [
    {
     "data": {
      "text/plain": [
       "#Bat      0.178940\n",
       "BatAge    0.352487\n",
       "R/G       0.224332\n",
       "G_x       0.582830\n",
       "PA        0.629993\n",
       "AB        0.599076\n",
       "R_x       0.626056\n",
       "H_x       0.649828\n",
       "2B        0.509120\n",
       "3B        0.014362\n",
       "HR_x      0.447111\n",
       "RBI       0.648062\n",
       "SB       -0.008447\n",
       "CS       -0.016638\n",
       "BB_x      0.586737\n",
       "SO_x      0.304754\n",
       "BA        0.353061\n",
       "OBP       0.533598\n",
       "SLG       0.521056\n",
       "OPS       0.564913\n",
       "OPS+      0.549647\n",
       "TB        0.649951\n",
       "GDP       0.077197\n",
       "HBP_x     0.127109\n",
       "SH       -0.018893\n",
       "SF        0.354130\n",
       "IBB_x     0.354443\n",
       "LOB_x     0.359822\n",
       "Year      0.352521\n",
       "#P        0.186490\n",
       "            ...   \n",
       "CG       -0.175771\n",
       "ER        0.081558\n",
       "ERA      -0.242158\n",
       "ERA+      0.563912\n",
       "FIP      -0.025223\n",
       "G_y       0.582832\n",
       "GF        0.356504\n",
       "GS        0.582657\n",
       "H_y       0.240439\n",
       "H9       -0.487337\n",
       "HBP_y    -0.092135\n",
       "HR_y      0.256221\n",
       "HR9       0.207969\n",
       "IBB_y    -0.050684\n",
       "IP        0.612138\n",
       "L        -0.332367\n",
       "LOB_y     0.042761\n",
       "PAge      0.390851\n",
       "R_y      -0.162247\n",
       "RA/G     -0.607445\n",
       "SO_y      0.441019\n",
       "SO/W      0.148624\n",
       "SO9       0.334545\n",
       "SV        0.482644\n",
       "W         1.000000\n",
       "W-L%      0.819723\n",
       "WHIP     -0.336374\n",
       "WP       -0.107353\n",
       "cSho      0.272929\n",
       "tSho      0.508369\n",
       "Name: W, Length: 64, dtype: float64"
      ]
     },
     "execution_count": 10,
     "metadata": {},
     "output_type": "execute_result"
    }
   ],
   "source": [
    "W_corr = correlation.W\n",
    "W_corr"
   ]
  },
  {
   "cell_type": "markdown",
   "metadata": {},
   "source": [
    "## Examine the data for Null values."
   ]
  },
  {
   "cell_type": "code",
   "execution_count": 11,
   "metadata": {},
   "outputs": [
    {
     "data": {
      "text/plain": [
       "Tm           0\n",
       "#Bat         0\n",
       "BatAge       0\n",
       "R/G          0\n",
       "G_x          0\n",
       "PA           0\n",
       "AB           0\n",
       "R_x          0\n",
       "H_x          0\n",
       "2B           0\n",
       "3B           0\n",
       "HR_x         0\n",
       "RBI         15\n",
       "SB         123\n",
       "CS         717\n",
       "BB_x         0\n",
       "SO_x         0\n",
       "BA           0\n",
       "OBP          0\n",
       "SLG          0\n",
       "OPS          0\n",
       "OPS+         0\n",
       "TB           0\n",
       "GDP        909\n",
       "HBP_x      110\n",
       "SH         253\n",
       "SF        1197\n",
       "IBB_x      989\n",
       "LOB_x      445\n",
       "Year         0\n",
       "          ... \n",
       "CG           0\n",
       "ER           0\n",
       "ERA          0\n",
       "ERA+         0\n",
       "FIP          0\n",
       "G_y          0\n",
       "GF           0\n",
       "GS           0\n",
       "H_y          0\n",
       "H9           0\n",
       "HBP_y      110\n",
       "HR_y         0\n",
       "HR9          0\n",
       "IBB_y      989\n",
       "IP           0\n",
       "L            0\n",
       "LOB_y      445\n",
       "PAge         0\n",
       "R_y          0\n",
       "RA/G         0\n",
       "SO_y         0\n",
       "SO/W         0\n",
       "SO9          0\n",
       "SV           0\n",
       "W            0\n",
       "W-L%         0\n",
       "WHIP         0\n",
       "WP           0\n",
       "cSho         8\n",
       "tSho         8\n",
       "Length: 65, dtype: int64"
      ]
     },
     "execution_count": 11,
     "metadata": {},
     "output_type": "execute_result"
    }
   ],
   "source": [
    "#df.SV.isna().sum()\n",
    "df.isnull().sum()"
   ]
  },
  {
   "cell_type": "code",
   "execution_count": 12,
   "metadata": {},
   "outputs": [
    {
     "data": {
      "text/plain": [
       "Index(['Tm', '#Bat', 'BatAge', 'R/G', 'G_x', 'PA', 'AB', 'R_x', 'H_x', '2B',\n",
       "       '3B', 'HR_x', 'RBI', 'SB', 'CS', 'BB_x', 'SO_x', 'BA', 'OBP', 'SLG',\n",
       "       'OPS', 'OPS+', 'TB', 'GDP', 'HBP_x', 'SH', 'SF', 'IBB_x', 'LOB_x',\n",
       "       'Year', '#P', 'BB_y', 'BB9', 'BF', 'BK', 'CG', 'ER', 'ERA', 'ERA+',\n",
       "       'FIP', 'G_y', 'GF', 'GS', 'H_y', 'H9', 'HBP_y', 'HR_y', 'HR9', 'IBB_y',\n",
       "       'IP', 'L', 'LOB_y', 'PAge', 'R_y', 'RA/G', 'SO_y', 'SO/W', 'SO9', 'SV',\n",
       "       'W', 'W-L%', 'WHIP', 'WP', 'cSho', 'tSho'],\n",
       "      dtype='object')"
      ]
     },
     "execution_count": 12,
     "metadata": {},
     "output_type": "execute_result"
    }
   ],
   "source": [
    "df.columns"
   ]
  },
  {
   "cell_type": "markdown",
   "metadata": {},
   "source": [
    "## Exploratory Data Analysis"
   ]
  },
  {
   "cell_type": "code",
   "execution_count": 13,
   "metadata": {},
   "outputs": [
    {
     "data": {
      "text/plain": [
       "<matplotlib.text.Text at 0x119fdb908>"
      ]
     },
     "execution_count": 13,
     "metadata": {},
     "output_type": "execute_result"
    },
    {
     "data": {
      "image/png": "[encoded data removed]",
      "text/plain": [
       "<matplotlib.figure.Figure at 0x11a593e48>"
      ]
     },
     "metadata": {},
     "output_type": "display_data"
    }
   ],
   "source": [
    "plt.figure(figsize = [9,6]) # [width, height]\n",
    "plt.title('MLB 1876-2018',weight = 'bold', size =20)\n",
    "sns.regplot(x=\"H_x\", y=\"W\", data = df)\n",
    "plt.xlabel('Hits', weight = 'bold',size =18)\n",
    "plt.ylabel('Wins', weight = 'bold', size=18)\n",
    "#plt.savefig('MLB_W&OPS_5seasons.png')"
   ]
  },
  {
   "cell_type": "code",
   "execution_count": 14,
   "metadata": {},
   "outputs": [
    {
     "data": {
      "text/plain": [
       "<matplotlib.text.Text at 0x11db57ba8>"
      ]
     },
     "execution_count": 14,
     "metadata": {},
     "output_type": "execute_result"
    },
    {
     "data": {
      "image/png": "[encoded data removed]",
      "text/plain": [
       "<matplotlib.figure.Figure at 0x11db25828>"
      ]
     },
     "metadata": {},
     "output_type": "display_data"
    }
   ],
   "source": [
    "plt.figure(figsize = [9,6]) # [width, height]\n",
    "plt.title('MLB 1876-2018',weight = 'bold', size =20)\n",
    "sns.regplot(x=\"ERA\", y=\"W\", data = df)\n",
    "plt.xlabel('Earned Runs Average', weight = 'bold',size =18)\n",
    "plt.ylabel('Wins', weight = 'bold', size=18)"
   ]
  },
  {
   "cell_type": "code",
   "execution_count": 15,
   "metadata": {},
   "outputs": [
    {
     "data": {
      "text/plain": [
       "<matplotlib.text.Text at 0x119fd2c88>"
      ]
     },
     "execution_count": 15,
     "metadata": {},
     "output_type": "execute_result"
    },
    {
     "data": {
      "image/png": "[encoded data removed]",
      "text/plain": [
       "<matplotlib.figure.Figure at 0x11dbd3be0>"
      ]
     },
     "metadata": {},
     "output_type": "display_data"
    }
   ],
   "source": [
    "plt.figure(figsize = [9,6]) # [width, height]\n",
    "plt.title('MLB 1876-2018',weight = 'bold', size =20)\n",
    "sns.regplot(x=\"R_x\", y=\"W\", data = df)\n",
    "plt.xlabel('Runs', weight = 'bold',size =18)\n",
    "plt.ylabel('Wins', weight = 'bold', size=18)"
   ]
  },
  {
   "cell_type": "markdown",
   "metadata": {
    "collapsed": true
   },
   "source": [
    "## No surprise. Wins are positively correlated with runs, and hits. But, wins are negatively correlated with Earned Run Average (ERA)."
   ]
  },
  {
   "cell_type": "code",
   "execution_count": 16,
   "metadata": {
    "collapsed": true
   },
   "outputs": [],
   "source": [
    "predictors = ['W','#Bat','BatAge','G_x','PA','AB', 'R_x','H_x','2B','HR_x']\n",
    " \n",
    "df_1 = df[predictors]"
   ]
  },
  {
   "cell_type": "code",
   "execution_count": 17,
   "metadata": {},
   "outputs": [
    {
     "data": {
      "text/plain": [
       "<matplotlib.axes._subplots.AxesSubplot at 0x119fe5c50>"
      ]
     },
     "execution_count": 17,
     "metadata": {},
     "output_type": "execute_result"
    },
    {
     "data": {
      "image/png": "[encoded data removed]",
      "text/plain": [
       "<matplotlib.figure.Figure at 0x118ec4240>"
      ]
     },
     "metadata": {},
     "output_type": "display_data"
    }
   ],
   "source": [
    "%matplotlib inline \n",
    "corr = df_1.corr()\n",
    "plt.figure(figsize = [9,6]) \n",
    "#sns.palplot(sns.diverging_palette(220, 20, n=7))\n",
    "#sns.heatmap(corr, cmap= sns.diverging_palette(220, 20, n=10),\n",
    "            #xticklabels=corr.columns.values,\n",
    "            #yticklabels=corr.columns.values)\n",
    "sns.heatmap(corr,cmap = sns.color_palette(\"GnBu_d\"),\n",
    "            xticklabels=corr.columns.values,\n",
    "            yticklabels=corr.columns.values)\n",
    "#sns.heatmap(corr, cmap= sns.diverging_palette(20, 220, n=8),\n",
    "            #xticklabels=corr.columns.values,\n",
    "            #yticklabels=corr.columns.values)"
   ]
  },
  {
   "cell_type": "code",
   "execution_count": 18,
   "metadata": {},
   "outputs": [
    {
     "data": {
      "text/plain": [
       "<matplotlib.axes._subplots.AxesSubplot at 0x11df5df28>"
      ]
     },
     "execution_count": 18,
     "metadata": {},
     "output_type": "execute_result"
    },
    {
     "data": {
      "image/png": "[encoded data removed]",
      "text/plain": [
       "<matplotlib.figure.Figure at 0x11db259e8>"
      ]
     },
     "metadata": {},
     "output_type": "display_data"
    }
   ],
   "source": [
    "sns.heatmap(corr, cmap= sns.diverging_palette(220,320, n=15),\n",
    "            xticklabels=corr.columns.values,\n",
    "            yticklabels=corr.columns.values)"
   ]
  },
  {
   "cell_type": "code",
   "execution_count": 19,
   "metadata": {},
   "outputs": [
    {
     "data": {
      "text/html": [
       "<div>\n",
       "<style>\n",
       "    .dataframe thead tr:only-child th {\n",
       "        text-align: right;\n",
       "    }\n",
       "\n",
       "    .dataframe thead th {\n",
       "        text-align: left;\n",
       "    }\n",
       "\n",
       "    .dataframe tbody tr th {\n",
       "        vertical-align: top;\n",
       "    }\n",
       "</style>\n",
       "<table border=\"1\" class=\"dataframe\">\n",
       "  <thead>\n",
       "    <tr style=\"text-align: right;\">\n",
       "      <th></th>\n",
       "      <th>W</th>\n",
       "      <th>#Bat</th>\n",
       "      <th>BatAge</th>\n",
       "      <th>G_x</th>\n",
       "      <th>PA</th>\n",
       "      <th>AB</th>\n",
       "      <th>R_x</th>\n",
       "      <th>H_x</th>\n",
       "      <th>2B</th>\n",
       "      <th>HR_x</th>\n",
       "    </tr>\n",
       "  </thead>\n",
       "  <tbody>\n",
       "    <tr>\n",
       "      <th>W</th>\n",
       "      <td>1.000000</td>\n",
       "      <td>0.178940</td>\n",
       "      <td>0.352487</td>\n",
       "      <td>0.582830</td>\n",
       "      <td>0.629993</td>\n",
       "      <td>0.599076</td>\n",
       "      <td>0.626056</td>\n",
       "      <td>0.649828</td>\n",
       "      <td>0.509120</td>\n",
       "      <td>0.447111</td>\n",
       "    </tr>\n",
       "    <tr>\n",
       "      <th>#Bat</th>\n",
       "      <td>0.178940</td>\n",
       "      <td>1.000000</td>\n",
       "      <td>0.258566</td>\n",
       "      <td>0.595320</td>\n",
       "      <td>0.579680</td>\n",
       "      <td>0.577388</td>\n",
       "      <td>0.126389</td>\n",
       "      <td>0.406306</td>\n",
       "      <td>0.548037</td>\n",
       "      <td>0.648376</td>\n",
       "    </tr>\n",
       "    <tr>\n",
       "      <th>BatAge</th>\n",
       "      <td>0.352487</td>\n",
       "      <td>0.258566</td>\n",
       "      <td>1.000000</td>\n",
       "      <td>0.356100</td>\n",
       "      <td>0.390164</td>\n",
       "      <td>0.368613</td>\n",
       "      <td>0.286743</td>\n",
       "      <td>0.395255</td>\n",
       "      <td>0.374820</td>\n",
       "      <td>0.319800</td>\n",
       "    </tr>\n",
       "    <tr>\n",
       "      <th>G_x</th>\n",
       "      <td>0.582830</td>\n",
       "      <td>0.595320</td>\n",
       "      <td>0.356100</td>\n",
       "      <td>1.000000</td>\n",
       "      <td>0.979475</td>\n",
       "      <td>0.979470</td>\n",
       "      <td>0.428928</td>\n",
       "      <td>0.806721</td>\n",
       "      <td>0.611673</td>\n",
       "      <td>0.517051</td>\n",
       "    </tr>\n",
       "    <tr>\n",
       "      <th>PA</th>\n",
       "      <td>0.629993</td>\n",
       "      <td>0.579680</td>\n",
       "      <td>0.390164</td>\n",
       "      <td>0.979475</td>\n",
       "      <td>1.000000</td>\n",
       "      <td>0.990543</td>\n",
       "      <td>0.562848</td>\n",
       "      <td>0.883688</td>\n",
       "      <td>0.690704</td>\n",
       "      <td>0.564084</td>\n",
       "    </tr>\n",
       "    <tr>\n",
       "      <th>AB</th>\n",
       "      <td>0.599076</td>\n",
       "      <td>0.577388</td>\n",
       "      <td>0.368613</td>\n",
       "      <td>0.979470</td>\n",
       "      <td>0.990543</td>\n",
       "      <td>1.000000</td>\n",
       "      <td>0.541059</td>\n",
       "      <td>0.882526</td>\n",
       "      <td>0.688636</td>\n",
       "      <td>0.560683</td>\n",
       "    </tr>\n",
       "    <tr>\n",
       "      <th>R_x</th>\n",
       "      <td>0.626056</td>\n",
       "      <td>0.126389</td>\n",
       "      <td>0.286743</td>\n",
       "      <td>0.428928</td>\n",
       "      <td>0.562848</td>\n",
       "      <td>0.541059</td>\n",
       "      <td>1.000000</td>\n",
       "      <td>0.771996</td>\n",
       "      <td>0.644847</td>\n",
       "      <td>0.465963</td>\n",
       "    </tr>\n",
       "    <tr>\n",
       "      <th>H_x</th>\n",
       "      <td>0.649828</td>\n",
       "      <td>0.406306</td>\n",
       "      <td>0.395255</td>\n",
       "      <td>0.806721</td>\n",
       "      <td>0.883688</td>\n",
       "      <td>0.882526</td>\n",
       "      <td>0.771996</td>\n",
       "      <td>1.000000</td>\n",
       "      <td>0.779155</td>\n",
       "      <td>0.497800</td>\n",
       "    </tr>\n",
       "    <tr>\n",
       "      <th>2B</th>\n",
       "      <td>0.509120</td>\n",
       "      <td>0.548037</td>\n",
       "      <td>0.374820</td>\n",
       "      <td>0.611673</td>\n",
       "      <td>0.690704</td>\n",
       "      <td>0.688636</td>\n",
       "      <td>0.644847</td>\n",
       "      <td>0.779155</td>\n",
       "      <td>1.000000</td>\n",
       "      <td>0.651040</td>\n",
       "    </tr>\n",
       "    <tr>\n",
       "      <th>HR_x</th>\n",
       "      <td>0.447111</td>\n",
       "      <td>0.648376</td>\n",
       "      <td>0.319800</td>\n",
       "      <td>0.517051</td>\n",
       "      <td>0.564084</td>\n",
       "      <td>0.560683</td>\n",
       "      <td>0.465963</td>\n",
       "      <td>0.497800</td>\n",
       "      <td>0.651040</td>\n",
       "      <td>1.000000</td>\n",
       "    </tr>\n",
       "  </tbody>\n",
       "</table>\n",
       "</div>"
      ],
      "text/plain": [
       "               W      #Bat    BatAge       G_x        PA        AB       R_x  \\\n",
       "W       1.000000  0.178940  0.352487  0.582830  0.629993  0.599076  0.626056   \n",
       "#Bat    0.178940  1.000000  0.258566  0.595320  0.579680  0.577388  0.126389   \n",
       "BatAge  0.352487  0.258566  1.000000  0.356100  0.390164  0.368613  0.286743   \n",
       "G_x     0.582830  0.595320  0.356100  1.000000  0.979475  0.979470  0.428928   \n",
       "PA      0.629993  0.579680  0.390164  0.979475  1.000000  0.990543  0.562848   \n",
       "AB      0.599076  0.577388  0.368613  0.979470  0.990543  1.000000  0.541059   \n",
       "R_x     0.626056  0.126389  0.286743  0.428928  0.562848  0.541059  1.000000   \n",
       "H_x     0.649828  0.406306  0.395255  0.806721  0.883688  0.882526  0.771996   \n",
       "2B      0.509120  0.548037  0.374820  0.611673  0.690704  0.688636  0.644847   \n",
       "HR_x    0.447111  0.648376  0.319800  0.517051  0.564084  0.560683  0.465963   \n",
       "\n",
       "             H_x        2B      HR_x  \n",
       "W       0.649828  0.509120  0.447111  \n",
       "#Bat    0.406306  0.548037  0.648376  \n",
       "BatAge  0.395255  0.374820  0.319800  \n",
       "G_x     0.806721  0.611673  0.517051  \n",
       "PA      0.883688  0.690704  0.564084  \n",
       "AB      0.882526  0.688636  0.560683  \n",
       "R_x     0.771996  0.644847  0.465963  \n",
       "H_x     1.000000  0.779155  0.497800  \n",
       "2B      0.779155  1.000000  0.651040  \n",
       "HR_x    0.497800  0.651040  1.000000  "
      ]
     },
     "execution_count": 19,
     "metadata": {},
     "output_type": "execute_result"
    }
   ],
   "source": [
    "corr"
   ]
  },
  {
   "cell_type": "code",
   "execution_count": 20,
   "metadata": {
    "collapsed": true
   },
   "outputs": [],
   "source": [
    "predictors2 = ['W','BB_x','SO_x','OPS+','TB','#P','BB_y','BF','BK','CG','ER']"
   ]
  },
  {
   "cell_type": "code",
   "execution_count": 21,
   "metadata": {},
   "outputs": [
    {
     "data": {
      "text/plain": [
       "<matplotlib.axes._subplots.AxesSubplot at 0x11e150160>"
      ]
     },
     "execution_count": 21,
     "metadata": {},
     "output_type": "execute_result"
    },
    {
     "data": {
      "image/png": "[encoded data removed]",
      "text/plain": [
       "<matplotlib.figure.Figure at 0x11e1427b8>"
      ]
     },
     "metadata": {},
     "output_type": "display_data"
    }
   ],
   "source": [
    "df_2 = df[predictors2]\n",
    "\n",
    "%matplotlib inline\n",
    "plt.figure(figsize = [9,6]) \n",
    "corr = df_2.corr()\n",
    "sns.heatmap(corr,cmap= sns.diverging_palette(220,320, n=15),\n",
    "            xticklabels=corr.columns.values,\n",
    "            yticklabels=corr.columns.values)\n"
   ]
  },
  {
   "cell_type": "code",
   "execution_count": 22,
   "metadata": {},
   "outputs": [
    {
     "data": {
      "text/html": [
       "<div>\n",
       "<style>\n",
       "    .dataframe thead tr:only-child th {\n",
       "        text-align: right;\n",
       "    }\n",
       "\n",
       "    .dataframe thead th {\n",
       "        text-align: left;\n",
       "    }\n",
       "\n",
       "    .dataframe tbody tr th {\n",
       "        vertical-align: top;\n",
       "    }\n",
       "</style>\n",
       "<table border=\"1\" class=\"dataframe\">\n",
       "  <thead>\n",
       "    <tr style=\"text-align: right;\">\n",
       "      <th></th>\n",
       "      <th>W</th>\n",
       "      <th>BB_x</th>\n",
       "      <th>SO_x</th>\n",
       "      <th>OPS+</th>\n",
       "      <th>TB</th>\n",
       "      <th>#P</th>\n",
       "      <th>BB_y</th>\n",
       "      <th>BF</th>\n",
       "      <th>BK</th>\n",
       "      <th>CG</th>\n",
       "      <th>ER</th>\n",
       "    </tr>\n",
       "  </thead>\n",
       "  <tbody>\n",
       "    <tr>\n",
       "      <th>W</th>\n",
       "      <td>1.000000</td>\n",
       "      <td>0.586737</td>\n",
       "      <td>0.304754</td>\n",
       "      <td>0.549647</td>\n",
       "      <td>0.649951</td>\n",
       "      <td>0.186490</td>\n",
       "      <td>0.237272</td>\n",
       "      <td>0.503418</td>\n",
       "      <td>0.119359</td>\n",
       "      <td>-0.175771</td>\n",
       "      <td>0.081558</td>\n",
       "    </tr>\n",
       "    <tr>\n",
       "      <th>BB_x</th>\n",
       "      <td>0.586737</td>\n",
       "      <td>1.000000</td>\n",
       "      <td>0.440274</td>\n",
       "      <td>0.248150</td>\n",
       "      <td>0.705919</td>\n",
       "      <td>0.439710</td>\n",
       "      <td>0.705966</td>\n",
       "      <td>0.743384</td>\n",
       "      <td>0.220830</td>\n",
       "      <td>-0.370608</td>\n",
       "      <td>0.584361</td>\n",
       "    </tr>\n",
       "    <tr>\n",
       "      <th>SO_x</th>\n",
       "      <td>0.304754</td>\n",
       "      <td>0.440274</td>\n",
       "      <td>1.000000</td>\n",
       "      <td>0.056484</td>\n",
       "      <td>0.585641</td>\n",
       "      <td>0.790572</td>\n",
       "      <td>0.453307</td>\n",
       "      <td>0.585642</td>\n",
       "      <td>0.359676</td>\n",
       "      <td>-0.793676</td>\n",
       "      <td>0.522401</td>\n",
       "    </tr>\n",
       "    <tr>\n",
       "      <th>OPS+</th>\n",
       "      <td>0.549647</td>\n",
       "      <td>0.248150</td>\n",
       "      <td>0.056484</td>\n",
       "      <td>1.000000</td>\n",
       "      <td>0.398879</td>\n",
       "      <td>0.032084</td>\n",
       "      <td>-0.063885</td>\n",
       "      <td>0.014208</td>\n",
       "      <td>-0.001655</td>\n",
       "      <td>-0.068183</td>\n",
       "      <td>-0.060745</td>\n",
       "    </tr>\n",
       "    <tr>\n",
       "      <th>TB</th>\n",
       "      <td>0.649951</td>\n",
       "      <td>0.705919</td>\n",
       "      <td>0.585641</td>\n",
       "      <td>0.398879</td>\n",
       "      <td>1.000000</td>\n",
       "      <td>0.596112</td>\n",
       "      <td>0.626474</td>\n",
       "      <td>0.814244</td>\n",
       "      <td>0.246684</td>\n",
       "      <td>-0.540403</td>\n",
       "      <td>0.744733</td>\n",
       "    </tr>\n",
       "    <tr>\n",
       "      <th>#P</th>\n",
       "      <td>0.186490</td>\n",
       "      <td>0.439710</td>\n",
       "      <td>0.790572</td>\n",
       "      <td>0.032084</td>\n",
       "      <td>0.596112</td>\n",
       "      <td>1.000000</td>\n",
       "      <td>0.533250</td>\n",
       "      <td>0.577948</td>\n",
       "      <td>0.289605</td>\n",
       "      <td>-0.761983</td>\n",
       "      <td>0.652916</td>\n",
       "    </tr>\n",
       "    <tr>\n",
       "      <th>BB_y</th>\n",
       "      <td>0.237272</td>\n",
       "      <td>0.705966</td>\n",
       "      <td>0.453307</td>\n",
       "      <td>-0.063885</td>\n",
       "      <td>0.626474</td>\n",
       "      <td>0.533250</td>\n",
       "      <td>1.000000</td>\n",
       "      <td>0.796946</td>\n",
       "      <td>0.289484</td>\n",
       "      <td>-0.412511</td>\n",
       "      <td>0.754849</td>\n",
       "    </tr>\n",
       "    <tr>\n",
       "      <th>BF</th>\n",
       "      <td>0.503418</td>\n",
       "      <td>0.743384</td>\n",
       "      <td>0.585642</td>\n",
       "      <td>0.014208</td>\n",
       "      <td>0.814244</td>\n",
       "      <td>0.577948</td>\n",
       "      <td>0.796946</td>\n",
       "      <td>1.000000</td>\n",
       "      <td>0.304104</td>\n",
       "      <td>-0.421632</td>\n",
       "      <td>0.769069</td>\n",
       "    </tr>\n",
       "    <tr>\n",
       "      <th>BK</th>\n",
       "      <td>0.119359</td>\n",
       "      <td>0.220830</td>\n",
       "      <td>0.359676</td>\n",
       "      <td>-0.001655</td>\n",
       "      <td>0.246684</td>\n",
       "      <td>0.289605</td>\n",
       "      <td>0.289484</td>\n",
       "      <td>0.304104</td>\n",
       "      <td>1.000000</td>\n",
       "      <td>-0.427603</td>\n",
       "      <td>0.257798</td>\n",
       "    </tr>\n",
       "    <tr>\n",
       "      <th>CG</th>\n",
       "      <td>-0.175771</td>\n",
       "      <td>-0.370608</td>\n",
       "      <td>-0.793676</td>\n",
       "      <td>-0.068183</td>\n",
       "      <td>-0.540403</td>\n",
       "      <td>-0.761983</td>\n",
       "      <td>-0.412511</td>\n",
       "      <td>-0.421632</td>\n",
       "      <td>-0.427603</td>\n",
       "      <td>1.000000</td>\n",
       "      <td>-0.539682</td>\n",
       "    </tr>\n",
       "    <tr>\n",
       "      <th>ER</th>\n",
       "      <td>0.081558</td>\n",
       "      <td>0.584361</td>\n",
       "      <td>0.522401</td>\n",
       "      <td>-0.060745</td>\n",
       "      <td>0.744733</td>\n",
       "      <td>0.652916</td>\n",
       "      <td>0.754849</td>\n",
       "      <td>0.769069</td>\n",
       "      <td>0.257798</td>\n",
       "      <td>-0.539682</td>\n",
       "      <td>1.000000</td>\n",
       "    </tr>\n",
       "  </tbody>\n",
       "</table>\n",
       "</div>"
      ],
      "text/plain": [
       "             W      BB_x      SO_x      OPS+        TB        #P      BB_y  \\\n",
       "W     1.000000  0.586737  0.304754  0.549647  0.649951  0.186490  0.237272   \n",
       "BB_x  0.586737  1.000000  0.440274  0.248150  0.705919  0.439710  0.705966   \n",
       "SO_x  0.304754  0.440274  1.000000  0.056484  0.585641  0.790572  0.453307   \n",
       "OPS+  0.549647  0.248150  0.056484  1.000000  0.398879  0.032084 -0.063885   \n",
       "TB    0.649951  0.705919  0.585641  0.398879  1.000000  0.596112  0.626474   \n",
       "#P    0.186490  0.439710  0.790572  0.032084  0.596112  1.000000  0.533250   \n",
       "BB_y  0.237272  0.705966  0.453307 -0.063885  0.626474  0.533250  1.000000   \n",
       "BF    0.503418  0.743384  0.585642  0.014208  0.814244  0.577948  0.796946   \n",
       "BK    0.119359  0.220830  0.359676 -0.001655  0.246684  0.289605  0.289484   \n",
       "CG   -0.175771 -0.370608 -0.793676 -0.068183 -0.540403 -0.761983 -0.412511   \n",
       "ER    0.081558  0.584361  0.522401 -0.060745  0.744733  0.652916  0.754849   \n",
       "\n",
       "            BF        BK        CG        ER  \n",
       "W     0.503418  0.119359 -0.175771  0.081558  \n",
       "BB_x  0.743384  0.220830 -0.370608  0.584361  \n",
       "SO_x  0.585642  0.359676 -0.793676  0.522401  \n",
       "OPS+  0.014208 -0.001655 -0.068183 -0.060745  \n",
       "TB    0.814244  0.246684 -0.540403  0.744733  \n",
       "#P    0.577948  0.289605 -0.761983  0.652916  \n",
       "BB_y  0.796946  0.289484 -0.412511  0.754849  \n",
       "BF    1.000000  0.304104 -0.421632  0.769069  \n",
       "BK    0.304104  1.000000 -0.427603  0.257798  \n",
       "CG   -0.421632 -0.427603  1.000000 -0.539682  \n",
       "ER    0.769069  0.257798 -0.539682  1.000000  "
      ]
     },
     "execution_count": 22,
     "metadata": {},
     "output_type": "execute_result"
    }
   ],
   "source": [
    "corr"
   ]
  },
  {
   "cell_type": "code",
   "execution_count": 23,
   "metadata": {
    "collapsed": true
   },
   "outputs": [],
   "source": [
    "predictors3 = ['W','G_y','GF','H_y','HR_y', 'IP','PAge','R_y','SO_y','SV','WP']"
   ]
  },
  {
   "cell_type": "code",
   "execution_count": 24,
   "metadata": {},
   "outputs": [
    {
     "data": {
      "text/plain": [
       "<matplotlib.axes._subplots.AxesSubplot at 0x11e3b2828>"
      ]
     },
     "execution_count": 24,
     "metadata": {},
     "output_type": "execute_result"
    },
    {
     "data": {
      "image/png": "[encoded data removed]",
      "text/plain": [
       "<matplotlib.figure.Figure at 0x11e168e48>"
      ]
     },
     "metadata": {},
     "output_type": "display_data"
    }
   ],
   "source": [
    "df_3 = df[predictors3]\n",
    "\n",
    "%matplotlib inline\n",
    "corr = df_3.corr()\n",
    "plt.figure(figsize = [9,6])\n",
    "sns.heatmap(corr, cmap= sns.diverging_palette(220,320, n=15),\n",
    "            xticklabels=corr.columns.values,\n",
    "            yticklabels=corr.columns.values)"
   ]
  },
  {
   "cell_type": "code",
   "execution_count": 25,
   "metadata": {},
   "outputs": [
    {
     "data": {
      "text/html": [
       "<div>\n",
       "<style>\n",
       "    .dataframe thead tr:only-child th {\n",
       "        text-align: right;\n",
       "    }\n",
       "\n",
       "    .dataframe thead th {\n",
       "        text-align: left;\n",
       "    }\n",
       "\n",
       "    .dataframe tbody tr th {\n",
       "        vertical-align: top;\n",
       "    }\n",
       "</style>\n",
       "<table border=\"1\" class=\"dataframe\">\n",
       "  <thead>\n",
       "    <tr style=\"text-align: right;\">\n",
       "      <th></th>\n",
       "      <th>W</th>\n",
       "      <th>G_y</th>\n",
       "      <th>GF</th>\n",
       "      <th>H_y</th>\n",
       "      <th>HR_y</th>\n",
       "      <th>IP</th>\n",
       "      <th>PAge</th>\n",
       "      <th>R_y</th>\n",
       "      <th>SO_y</th>\n",
       "      <th>SV</th>\n",
       "      <th>WP</th>\n",
       "    </tr>\n",
       "  </thead>\n",
       "  <tbody>\n",
       "    <tr>\n",
       "      <th>W</th>\n",
       "      <td>1.000000</td>\n",
       "      <td>0.582832</td>\n",
       "      <td>0.356504</td>\n",
       "      <td>0.240439</td>\n",
       "      <td>0.256221</td>\n",
       "      <td>0.612138</td>\n",
       "      <td>0.390851</td>\n",
       "      <td>-0.162247</td>\n",
       "      <td>0.441019</td>\n",
       "      <td>0.482644</td>\n",
       "      <td>-0.107353</td>\n",
       "    </tr>\n",
       "    <tr>\n",
       "      <th>G_y</th>\n",
       "      <td>0.582832</td>\n",
       "      <td>1.000000</td>\n",
       "      <td>0.662325</td>\n",
       "      <td>0.793013</td>\n",
       "      <td>0.544427</td>\n",
       "      <td>0.994634</td>\n",
       "      <td>0.440649</td>\n",
       "      <td>0.412357</td>\n",
       "      <td>0.586161</td>\n",
       "      <td>0.536582</td>\n",
       "      <td>0.048730</td>\n",
       "    </tr>\n",
       "    <tr>\n",
       "      <th>GF</th>\n",
       "      <td>0.356504</td>\n",
       "      <td>0.662325</td>\n",
       "      <td>1.000000</td>\n",
       "      <td>0.537719</td>\n",
       "      <td>0.875192</td>\n",
       "      <td>0.679360</td>\n",
       "      <td>0.445750</td>\n",
       "      <td>0.275896</td>\n",
       "      <td>0.838943</td>\n",
       "      <td>0.899402</td>\n",
       "      <td>0.228254</td>\n",
       "    </tr>\n",
       "    <tr>\n",
       "      <th>H_y</th>\n",
       "      <td>0.240439</td>\n",
       "      <td>0.793013</td>\n",
       "      <td>0.537719</td>\n",
       "      <td>1.000000</td>\n",
       "      <td>0.523020</td>\n",
       "      <td>0.766971</td>\n",
       "      <td>0.387804</td>\n",
       "      <td>0.785030</td>\n",
       "      <td>0.300883</td>\n",
       "      <td>0.343521</td>\n",
       "      <td>0.003832</td>\n",
       "    </tr>\n",
       "    <tr>\n",
       "      <th>HR_y</th>\n",
       "      <td>0.256221</td>\n",
       "      <td>0.544427</td>\n",
       "      <td>0.875192</td>\n",
       "      <td>0.523020</td>\n",
       "      <td>1.000000</td>\n",
       "      <td>0.546397</td>\n",
       "      <td>0.358455</td>\n",
       "      <td>0.430598</td>\n",
       "      <td>0.775647</td>\n",
       "      <td>0.782998</td>\n",
       "      <td>0.318496</td>\n",
       "    </tr>\n",
       "    <tr>\n",
       "      <th>IP</th>\n",
       "      <td>0.612138</td>\n",
       "      <td>0.994634</td>\n",
       "      <td>0.679360</td>\n",
       "      <td>0.766971</td>\n",
       "      <td>0.546397</td>\n",
       "      <td>1.000000</td>\n",
       "      <td>0.455137</td>\n",
       "      <td>0.358624</td>\n",
       "      <td>0.603618</td>\n",
       "      <td>0.560337</td>\n",
       "      <td>0.031811</td>\n",
       "    </tr>\n",
       "    <tr>\n",
       "      <th>PAge</th>\n",
       "      <td>0.390851</td>\n",
       "      <td>0.440649</td>\n",
       "      <td>0.445750</td>\n",
       "      <td>0.387804</td>\n",
       "      <td>0.358455</td>\n",
       "      <td>0.455137</td>\n",
       "      <td>1.000000</td>\n",
       "      <td>0.063881</td>\n",
       "      <td>0.290143</td>\n",
       "      <td>0.385665</td>\n",
       "      <td>-0.244377</td>\n",
       "    </tr>\n",
       "    <tr>\n",
       "      <th>R_y</th>\n",
       "      <td>-0.162247</td>\n",
       "      <td>0.412357</td>\n",
       "      <td>0.275896</td>\n",
       "      <td>0.785030</td>\n",
       "      <td>0.430598</td>\n",
       "      <td>0.358624</td>\n",
       "      <td>0.063881</td>\n",
       "      <td>1.000000</td>\n",
       "      <td>0.114587</td>\n",
       "      <td>0.104954</td>\n",
       "      <td>0.280456</td>\n",
       "    </tr>\n",
       "    <tr>\n",
       "      <th>SO_y</th>\n",
       "      <td>0.441019</td>\n",
       "      <td>0.586161</td>\n",
       "      <td>0.838943</td>\n",
       "      <td>0.300883</td>\n",
       "      <td>0.775647</td>\n",
       "      <td>0.603618</td>\n",
       "      <td>0.290143</td>\n",
       "      <td>0.114587</td>\n",
       "      <td>1.000000</td>\n",
       "      <td>0.829975</td>\n",
       "      <td>0.431844</td>\n",
       "    </tr>\n",
       "    <tr>\n",
       "      <th>SV</th>\n",
       "      <td>0.482644</td>\n",
       "      <td>0.536582</td>\n",
       "      <td>0.899402</td>\n",
       "      <td>0.343521</td>\n",
       "      <td>0.782998</td>\n",
       "      <td>0.560337</td>\n",
       "      <td>0.385665</td>\n",
       "      <td>0.104954</td>\n",
       "      <td>0.829975</td>\n",
       "      <td>1.000000</td>\n",
       "      <td>0.278116</td>\n",
       "    </tr>\n",
       "    <tr>\n",
       "      <th>WP</th>\n",
       "      <td>-0.107353</td>\n",
       "      <td>0.048730</td>\n",
       "      <td>0.228254</td>\n",
       "      <td>0.003832</td>\n",
       "      <td>0.318496</td>\n",
       "      <td>0.031811</td>\n",
       "      <td>-0.244377</td>\n",
       "      <td>0.280456</td>\n",
       "      <td>0.431844</td>\n",
       "      <td>0.278116</td>\n",
       "      <td>1.000000</td>\n",
       "    </tr>\n",
       "  </tbody>\n",
       "</table>\n",
       "</div>"
      ],
      "text/plain": [
       "             W       G_y        GF       H_y      HR_y        IP      PAge  \\\n",
       "W     1.000000  0.582832  0.356504  0.240439  0.256221  0.612138  0.390851   \n",
       "G_y   0.582832  1.000000  0.662325  0.793013  0.544427  0.994634  0.440649   \n",
       "GF    0.356504  0.662325  1.000000  0.537719  0.875192  0.679360  0.445750   \n",
       "H_y   0.240439  0.793013  0.537719  1.000000  0.523020  0.766971  0.387804   \n",
       "HR_y  0.256221  0.544427  0.875192  0.523020  1.000000  0.546397  0.358455   \n",
       "IP    0.612138  0.994634  0.679360  0.766971  0.546397  1.000000  0.455137   \n",
       "PAge  0.390851  0.440649  0.445750  0.387804  0.358455  0.455137  1.000000   \n",
       "R_y  -0.162247  0.412357  0.275896  0.785030  0.430598  0.358624  0.063881   \n",
       "SO_y  0.441019  0.586161  0.838943  0.300883  0.775647  0.603618  0.290143   \n",
       "SV    0.482644  0.536582  0.899402  0.343521  0.782998  0.560337  0.385665   \n",
       "WP   -0.107353  0.048730  0.228254  0.003832  0.318496  0.031811 -0.244377   \n",
       "\n",
       "           R_y      SO_y        SV        WP  \n",
       "W    -0.162247  0.441019  0.482644 -0.107353  \n",
       "G_y   0.412357  0.586161  0.536582  0.048730  \n",
       "GF    0.275896  0.838943  0.899402  0.228254  \n",
       "H_y   0.785030  0.300883  0.343521  0.003832  \n",
       "HR_y  0.430598  0.775647  0.782998  0.318496  \n",
       "IP    0.358624  0.603618  0.560337  0.031811  \n",
       "PAge  0.063881  0.290143  0.385665 -0.244377  \n",
       "R_y   1.000000  0.114587  0.104954  0.280456  \n",
       "SO_y  0.114587  1.000000  0.829975  0.431844  \n",
       "SV    0.104954  0.829975  1.000000  0.278116  \n",
       "WP    0.280456  0.431844  0.278116  1.000000  "
      ]
     },
     "execution_count": 25,
     "metadata": {},
     "output_type": "execute_result"
    }
   ],
   "source": [
    "corr"
   ]
  },
  {
   "cell_type": "code",
   "execution_count": 26,
   "metadata": {
    "collapsed": true
   },
   "outputs": [],
   "source": [
    "predictors4 = ['W','R_x','BA','H_x','SV','ERA']"
   ]
  },
  {
   "cell_type": "code",
   "execution_count": 27,
   "metadata": {},
   "outputs": [
    {
     "data": {
      "text/plain": [
       "<matplotlib.axes._subplots.AxesSubplot at 0x11dfcb198>"
      ]
     },
     "execution_count": 27,
     "metadata": {},
     "output_type": "execute_result"
    },
    {
     "data": {
      "image/png": "[encoded data removed]",
      "text/plain": [
       "<matplotlib.figure.Figure at 0x11e19eeb8>"
      ]
     },
     "metadata": {},
     "output_type": "display_data"
    }
   ],
   "source": [
    "df_4 = df[predictors4]\n",
    "\n",
    "%matplotlib inline\n",
    "corr = df_4.corr()\n",
    "plt.figure(figsize = [9,6])\n",
    "sns.heatmap(corr,cmap= sns.diverging_palette(220,320, n=15),\n",
    "            xticklabels=corr.columns.values,\n",
    "            yticklabels=corr.columns.values)\n"
   ]
  },
  {
   "cell_type": "code",
   "execution_count": 28,
   "metadata": {},
   "outputs": [
    {
     "data": {
      "text/html": [
       "<div>\n",
       "<style>\n",
       "    .dataframe thead tr:only-child th {\n",
       "        text-align: right;\n",
       "    }\n",
       "\n",
       "    .dataframe thead th {\n",
       "        text-align: left;\n",
       "    }\n",
       "\n",
       "    .dataframe tbody tr th {\n",
       "        vertical-align: top;\n",
       "    }\n",
       "</style>\n",
       "<table border=\"1\" class=\"dataframe\">\n",
       "  <thead>\n",
       "    <tr style=\"text-align: right;\">\n",
       "      <th></th>\n",
       "      <th>W</th>\n",
       "      <th>R_x</th>\n",
       "      <th>BA</th>\n",
       "      <th>H_x</th>\n",
       "      <th>SV</th>\n",
       "      <th>ERA</th>\n",
       "    </tr>\n",
       "  </thead>\n",
       "  <tbody>\n",
       "    <tr>\n",
       "      <th>count</th>\n",
       "      <td>2815.000000</td>\n",
       "      <td>2815.000000</td>\n",
       "      <td>2815.000000</td>\n",
       "      <td>2815.000000</td>\n",
       "      <td>2815.000000</td>\n",
       "      <td>2815.000000</td>\n",
       "    </tr>\n",
       "    <tr>\n",
       "      <th>mean</th>\n",
       "      <td>75.858970</td>\n",
       "      <td>687.988277</td>\n",
       "      <td>0.261003</td>\n",
       "      <td>1361.430906</td>\n",
       "      <td>24.499822</td>\n",
       "      <td>3.819663</td>\n",
       "    </tr>\n",
       "    <tr>\n",
       "      <th>std</th>\n",
       "      <td>16.007805</td>\n",
       "      <td>124.826282</td>\n",
       "      <td>0.017170</td>\n",
       "      <td>183.360852</td>\n",
       "      <td>16.181625</td>\n",
       "      <td>0.737716</td>\n",
       "    </tr>\n",
       "    <tr>\n",
       "      <th>min</th>\n",
       "      <td>2.000000</td>\n",
       "      <td>24.000000</td>\n",
       "      <td>0.175000</td>\n",
       "      <td>49.000000</td>\n",
       "      <td>0.000000</td>\n",
       "      <td>1.220000</td>\n",
       "    </tr>\n",
       "    <tr>\n",
       "      <th>25%</th>\n",
       "      <td>67.000000</td>\n",
       "      <td>618.000000</td>\n",
       "      <td>0.250000</td>\n",
       "      <td>1308.000000</td>\n",
       "      <td>10.000000</td>\n",
       "      <td>3.360000</td>\n",
       "    </tr>\n",
       "    <tr>\n",
       "      <th>50%</th>\n",
       "      <td>77.000000</td>\n",
       "      <td>691.000000</td>\n",
       "      <td>0.260000</td>\n",
       "      <td>1395.000000</td>\n",
       "      <td>25.000000</td>\n",
       "      <td>3.820000</td>\n",
       "    </tr>\n",
       "    <tr>\n",
       "      <th>75%</th>\n",
       "      <td>87.000000</td>\n",
       "      <td>763.000000</td>\n",
       "      <td>0.271000</td>\n",
       "      <td>1465.500000</td>\n",
       "      <td>38.000000</td>\n",
       "      <td>4.295000</td>\n",
       "    </tr>\n",
       "    <tr>\n",
       "      <th>max</th>\n",
       "      <td>116.000000</td>\n",
       "      <td>1220.000000</td>\n",
       "      <td>0.350000</td>\n",
       "      <td>1783.000000</td>\n",
       "      <td>68.000000</td>\n",
       "      <td>6.710000</td>\n",
       "    </tr>\n",
       "  </tbody>\n",
       "</table>\n",
       "</div>"
      ],
      "text/plain": [
       "                 W          R_x           BA          H_x           SV  \\\n",
       "count  2815.000000  2815.000000  2815.000000  2815.000000  2815.000000   \n",
       "mean     75.858970   687.988277     0.261003  1361.430906    24.499822   \n",
       "std      16.007805   124.826282     0.017170   183.360852    16.181625   \n",
       "min       2.000000    24.000000     0.175000    49.000000     0.000000   \n",
       "25%      67.000000   618.000000     0.250000  1308.000000    10.000000   \n",
       "50%      77.000000   691.000000     0.260000  1395.000000    25.000000   \n",
       "75%      87.000000   763.000000     0.271000  1465.500000    38.000000   \n",
       "max     116.000000  1220.000000     0.350000  1783.000000    68.000000   \n",
       "\n",
       "               ERA  \n",
       "count  2815.000000  \n",
       "mean      3.819663  \n",
       "std       0.737716  \n",
       "min       1.220000  \n",
       "25%       3.360000  \n",
       "50%       3.820000  \n",
       "75%       4.295000  \n",
       "max       6.710000  "
      ]
     },
     "execution_count": 28,
     "metadata": {},
     "output_type": "execute_result"
    }
   ],
   "source": [
    "df_4.describe()"
   ]
  },
  {
   "cell_type": "code",
   "execution_count": 29,
   "metadata": {},
   "outputs": [
    {
     "data": {
      "text/html": [
       "<div>\n",
       "<style>\n",
       "    .dataframe thead tr:only-child th {\n",
       "        text-align: right;\n",
       "    }\n",
       "\n",
       "    .dataframe thead th {\n",
       "        text-align: left;\n",
       "    }\n",
       "\n",
       "    .dataframe tbody tr th {\n",
       "        vertical-align: top;\n",
       "    }\n",
       "</style>\n",
       "<table border=\"1\" class=\"dataframe\">\n",
       "  <thead>\n",
       "    <tr style=\"text-align: right;\">\n",
       "      <th></th>\n",
       "      <th>W</th>\n",
       "      <th>R_x</th>\n",
       "      <th>BA</th>\n",
       "      <th>H_x</th>\n",
       "      <th>SV</th>\n",
       "      <th>ERA</th>\n",
       "    </tr>\n",
       "  </thead>\n",
       "  <tbody>\n",
       "    <tr>\n",
       "      <th>W</th>\n",
       "      <td>1.000000</td>\n",
       "      <td>0.626056</td>\n",
       "      <td>0.353061</td>\n",
       "      <td>0.649828</td>\n",
       "      <td>0.482644</td>\n",
       "      <td>-0.242158</td>\n",
       "    </tr>\n",
       "    <tr>\n",
       "      <th>R_x</th>\n",
       "      <td>0.626056</td>\n",
       "      <td>1.000000</td>\n",
       "      <td>0.703117</td>\n",
       "      <td>0.771996</td>\n",
       "      <td>0.261525</td>\n",
       "      <td>0.366013</td>\n",
       "    </tr>\n",
       "    <tr>\n",
       "      <th>BA</th>\n",
       "      <td>0.353061</td>\n",
       "      <td>0.703117</td>\n",
       "      <td>1.000000</td>\n",
       "      <td>0.599693</td>\n",
       "      <td>-0.039140</td>\n",
       "      <td>0.262993</td>\n",
       "    </tr>\n",
       "    <tr>\n",
       "      <th>H_x</th>\n",
       "      <td>0.649828</td>\n",
       "      <td>0.771996</td>\n",
       "      <td>0.599693</td>\n",
       "      <td>1.000000</td>\n",
       "      <td>0.424374</td>\n",
       "      <td>0.387276</td>\n",
       "    </tr>\n",
       "    <tr>\n",
       "      <th>SV</th>\n",
       "      <td>0.482644</td>\n",
       "      <td>0.261525</td>\n",
       "      <td>-0.039140</td>\n",
       "      <td>0.424374</td>\n",
       "      <td>1.000000</td>\n",
       "      <td>0.245143</td>\n",
       "    </tr>\n",
       "    <tr>\n",
       "      <th>ERA</th>\n",
       "      <td>-0.242158</td>\n",
       "      <td>0.366013</td>\n",
       "      <td>0.262993</td>\n",
       "      <td>0.387276</td>\n",
       "      <td>0.245143</td>\n",
       "      <td>1.000000</td>\n",
       "    </tr>\n",
       "  </tbody>\n",
       "</table>\n",
       "</div>"
      ],
      "text/plain": [
       "            W       R_x        BA       H_x        SV       ERA\n",
       "W    1.000000  0.626056  0.353061  0.649828  0.482644 -0.242158\n",
       "R_x  0.626056  1.000000  0.703117  0.771996  0.261525  0.366013\n",
       "BA   0.353061  0.703117  1.000000  0.599693 -0.039140  0.262993\n",
       "H_x  0.649828  0.771996  0.599693  1.000000  0.424374  0.387276\n",
       "SV   0.482644  0.261525 -0.039140  0.424374  1.000000  0.245143\n",
       "ERA -0.242158  0.366013  0.262993  0.387276  0.245143  1.000000"
      ]
     },
     "execution_count": 29,
     "metadata": {},
     "output_type": "execute_result"
    }
   ],
   "source": [
    "corr"
   ]
  },
  {
   "cell_type": "code",
   "execution_count": 30,
   "metadata": {},
   "outputs": [
    {
     "data": {
      "text/plain": [
       "Index(['Tm', '#Bat', 'BatAge', 'R/G', 'G_x', 'PA', 'AB', 'R_x', 'H_x', '2B',\n",
       "       '3B', 'HR_x', 'RBI', 'SB', 'CS', 'BB_x', 'SO_x', 'BA', 'OBP', 'SLG',\n",
       "       'OPS', 'OPS+', 'TB', 'GDP', 'HBP_x', 'SH', 'SF', 'IBB_x', 'LOB_x',\n",
       "       'Year', '#P', 'BB_y', 'BB9', 'BF', 'BK', 'CG', 'ER', 'ERA', 'ERA+',\n",
       "       'FIP', 'G_y', 'GF', 'GS', 'H_y', 'H9', 'HBP_y', 'HR_y', 'HR9', 'IBB_y',\n",
       "       'IP', 'L', 'LOB_y', 'PAge', 'R_y', 'RA/G', 'SO_y', 'SO/W', 'SO9', 'SV',\n",
       "       'W', 'W-L%', 'WHIP', 'WP', 'cSho', 'tSho'],\n",
       "      dtype='object')"
      ]
     },
     "execution_count": 30,
     "metadata": {},
     "output_type": "execute_result"
    }
   ],
   "source": [
    "df.columns"
   ]
  },
  {
   "cell_type": "markdown",
   "metadata": {},
   "source": [
    "## Determine which team had the most wins in a single season."
   ]
  },
  {
   "cell_type": "code",
   "execution_count": 31,
   "metadata": {},
   "outputs": [
    {
     "data": {
      "text/html": [
       "<div>\n",
       "<style>\n",
       "    .dataframe thead tr:only-child th {\n",
       "        text-align: right;\n",
       "    }\n",
       "\n",
       "    .dataframe thead th {\n",
       "        text-align: left;\n",
       "    }\n",
       "\n",
       "    .dataframe tbody tr th {\n",
       "        vertical-align: top;\n",
       "    }\n",
       "</style>\n",
       "<table border=\"1\" class=\"dataframe\">\n",
       "  <thead>\n",
       "    <tr style=\"text-align: right;\">\n",
       "      <th></th>\n",
       "      <th>Tm</th>\n",
       "      <th>W</th>\n",
       "    </tr>\n",
       "  </thead>\n",
       "  <tbody>\n",
       "    <tr>\n",
       "      <th>2299</th>\n",
       "      <td>SEA</td>\n",
       "      <td>116</td>\n",
       "    </tr>\n",
       "    <tr>\n",
       "      <th>416</th>\n",
       "      <td>CHC</td>\n",
       "      <td>115</td>\n",
       "    </tr>\n",
       "    <tr>\n",
       "      <th>2234</th>\n",
       "      <td>NYY</td>\n",
       "      <td>114</td>\n",
       "    </tr>\n",
       "    <tr>\n",
       "      <th>1203</th>\n",
       "      <td>CLE</td>\n",
       "      <td>111</td>\n",
       "    </tr>\n",
       "    <tr>\n",
       "      <th>473</th>\n",
       "      <td>PIT</td>\n",
       "      <td>110</td>\n",
       "    </tr>\n",
       "    <tr>\n",
       "      <th>774</th>\n",
       "      <td>NYY</td>\n",
       "      <td>110</td>\n",
       "    </tr>\n",
       "    <tr>\n",
       "      <th>1468</th>\n",
       "      <td>BAL</td>\n",
       "      <td>109</td>\n",
       "    </tr>\n",
       "    <tr>\n",
       "      <th>1321</th>\n",
       "      <td>NYY</td>\n",
       "      <td>109</td>\n",
       "    </tr>\n",
       "    <tr>\n",
       "      <th>1617</th>\n",
       "      <td>CIN</td>\n",
       "      <td>108</td>\n",
       "    </tr>\n",
       "    <tr>\n",
       "      <th>1908</th>\n",
       "      <td>NYM</td>\n",
       "      <td>108</td>\n",
       "    </tr>\n",
       "    <tr>\n",
       "      <th>1492</th>\n",
       "      <td>BAL</td>\n",
       "      <td>108</td>\n",
       "    </tr>\n",
       "    <tr>\n",
       "      <th>2788</th>\n",
       "      <td>BOS</td>\n",
       "      <td>108</td>\n",
       "    </tr>\n",
       "    <tr>\n",
       "      <th>854</th>\n",
       "      <td>NYY</td>\n",
       "      <td>107</td>\n",
       "    </tr>\n",
       "    <tr>\n",
       "      <th>839</th>\n",
       "      <td>PHA</td>\n",
       "      <td>107</td>\n",
       "    </tr>\n",
       "    <tr>\n",
       "      <th>432</th>\n",
       "      <td>CHC</td>\n",
       "      <td>107</td>\n",
       "    </tr>\n",
       "    <tr>\n",
       "      <th>389</th>\n",
       "      <td>NYG</td>\n",
       "      <td>106</td>\n",
       "    </tr>\n",
       "    <tr>\n",
       "      <th>2217</th>\n",
       "      <td>ATL</td>\n",
       "      <td>106</td>\n",
       "    </tr>\n",
       "    <tr>\n",
       "      <th>1019</th>\n",
       "      <td>STL</td>\n",
       "      <td>106</td>\n",
       "    </tr>\n",
       "    <tr>\n",
       "      <th>966</th>\n",
       "      <td>NYY</td>\n",
       "      <td>106</td>\n",
       "    </tr>\n",
       "    <tr>\n",
       "      <th>1051</th>\n",
       "      <td>STL</td>\n",
       "      <td>105</td>\n",
       "    </tr>\n",
       "  </tbody>\n",
       "</table>\n",
       "</div>"
      ],
      "text/plain": [
       "       Tm    W\n",
       "2299  SEA  116\n",
       "416   CHC  115\n",
       "2234  NYY  114\n",
       "1203  CLE  111\n",
       "473   PIT  110\n",
       "774   NYY  110\n",
       "1468  BAL  109\n",
       "1321  NYY  109\n",
       "1617  CIN  108\n",
       "1908  NYM  108\n",
       "1492  BAL  108\n",
       "2788  BOS  108\n",
       "854   NYY  107\n",
       "839   PHA  107\n",
       "432   CHC  107\n",
       "389   NYG  106\n",
       "2217  ATL  106\n",
       "1019  STL  106\n",
       "966   NYY  106\n",
       "1051  STL  105"
      ]
     },
     "execution_count": 31,
     "metadata": {},
     "output_type": "execute_result"
    }
   ],
   "source": [
    "#df.groupby(['Tm'])['W'].apply(np.sort()).head(10)\n",
    "df.sort_values(['W'],ascending=False)[['Tm','W']].head(20)"
   ]
  },
  {
   "cell_type": "markdown",
   "metadata": {},
   "source": [
    "## Seatle Mariners had 116 wins in 2001 season,tying the major league record for wins set by the Chicago Cubs in 1906, and setting the record for wins by an American League team. But, why does CHC, the Chicago Cubs, shows a total of 115 wins instead of 116?"
   ]
  },
  {
   "cell_type": "markdown",
   "metadata": {},
   "source": [
    "## Determine which baseball team had the most wins from 1876-2018."
   ]
  },
  {
   "cell_type": "code",
   "execution_count": 32,
   "metadata": {},
   "outputs": [
    {
     "data": {
      "text/plain": [
       "Tm\n",
       "CHC    10832\n",
       "STL    10800\n",
       "CIN    10564\n",
       "PIT    10403\n",
       "NYY    10187\n",
       "PHI     9674\n",
       "BOS     9662\n",
       "CLE     9438\n",
       "DET     9218\n",
       "CHW     9116\n",
       "Name: W, dtype: int64"
      ]
     },
     "execution_count": 32,
     "metadata": {},
     "output_type": "execute_result"
    }
   ],
   "source": [
    "# Top 10 teams in MLB by number of wins from 1876-2018!\n",
    "df.groupby(['Tm'])['W'].sum().sort_values(ascending=False).head(10)"
   ]
  },
  {
   "cell_type": "code",
   "execution_count": 33,
   "metadata": {},
   "outputs": [
    {
     "data": {
      "text/plain": [
       "<matplotlib.text.Text at 0x11e99f080>"
      ]
     },
     "execution_count": 33,
     "metadata": {},
     "output_type": "execute_result"
    },
    {
     "data": {
      "image/png": "[encoded data removed]",
      "text/plain": [
       "<matplotlib.figure.Figure at 0x11e73df60>"
      ]
     },
     "metadata": {},
     "output_type": "display_data"
    }
   ],
   "source": [
    "Top_10_Wins = df.groupby(['Tm'])['W'].sum().sort_values(ascending=False).head(10)\n",
    "Team_Win_Names = Top_10_Wins.index.values\n",
    "W_Top10 =  Top_10_Wins.values\n",
    "#plt.bar(Team_Names, BA_Top10)\n",
    "#sns.barplot(x =Team_Names, y = BA_Top10 )\n",
    "fig, ax = plt.subplots(figsize=(9, 6))\n",
    "sns.barplot(x = W_Top10,y = Team_Win_Names)\n",
    "plt.ylabel('Teams',fontsize=18)\n",
    "plt.xlabel('Wins',fontsize=18)\n",
    "plt.title('Top 10 Teams: Wins 1876-2018',fontsize=20)"
   ]
  },
  {
   "cell_type": "markdown",
   "metadata": {},
   "source": [
    "## Chicago Cubs (CHC) has the most wins of any team for all MLB seasons from 1876-2018. So, why are they known as the 'lovable losers'??"
   ]
  },
  {
   "cell_type": "markdown",
   "metadata": {},
   "source": [
    "## Determine the teams with the best batting averages and ERA scores in MLB from 1876-2018."
   ]
  },
  {
   "cell_type": "code",
   "execution_count": 34,
   "metadata": {
    "collapsed": true
   },
   "outputs": [],
   "source": [
    "# Top 10 teams in MLB by team batting average from 1876-2018!\n",
    "df.groupby(['Tm'])['BA'].mean().sort_values(ascending=False).head(10)\n",
    "Top_10_BA = df.groupby(['Tm'])['BA'].mean().sort_values(ascending=False).head(10)"
   ]
  },
  {
   "cell_type": "code",
   "execution_count": 35,
   "metadata": {},
   "outputs": [
    {
     "data": {
      "text/plain": [
       "Tm\n",
       "BLN    0.306000\n",
       "BLA    0.285500\n",
       "NYI    0.284000\n",
       "PHQ    0.278000\n",
       "BWW    0.277000\n",
       "ATH    0.271000\n",
       "COR    0.271000\n",
       "NYG    0.270880\n",
       "ANA    0.270429\n",
       "COL    0.269200\n",
       "Name: BA, dtype: float64"
      ]
     },
     "execution_count": 35,
     "metadata": {},
     "output_type": "execute_result"
    }
   ],
   "source": [
    "Top_10_BA"
   ]
  },
  {
   "cell_type": "code",
   "execution_count": 36,
   "metadata": {},
   "outputs": [
    {
     "data": {
      "text/plain": [
       "array(['BLN', 'BLA', 'NYI', 'PHQ', 'BWW', 'ATH', 'COR', 'NYG', 'ANA', 'COL'], dtype=object)"
      ]
     },
     "execution_count": 36,
     "metadata": {},
     "output_type": "execute_result"
    }
   ],
   "source": [
    "Team_Names = Top_10_BA.index.values\n",
    "Team_Names"
   ]
  },
  {
   "cell_type": "code",
   "execution_count": 37,
   "metadata": {},
   "outputs": [
    {
     "data": {
      "text/plain": [
       "<matplotlib.text.Text at 0x11eb78ac8>"
      ]
     },
     "execution_count": 37,
     "metadata": {},
     "output_type": "execute_result"
    },
    {
     "data": {
      "image/png": "[encoded data removed]",
      "text/plain": [
       "<matplotlib.figure.Figure at 0x11e9ba748>"
      ]
     },
     "metadata": {},
     "output_type": "display_data"
    }
   ],
   "source": [
    "Team_Names = Top_10_BA.index.values\n",
    "BA_Top10 =  Top_10_BA.values\n",
    "#plt.bar(Team_Names, BA_Top10)\n",
    "#sns.barplot(x =Team_Names, y = BA_Top10 )\n",
    "fig, ax = plt.subplots(figsize=(9, 6))\n",
    "sns.barplot(x = BA_Top10,y = Team_Names)\n",
    "plt.ylabel('Teams',fontsize=18)\n",
    "plt.xlabel('Batting Average',fontsize=18)\n",
    "plt.title('Top 10 Team Batting Averages',fontsize=20)"
   ]
  },
  {
   "cell_type": "markdown",
   "metadata": {},
   "source": [
    "## BLN, the original Baltimore Orioles have #1 Team Batting Average & BLA, the second Baltimore Orioles have the #2 Team Batting Average"
   ]
  },
  {
   "cell_type": "code",
   "execution_count": 38,
   "metadata": {},
   "outputs": [
    {
     "data": {
      "text/plain": [
       "Tm\n",
       "WIL    0.175000\n",
       "STP    0.180000\n",
       "BRG    0.221000\n",
       "RIC    0.222000\n",
       "KCC    0.223667\n",
       "WAS    0.225500\n",
       "NYU    0.227000\n",
       "KCN    0.228000\n",
       "CPI    0.231000\n",
       "CKK    0.234000\n",
       "Name: BA, dtype: float64"
      ]
     },
     "execution_count": 38,
     "metadata": {},
     "output_type": "execute_result"
    }
   ],
   "source": [
    "#  10 teams with lowest batting average in MLB from 1876-2018!\n",
    "df.groupby(['Tm'])['BA'].mean().sort_values().head(10)"
   ]
  },
  {
   "cell_type": "code",
   "execution_count": 39,
   "metadata": {},
   "outputs": [
    {
     "data": {
      "text/plain": [
       "Tm\n",
       "ALT    0.248000\n",
       "ANA    0.270429\n",
       "ARI    0.256500\n",
       "ATH    0.271000\n",
       "ATL    0.256808\n",
       "BAL    0.253513\n",
       "BLA    0.285500\n",
       "BLN    0.306000\n",
       "BLU    0.245000\n",
       "BOS    0.266908\n",
       "BRG    0.221000\n",
       "BRO    0.265216\n",
       "BSN    0.261714\n",
       "BTT    0.268500\n",
       "BUF    0.257200\n",
       "BWW    0.277000\n",
       "CAL    0.252750\n",
       "CHC    0.263373\n",
       "CHI    0.259667\n",
       "CHW    0.260085\n",
       "CIN    0.261142\n",
       "CKK    0.234000\n",
       "CLE    0.265233\n",
       "CLV    0.262059\n",
       "COL    0.269200\n",
       "COR    0.271000\n",
       "CPI    0.231000\n",
       "DET    0.265179\n",
       "DTN    0.254125\n",
       "FLA    0.260222\n",
       "         ...   \n",
       "PHA    0.264469\n",
       "PHI    0.260659\n",
       "PHK    0.245000\n",
       "PHQ    0.278000\n",
       "PIT    0.263875\n",
       "PRO    0.255375\n",
       "RIC    0.222000\n",
       "ROC    0.239000\n",
       "SDP    0.249694\n",
       "SEA    0.259976\n",
       "SEP    0.234000\n",
       "SFG    0.255250\n",
       "SLB    0.260808\n",
       "SLM    0.251400\n",
       "STL    0.265761\n",
       "STP    0.180000\n",
       "SYR    0.243000\n",
       "TBD    0.262889\n",
       "TBR    0.250545\n",
       "TEX    0.264826\n",
       "TOL    0.241500\n",
       "TOR    0.260341\n",
       "TRO    0.245000\n",
       "WAS    0.225500\n",
       "WHS    0.257769\n",
       "WIL    0.175000\n",
       "WOR    0.238333\n",
       "WSA    0.234545\n",
       "WSH    0.261383\n",
       "WSN    0.254500\n",
       "Name: BA, Length: 88, dtype: float64"
      ]
     },
     "execution_count": 39,
     "metadata": {},
     "output_type": "execute_result"
    }
   ],
   "source": [
    "df.groupby(['Tm'])['BA'].mean()"
   ]
  },
  {
   "cell_type": "code",
   "execution_count": 40,
   "metadata": {},
   "outputs": [
    {
     "data": {
      "text/plain": [
       "Tm\n",
       "HAR    1.995000\n",
       "PRO    2.195000\n",
       "COR    2.380000\n",
       "NEW    2.600000\n",
       "MLG    2.600000\n",
       "CPI    2.720000\n",
       "CHI    2.823333\n",
       "TRO    2.895000\n",
       "NYU    2.940000\n",
       "SLM    2.978000\n",
       "Name: ERA, dtype: float64"
      ]
     },
     "execution_count": 40,
     "metadata": {},
     "output_type": "execute_result"
    }
   ],
   "source": [
    "#  10 teams with lowest earned runs average in MLB from 1876-2018!\n",
    "df.groupby(['Tm'])['ERA'].mean().sort_values().head(10)"
   ]
  },
  {
   "cell_type": "markdown",
   "metadata": {},
   "source": [
    "## Earned Run Average (ERA) Through The Years 1876-2018"
   ]
  },
  {
   "cell_type": "code",
   "execution_count": 41,
   "metadata": {},
   "outputs": [
    {
     "data": {
      "text/plain": [
       "<matplotlib.text.Text at 0x11ed4c550>"
      ]
     },
     "execution_count": 41,
     "metadata": {},
     "output_type": "execute_result"
    },
    {
     "data": {
      "image/png": "[encoded data removed]",
      "text/plain": [
       "<matplotlib.figure.Figure at 0x11ebc7b38>"
      ]
     },
     "metadata": {},
     "output_type": "display_data"
    }
   ],
   "source": [
    "fig, ax = plt.subplots(figsize=(9, 6))\n",
    "df.groupby(['Year'])['ERA'].mean().plot()\n",
    "plt.xlabel('Year',fontsize=18)\n",
    "plt.ylabel('Earned Run Averag: ERA',fontsize=18)\n",
    "plt.title('ERA Through The Years: 1876-2018',fontsize=20)"
   ]
  },
  {
   "cell_type": "markdown",
   "metadata": {},
   "source": [
    "## Batting Average Through The Years"
   ]
  },
  {
   "cell_type": "code",
   "execution_count": 42,
   "metadata": {},
   "outputs": [
    {
     "data": {
      "text/plain": [
       "<matplotlib.text.Text at 0x11edeefd0>"
      ]
     },
     "execution_count": 42,
     "metadata": {},
     "output_type": "execute_result"
    },
    {
     "data": {
      "image/png": "[encoded data removed]",
      "text/plain": [
       "<matplotlib.figure.Figure at 0x11eda7048>"
      ]
     },
     "metadata": {},
     "output_type": "display_data"
    }
   ],
   "source": [
    "fig, ax = plt.subplots(figsize=(9, 6))\n",
    "df.groupby(['Year'])['BA'].mean().plot()\n",
    "#df.groupby(['Year'])['ERA'].mean().plot()\n",
    "plt.xlabel('Year',fontsize=18)\n",
    "plt.ylabel('Team Batting Average',fontsize=18)\n",
    "plt.title('Batting Average Through The Years: 1876-2018',fontsize=20)"
   ]
  },
  {
   "cell_type": "markdown",
   "metadata": {},
   "source": [
    "## Team batting average was highest prior to 1900. In the modern era, it appears that in the late '60s or early '70s was a lowpoint for team batting based on the above graph."
   ]
  },
  {
   "cell_type": "markdown",
   "metadata": {},
   "source": [
    "## Interesting when ERA is at a low around 1910, batting average is also low. When batting average is at an all-time high circa 1890, ERA is also high. "
   ]
  },
  {
   "cell_type": "code",
   "execution_count": 43,
   "metadata": {},
   "outputs": [
    {
     "data": {
      "text/plain": [
       "<matplotlib.text.Text at 0x11f0452b0>"
      ]
     },
     "execution_count": 43,
     "metadata": {},
     "output_type": "execute_result"
    },
    {
     "data": {
      "image/png": "[encoded data removed]",
      "text/plain": [
       "<matplotlib.figure.Figure at 0x11ef1ee48>"
      ]
     },
     "metadata": {},
     "output_type": "display_data"
    }
   ],
   "source": [
    "fig, ax = plt.subplots(figsize=(9, 6))\n",
    "df.groupby(['Year'])['ERA+'].mean().plot()\n",
    "plt.xlabel('Year')\n",
    "plt.ylabel('Earned Run Average Plus: ERA+')\n",
    "plt.title('ERA+ Through The Years: 1876-2018')"
   ]
  },
  {
   "cell_type": "code",
   "execution_count": 44,
   "metadata": {},
   "outputs": [
    {
     "data": {
      "text/plain": [
       "<matplotlib.text.Text at 0x11f0d5860>"
      ]
     },
     "execution_count": 44,
     "metadata": {},
     "output_type": "execute_result"
    },
    {
     "data": {
      "image/png": "[encoded data removed]",
      "text/plain": [
       "<matplotlib.figure.Figure at 0x11f086e80>"
      ]
     },
     "metadata": {},
     "output_type": "display_data"
    }
   ],
   "source": [
    "fig, ax = plt.subplots(figsize=(9, 6))\n",
    "df.groupby(['Year'])['W'].mean().plot()\n",
    "#df.groupby(['Year'])['W'].sum().plot()\n",
    "plt.xlabel('Year',fontsize=18)\n",
    "plt.ylabel('Wins',fontsize=18)\n",
    "plt.title('Average Team Wins Per Year Through The Years: 1876-2018',fontsize=20)"
   ]
  },
  {
   "cell_type": "markdown",
   "metadata": {},
   "source": [
    "## The Deadball & Liveball Eras: Is There A Difference In Batting Averages?"
   ]
  },
  {
   "cell_type": "markdown",
   "metadata": {},
   "source": [
    "## The live-ball era, also referred to as the lively ball era, is the period in Major League Baseball beginning in 1920. Prior to the rule changes in 1920, the dead-ball era, the same ball would often be used throughout an entire game, only being replaced if it began to unravel. Before 1920, the same ball would often be used throughout an entire game, only being replaced if it began to unravel.During the dead-ball era, pitchers were also allowed to deface or scuff the ball, apply foreign substances to it. The dead-ball era came to an end after the fatal beaning of Cleveland Indians player Ray Chapman during the 1920 season. As a result, the rules were changed. Starting in 1920, balls were replaced at the first sign of wear, resulting in a ball that was much brighter and easier for a hitter to see. Additionally, pitchers were no longer allowed to deface, scuff, or apply foreign substances to the ball. Note: information was taken from Wikipedia."
   ]
  },
  {
   "cell_type": "code",
   "execution_count": 45,
   "metadata": {
    "collapsed": true
   },
   "outputs": [],
   "source": [
    "# Note 1920 was the year that rules changed regarding the usage of a ball during a baseball game\n",
    "mask_dead = df['Year'] < 1920\n",
    "mask_live = df['Year'] >= 1920"
   ]
  },
  {
   "cell_type": "code",
   "execution_count": 46,
   "metadata": {},
   "outputs": [
    {
     "name": "stdout",
     "output_type": "stream",
     "text": [
      "\n",
      "Team Batting Average During the Dead Ball Era, pre-1920:\n",
      "0.25790811638591127\n",
      "\n",
      "Team Batting Average During the Live Ball Era, 1920-2018:\n",
      "0.26193802035152575\n",
      "\n",
      "The observed difference in Team Batting Averages Between the Live Ball Era & the Dead Ball Era\n",
      "0.004029903965614479\n",
      "\n"
     ]
    }
   ],
   "source": [
    "dead_BA = df[mask_dead].BA.mean()\n",
    "live_BA = df[mask_live].BA.mean()\n",
    "print()\n",
    "print('Team Batting Average During the Dead Ball Era, pre-1920:')\n",
    "print(dead_BA)\n",
    "print()\n",
    "print('Team Batting Average During the Live Ball Era, 1920-2018:')\n",
    "print(live_BA)\n",
    "print()\n",
    "print('The observed difference in Team Batting Averages Between the Live Ball Era & the Dead Ball Era')\n",
    "print(live_BA - dead_BA)\n",
    "print()"
   ]
  },
  {
   "cell_type": "markdown",
   "metadata": {
    "collapsed": true
   },
   "source": [
    "# Permutation Sample Approach"
   ]
  },
  {
   "cell_type": "markdown",
   "metadata": {},
   "source": [
    "## The Null Hypothesis: There is no difference in team batting averages from the Liveball & Deadball Eras. The Alternate Hypothesis: There is a difference in team batting averages from the two eras, most likely due to the rule changes which made it easier for hitters to see the ball."
   ]
  },
  {
   "cell_type": "code",
   "execution_count": 47,
   "metadata": {},
   "outputs": [
    {
     "name": "stdout",
     "output_type": "stream",
     "text": [
      "653\n",
      "2162\n",
      "2815\n"
     ]
    }
   ],
   "source": [
    "# determine the number of observations in the dead era and the live era.\n",
    "print(len(df[mask_dead].BA))\n",
    "print(len(df[mask_live].BA))\n",
    "print(df.shape[0])\n",
    "\n",
    "len_dead = len(df[mask_dead].BA)\n",
    "len_live = len(df[mask_live].BA)"
   ]
  },
  {
   "cell_type": "code",
   "execution_count": 48,
   "metadata": {
    "collapsed": true
   },
   "outputs": [],
   "source": [
    "# batting average for all seasons from 1876-2018\n",
    "data_BA = df.BA\n",
    "#Observed difference in mean batting averages between live & dead eras\n",
    "empirical_BA_diff = live_BA - dead_BA\n",
    "# permute the Batting Average data\n",
    "permuted_data = np.random.permutation(data_BA)\n",
    "# draw 2 permuted samples of appropriate length of batting average data.\n",
    "perm_sample_dead = permuted_data[0:len_dead]\n",
    "perm_sample_live = permuted_data[len_dead:]"
   ]
  },
  {
   "cell_type": "code",
   "execution_count": 49,
   "metadata": {
    "collapsed": true
   },
   "outputs": [],
   "source": [
    "# Initialize array of replicates: perm_replicates\n",
    "size = 10000\n",
    "perm_replicates = np.empty(size)\n",
    "# permutation replicates\n",
    "for i in range(size):\n",
    "   # Generate permutation sample\n",
    "    permuted_data = np.random.permutation(data_BA)\n",
    "    perm_sample_dead = permuted_data[0:len_dead]\n",
    "    perm_sample_live = permuted_data[len_dead:]\n",
    "    perm_replicates[i] = np.mean(perm_sample_dead)- np.mean(perm_sample_live)"
   ]
  },
  {
   "cell_type": "code",
   "execution_count": 50,
   "metadata": {},
   "outputs": [
    {
     "data": {
      "text/plain": [
       "<matplotlib.text.Text at 0x11f0a2cc0>"
      ]
     },
     "execution_count": 50,
     "metadata": {},
     "output_type": "execute_result"
    },
    {
     "data": {
      "image/png": "[encoded data removed]",
      "text/plain": [
       "<matplotlib.figure.Figure at 0x11ef34c88>"
      ]
     },
     "metadata": {},
     "output_type": "display_data"
    }
   ],
   "source": [
    "fig, ax = plt.subplots(figsize=(9, 6))\n",
    "for axis in ['top','bottom','left','right']:\n",
    "    ax.spines[axis].set_linewidth(2.5)\n",
    "# plot distribution of permutation sample replicates    \n",
    "sns.distplot(perm_replicates)\n",
    "# plot the observed difference in batting averages for the two eras as a red vertical line\n",
    "plt.axvline(x=empirical_BA_diff,color ='red')\n",
    "plt.title('Permutation Replicates of Mean Difference of Batting Average Between Dead & Live Eras')"
   ]
  },
  {
   "cell_type": "markdown",
   "metadata": {},
   "source": [
    "## Based on the Permutation Sample analysis, the difference in batting averages between the 'Dead Ball' & 'Live Ball' eras is statistically significant."
   ]
  },
  {
   "cell_type": "code",
   "execution_count": 51,
   "metadata": {
    "collapsed": true
   },
   "outputs": [],
   "source": [
    "################################################################################"
   ]
  },
  {
   "cell_type": "code",
   "execution_count": null,
   "metadata": {
    "collapsed": true
   },
   "outputs": [],
   "source": []
  }
 ],
 "metadata": {
  "kernelspec": {
   "display_name": "Python [default]",
   "language": "python",
   "name": "python3"
  },
  "language_info": {
   "codemirror_mode": {
    "name": "ipython",
    "version": 3
   },
   "file_extension": ".py",
   "mimetype": "text/x-python",
   "name": "python",
   "nbconvert_exporter": "python",
   "pygments_lexer": "ipython3",
   "version": "3.6.0"
  }
 },
 "nbformat": 4,
 "nbformat_minor": 2
}
